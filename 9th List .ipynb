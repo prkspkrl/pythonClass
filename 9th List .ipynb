{
 "cells": [
  {
   "cell_type": "code",
   "execution_count": null,
   "id": "3a2e3de0",
   "metadata": {},
   "outputs": [],
   "source": [
    "#indexing\n",
    "a= [\"Apple\", \"Ball\", \"cat\",\"Dog\", \"Fish\"]\n",
    "b = [1, 2,3,4,5] #array\n",
    "print(type(a))\n",
    "print(a[0:2])\n",
    "print(a[-1])\n",
    "print(b)"
   ]
  },
  {
   "cell_type": "code",
   "execution_count": null,
   "id": "38236af8",
   "metadata": {},
   "outputs": [],
   "source": [
    "a= [\"Apple\", \"Ball\", \"cat\",\"Dog\", \"Fish\"]\n",
    "a[0:5:2]"
   ]
  },
  {
   "cell_type": "code",
   "execution_count": null,
   "id": "784471e7",
   "metadata": {},
   "outputs": [],
   "source": [
    "#Ordering Concatc | dublicate"
   ]
  },
  {
   "cell_type": "code",
   "execution_count": null,
   "id": "4d26965e",
   "metadata": {},
   "outputs": [],
   "source": [
    "a =[\"Apple\",\"Apple\", \"Ball\", \"cat\",\"Dog\", \"Fish\"]\n",
    "b =[\"prakash\", \"ram\"]\n",
    "c = a+b\n",
    "d = b+a\n",
    "print(c)\n",
    "d"
   ]
  },
  {
   "cell_type": "code",
   "execution_count": null,
   "id": "4d51817a",
   "metadata": {},
   "outputs": [],
   "source": [
    "#mutable"
   ]
  },
  {
   "cell_type": "code",
   "execution_count": 1,
   "id": "a44de33a",
   "metadata": {},
   "outputs": [
    {
     "data": {
      "text/plain": [
       "['prakash', 'ram', 'Apple', 'Apple', 'Ball', 'cat', 'Dog', 'Fish', 'boy']"
      ]
     },
     "execution_count": 1,
     "metadata": {},
     "output_type": "execute_result"
    }
   ],
   "source": [
    "a= ['prakash', 'ram', 'Apple', 'Apple', 'Ball', 'cat', 'Dog', 'Fish'] #append\n",
    "a.append('boy')\n",
    "a"
   ]
  },
  {
   "cell_type": "code",
   "execution_count": null,
   "id": "99796e9b",
   "metadata": {},
   "outputs": [],
   "source": [
    "a= ['prakash', 'ram', 'Apple', 'Apple', 'Ball', 'cat', 'Dog', 'Fish'] #insert\n",
    "a.insert(1,'boy')\n",
    "a"
   ]
  },
  {
   "cell_type": "code",
   "execution_count": null,
   "id": "4c4a89e4",
   "metadata": {},
   "outputs": [],
   "source": [
    "a = ['prakash', 'ram', 'Apple', 'Apple', 'Ball'] #extend for multiple values\n",
    "b = ['a', 'x', 'c', 'd']\n",
    "a.extend(b)\n",
    "print(a)"
   ]
  },
  {
   "cell_type": "code",
   "execution_count": 1,
   "id": "2e34a2ac",
   "metadata": {},
   "outputs": [
    {
     "name": "stdout",
     "output_type": "stream",
     "text": [
      "enter n =3\n",
      "enter x =85\n",
      "enter x =96\n",
      "enter x =75\n",
      "[85, 96, 75]\n"
     ]
    }
   ],
   "source": [
    "a= list()\n",
    "n = int(input(\"enter n =\"))\n",
    "for i in range (n):\n",
    "    x =int(input(\"enter x =\"))\n",
    "    a.append(x)\n",
    "\n",
    "print(a)    "
   ]
  },
  {
   "cell_type": "code",
   "execution_count": 7,
   "id": "904ef7f2",
   "metadata": {},
   "outputs": [
    {
     "name": "stdout",
     "output_type": "stream",
     "text": [
      "sum = 256\n",
      "Max = 75\n",
      "min = 75\n",
      "[75, 85, 96]\n",
      "[75, 85, 96]\n"
     ]
    }
   ],
   "source": [
    "print(\"sum =\",sum(a))\n",
    "print(\"Max =\", min(a))\n",
    "print(\"min =\", min(a))\n",
    "a.sort() # assending\n",
    "print(a)\n",
    "a.reverse #decending\n",
    "print(a)"
   ]
  },
  {
   "cell_type": "code",
   "execution_count": 9,
   "id": "5258eb21",
   "metadata": {},
   "outputs": [
    {
     "name": "stdout",
     "output_type": "stream",
     "text": [
      "['Apple', 'Ball', 'Dog', 'Fish', 'apple', 'cat', 'prakash', 'ram']\n"
     ]
    }
   ],
   "source": [
    "#asseding\n",
    "a= ['prakash', 'ram', 'apple', 'Apple', 'Ball', 'cat', 'Dog', 'Fish']\n",
    "a.sort()\n",
    "print(a)"
   ]
  },
  {
   "cell_type": "code",
   "execution_count": 16,
   "id": "fb6b57d6",
   "metadata": {},
   "outputs": [
    {
     "name": "stdout",
     "output_type": "stream",
     "text": [
      "prakash\n",
      "ram\n",
      "apple\n",
      "Apple\n",
      "Ball\n",
      "cat\n",
      "Dog\n",
      "Fish\n"
     ]
    }
   ],
   "source": [
    "a= ['prakash', 'ram', 'apple', 'Apple', 'Ball', 'cat', 'Dog', 'Fish']\n",
    "for i in a:\n",
    "     print(i)\n",
    "   # if i =! 'apple':\n",
    "    #    print(i)"
   ]
  },
  {
   "cell_type": "code",
   "execution_count": null,
   "id": "7605a116",
   "metadata": {},
   "outputs": [],
   "source": []
  },
  {
   "cell_type": "code",
   "execution_count": 27,
   "id": "15566019",
   "metadata": {},
   "outputs": [
    {
     "name": "stdout",
     "output_type": "stream",
     "text": [
      "enter =ram\n",
      "yes\n"
     ]
    }
   ],
   "source": [
    "a= ['prakash', 'ram', 'apple', 'Apple', 'Ball', 'cat', 'Dog', 'Fish']\n",
    "values = input(\"enter =\")\n",
    "if values in a:\n",
    "    print(\"yes\")\n",
    "else:\n",
    "    print(\"No\")"
   ]
  },
  {
   "cell_type": "code",
   "execution_count": 22,
   "id": "d8fc0795",
   "metadata": {},
   "outputs": [
    {
     "name": "stdout",
     "output_type": "stream",
     "text": [
      "enter values = prakash\n",
      "no\n"
     ]
    }
   ],
   "source": [
    "a= ['prakash', 'ram', 'apple', 'Apple', 'Ball', 'cat', 'Dog', 'Fish']\n",
    "l = len(a)\n",
    "value = input(\"enter values = \")\n",
    "for i in range(l):\n",
    "    if a[i].lower()== values.lower():\n",
    "        print(\"yes\")\n",
    "        break\n",
    "else:\n",
    "    print(\"no\")\n"
   ]
  },
  {
   "cell_type": "code",
   "execution_count": 26,
   "id": "ca8d781d",
   "metadata": {},
   "outputs": [
    {
     "name": "stdout",
     "output_type": "stream",
     "text": [
      "2 Apple\n",
      "3 Apple\n"
     ]
    }
   ],
   "source": [
    "a= ['prakash', 'ram', 'Apple', 'Apple', 'Ball', 'cat', 'Dog', 'Fish']\n",
    "for i in range (len(a)):\n",
    "    if a[i] == 'Apple':\n",
    "        print(i, a[i])"
   ]
  },
  {
   "cell_type": "code",
   "execution_count": null,
   "id": "d1e7e93d",
   "metadata": {},
   "outputs": [],
   "source": []
  }
 ],
 "metadata": {
  "kernelspec": {
   "display_name": "Python 3 (ipykernel)",
   "language": "python",
   "name": "python3"
  },
  "language_info": {
   "codemirror_mode": {
    "name": "ipython",
    "version": 3
   },
   "file_extension": ".py",
   "mimetype": "text/x-python",
   "name": "python",
   "nbconvert_exporter": "python",
   "pygments_lexer": "ipython3",
   "version": "3.9.12"
  }
 },
 "nbformat": 4,
 "nbformat_minor": 5
}
