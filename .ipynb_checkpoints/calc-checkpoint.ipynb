{
 "cells": [
  {
   "cell_type": "code",
   "execution_count": null,
   "id": "83ccc539",
   "metadata": {},
   "outputs": [],
   "source": [
    "a = int(input(\"enter any number\"))\n",
    "b = int(input(\"enter number two\"))\n",
    "o = input(\"enter an operator\")\n",
    "if o == \"+\":\n",
    "    print (a+b)\n",
    "elif o == \"-\":\n",
    "    print(a-b)\n",
    "elif o == \"/\":\n",
    "    if b != 0:\n",
    "        print(a/b)\n",
    "    else:\n",
    "        print (\"The value of b can not be zero\")  \n",
    "        \n",
    "   \n",
    "elif o == \"*\":\n",
    "    print(a*b)\n",
    "else:\n",
    "    print(\"Wrong input\")\n"
   ]
  },
  {
   "cell_type": "code",
   "execution_count": null,
   "id": "c915d526",
   "metadata": {},
   "outputs": [],
   "source": [
    "True & False"
   ]
  },
  {
   "cell_type": "code",
   "execution_count": null,
   "id": "bb057058",
   "metadata": {},
   "outputs": [],
   "source": [
    "n = int(input(\"enter n =\"))\n",
    "if n>0 and n%2==0:\n",
    "    print(\"the value of n is grater then 0 \")\n",
    "else:\n",
    "    print(\"both condn are not true\")"
   ]
  },
  {
   "cell_type": "code",
   "execution_count": null,
   "id": "0c947dab",
   "metadata": {},
   "outputs": [],
   "source": []
  },
  {
   "cell_type": "code",
   "execution_count": null,
   "id": "fcaf0caf",
   "metadata": {},
   "outputs": [],
   "source": []
  }
 ],
 "metadata": {
  "kernelspec": {
   "display_name": "Python 3 (ipykernel)",
   "language": "python",
   "name": "python3"
  },
  "language_info": {
   "codemirror_mode": {
    "name": "ipython",
    "version": 3
   },
   "file_extension": ".py",
   "mimetype": "text/x-python",
   "name": "python",
   "nbconvert_exporter": "python",
   "pygments_lexer": "ipython3",
   "version": "3.9.12"
  }
 },
 "nbformat": 4,
 "nbformat_minor": 5
}
