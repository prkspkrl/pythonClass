{
 "cells": [
  {
   "cell_type": "code",
   "execution_count": null,
   "id": "7589af97",
   "metadata": {},
   "outputs": [],
   "source": [
    "#To search we use \n",
    "a= \"Ram Shyam prakash hari aayush trbn\"\n",
    "if \"ram\" in a:\n",
    "    print(\"yes\",a.count(ram))\n",
    "else:\n",
    "    print(\"no\")"
   ]
  },
  {
   "cell_type": "code",
   "execution_count": null,
   "id": "44ad5c62",
   "metadata": {},
   "outputs": [],
   "source": [
    "a= \"Ram Shyam prakash hari aayush trbn\".lower()\n",
    "name = input(\"Enter name =\").lower()\n",
    "if name in a:\n",
    "    print(\"yes\",a.count(name))\n",
    "else:\n",
    "    print(\"no\")"
   ]
  },
  {
   "cell_type": "code",
   "execution_count": null,
   "id": "eb19988a",
   "metadata": {},
   "outputs": [],
   "source": [
    "a= \"Ram Shyam prakash hari aayush trbn\"\n",
    "a= a.lower()\n",
    "print(a)"
   ]
  },
  {
   "cell_type": "code",
   "execution_count": null,
   "id": "de6274dc",
   "metadata": {},
   "outputs": [],
   "source": [
    "a= \"Ram Shyam prakash hari aayush trbn\"\n",
    "print(a.lower())\n",
    "print(a)"
   ]
  },
  {
   "cell_type": "code",
   "execution_count": null,
   "id": "7ef90802",
   "metadata": {},
   "outputs": [],
   "source": [
    "#To replace\n",
    "a= \"Ram Shyam prakash hari aayush trbn\"\n",
    "a = a.replace('trbn','tribhuwan')\n",
    "print(a)"
   ]
  },
  {
   "cell_type": "code",
   "execution_count": null,
   "id": "db15feb7",
   "metadata": {},
   "outputs": [],
   "source": [
    "#To replace\n",
    "a= \"Ram Shyam prakash hari aayush trbn\"\n",
    "a = a.replace('trbn','harishar')\n",
    "print(a)"
   ]
  },
  {
   "cell_type": "code",
   "execution_count": null,
   "id": "0dc9a8de",
   "metadata": {},
   "outputs": [],
   "source": [
    "#Write a program to search any value in a strings and replace it by using function (half already done)\n",
    "a= \"Ram Shyam prakash hari prakash aayush trbn\".lower()\n",
    "name = input(\"Enter name =\").lower()\n",
    "if name in a:\n",
    "    print(\"yes available\")\n",
    "    rt = input(\"enter text to replace  \"+ name)\n",
    "    bac = a.replace(name,rt)\n",
    "    print(bac)\n",
    "    \n",
    "else:\n",
    "    print(\"no\")"
   ]
  },
  {
   "cell_type": "code",
   "execution_count": 6,
   "id": "169c7815",
   "metadata": {},
   "outputs": [
    {
     "name": "stdout",
     "output_type": "stream",
     "text": [
      "Enter name =prakash\n",
      "yes available\n",
      "would you like  to replace this name? type yesyes\n",
      "enter text to replace  prakashpravin\n",
      "ram shyam pravin hari pravin aayush trbn\n"
     ]
    }
   ],
   "source": [
    "#Write a program to search any value in a strings and replace it by using function\n",
    "a= \"Ram Shyam prakash hari prakash aayush trbn\".lower()\n",
    "name = input(\"Enter name =\").lower()\n",
    "if name in a:\n",
    "    print(\"yes available\")\n",
    "    confirmation = input(\"would you like  to replace this name? type yes\")\n",
    "    if confirmation == 'yes':\n",
    "        rt = input(\"enter text to replace  \"+ name)\n",
    "        bac = a.replace(name,rt)\n",
    "        print(bac)\n",
    "    else:\n",
    "        print(\"no change in list\")\n",
    "        print(a)\n",
    "    \n",
    "else:\n",
    "    print(\"not in list\")"
   ]
  },
  {
   "cell_type": "code",
   "execution_count": null,
   "id": "50d163b7",
   "metadata": {},
   "outputs": [],
   "source": []
  }
 ],
 "metadata": {
  "kernelspec": {
   "display_name": "Python 3 (ipykernel)",
   "language": "python",
   "name": "python3"
  },
  "language_info": {
   "codemirror_mode": {
    "name": "ipython",
    "version": 3
   },
   "file_extension": ".py",
   "mimetype": "text/x-python",
   "name": "python",
   "nbconvert_exporter": "python",
   "pygments_lexer": "ipython3",
   "version": "3.9.12"
  }
 },
 "nbformat": 4,
 "nbformat_minor": 5
}
