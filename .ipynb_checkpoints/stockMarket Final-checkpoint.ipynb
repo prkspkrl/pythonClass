{
 "cells": [
  {
   "cell_type": "code",
   "execution_count": 14,
   "id": "30a5720d",
   "metadata": {},
   "outputs": [
    {
     "name": "stderr",
     "output_type": "stream",
     "text": [
      "C:\\ProgramData\\Anaconda3\\lib\\site-packages\\bs4\\__init__.py:404: MarkupResemblesLocatorWarning:\n",
      "\n",
      "The input looks more like a URL than markup. You may want to use an HTTP client like requests to get the document behind the URL, and feed that document to Beautiful Soup.\n",
      "\n"
     ]
    }
   ],
   "source": [
    "import ipdb\n",
    "from bs4 import BeautifulSoup\n",
    "import requests\n",
    "url = BeautifulSoup('http://www.nepalstock.com/main/todays_price/index/1/', 'html.parser')\n",
    "soup=requests.get(url)\n",
    "# print(soup)\n",
    "code = soup.text\n",
    "# print(code)\n",
    "lxml_code = BeautifulSoup(code, \"lxml\")\n",
    "# print(lxml_code)\n"
   ]
  },
  {
   "cell_type": "code",
   "execution_count": 15,
   "id": "e1b063c7",
   "metadata": {},
   "outputs": [],
   "source": [
    "table_code = lxml_code.table\n",
    "# tags = table_code.find('tr',class_ = 'unique')\n",
    "\n",
    "tags = table_code.find_all('tr')\n",
    "# tags"
   ]
  },
  {
   "cell_type": "code",
   "execution_count": 3,
   "id": "d60caf66",
   "metadata": {},
   "outputs": [],
   "source": [
    "\n",
    "# tagbs = table_code.find_all('tr')\n",
    "# tagbs"
   ]
  },
  {
   "cell_type": "code",
   "execution_count": 16,
   "id": "d98ae1d3",
   "metadata": {},
   "outputs": [],
   "source": [
    "raw_data = []\n",
    "for tag in tags:\n",
    "    x = tag.text.split('\\n')[1:-1]\n",
    "    \n",
    "    if x[0] != \"\" :\n",
    "        x = [i for i in x if i.strip() != \"\"] #\n",
    "#         import ipdb; ipdb.set_trace()\n",
    "        raw_data.append(x) \n",
    "#         print(raw_data)\n",
    "#         print(i)\n",
    "\n",
    "# print(raw_data)"
   ]
  },
  {
   "cell_type": "code",
   "execution_count": 5,
   "id": "6d25178f",
   "metadata": {},
   "outputs": [],
   "source": [
    "import csv\n",
    "with open('stock.csv','w') as file:\n",
    "    x = csv.writer(file)\n",
    "    x.writerows(raw_data)"
   ]
  },
  {
   "cell_type": "code",
   "execution_count": 6,
   "id": "f5cf6731",
   "metadata": {
    "scrolled": true
   },
   "outputs": [
    {
     "data": {
      "text/html": [
       "<div>\n",
       "<style scoped>\n",
       "    .dataframe tbody tr th:only-of-type {\n",
       "        vertical-align: middle;\n",
       "    }\n",
       "\n",
       "    .dataframe tbody tr th {\n",
       "        vertical-align: top;\n",
       "    }\n",
       "\n",
       "    .dataframe thead th {\n",
       "        text-align: right;\n",
       "    }\n",
       "</style>\n",
       "<table border=\"1\" class=\"dataframe\">\n",
       "  <thead>\n",
       "    <tr style=\"text-align: right;\">\n",
       "      <th></th>\n",
       "      <th>S.N.</th>\n",
       "      <th>Traded Companies</th>\n",
       "      <th>No. Of Transaction</th>\n",
       "      <th>Max Price</th>\n",
       "      <th>Min Price</th>\n",
       "      <th>Closing Price</th>\n",
       "      <th>Traded Shares</th>\n",
       "      <th>Amount</th>\n",
       "      <th>Previous Closing</th>\n",
       "      <th>Difference Rs.</th>\n",
       "    </tr>\n",
       "  </thead>\n",
       "  <tbody>\n",
       "    <tr>\n",
       "      <th>0</th>\n",
       "      <td>1</td>\n",
       "      <td>10% Prime Debenture 2088</td>\n",
       "      <td>5.0</td>\n",
       "      <td>825.5</td>\n",
       "      <td>821.3</td>\n",
       "      <td>825.5</td>\n",
       "      <td>100.0</td>\n",
       "      <td>82249.5</td>\n",
       "      <td>837.0</td>\n",
       "      <td>-11.50</td>\n",
       "    </tr>\n",
       "    <tr>\n",
       "      <th>1</th>\n",
       "      <td>2</td>\n",
       "      <td>10.25% GLOBAL IME BANK LTD. DEBENTURE 2080/81</td>\n",
       "      <td>3.0</td>\n",
       "      <td>980.0</td>\n",
       "      <td>980.0</td>\n",
       "      <td>980.0</td>\n",
       "      <td>75.0</td>\n",
       "      <td>73500.0</td>\n",
       "      <td>965.0</td>\n",
       "      <td>15.00</td>\n",
       "    </tr>\n",
       "    <tr>\n",
       "      <th>2</th>\n",
       "      <td>3</td>\n",
       "      <td>11% NIC Asia Debenture 082/83</td>\n",
       "      <td>2.0</td>\n",
       "      <td>1023.9</td>\n",
       "      <td>1023.9</td>\n",
       "      <td>1023.9</td>\n",
       "      <td>200.0</td>\n",
       "      <td>204780.0</td>\n",
       "      <td>1044.7</td>\n",
       "      <td>-20.80</td>\n",
       "    </tr>\n",
       "    <tr>\n",
       "      <th>3</th>\n",
       "      <td>4</td>\n",
       "      <td>9.5% NCC Debenture 2086</td>\n",
       "      <td>1.0</td>\n",
       "      <td>875.2</td>\n",
       "      <td>875.2</td>\n",
       "      <td>875.2</td>\n",
       "      <td>10.0</td>\n",
       "      <td>8752.0</td>\n",
       "      <td>860.0</td>\n",
       "      <td>15.20</td>\n",
       "    </tr>\n",
       "    <tr>\n",
       "      <th>4</th>\n",
       "      <td>5</td>\n",
       "      <td>Aarambha Chautari Laghubitta Bittiya Sanstha L...</td>\n",
       "      <td>34.0</td>\n",
       "      <td>740.0</td>\n",
       "      <td>727.0</td>\n",
       "      <td>730.0</td>\n",
       "      <td>1073.0</td>\n",
       "      <td>791044.5</td>\n",
       "      <td>731.0</td>\n",
       "      <td>-1.00</td>\n",
       "    </tr>\n",
       "    <tr>\n",
       "      <th>5</th>\n",
       "      <td>6</td>\n",
       "      <td>Agricultural Development Bank Limited</td>\n",
       "      <td>173.0</td>\n",
       "      <td>329.0</td>\n",
       "      <td>322.0</td>\n",
       "      <td>324.0</td>\n",
       "      <td>19128.0</td>\n",
       "      <td>6213082.5</td>\n",
       "      <td>324.0</td>\n",
       "      <td>0.00</td>\n",
       "    </tr>\n",
       "    <tr>\n",
       "      <th>6</th>\n",
       "      <td>7</td>\n",
       "      <td>Ankhu Khola Jalvidhyut Company Ltd</td>\n",
       "      <td>294.0</td>\n",
       "      <td>185.5</td>\n",
       "      <td>176.0</td>\n",
       "      <td>179.9</td>\n",
       "      <td>49157.0</td>\n",
       "      <td>8903766.6</td>\n",
       "      <td>179.0</td>\n",
       "      <td>0.90</td>\n",
       "    </tr>\n",
       "    <tr>\n",
       "      <th>7</th>\n",
       "      <td>8</td>\n",
       "      <td>Api Power Company Ltd.</td>\n",
       "      <td>678.0</td>\n",
       "      <td>223.0</td>\n",
       "      <td>212.0</td>\n",
       "      <td>215.5</td>\n",
       "      <td>136203.0</td>\n",
       "      <td>29791262.8</td>\n",
       "      <td>215.0</td>\n",
       "      <td>0.50</td>\n",
       "    </tr>\n",
       "    <tr>\n",
       "      <th>8</th>\n",
       "      <td>9</td>\n",
       "      <td>Arun Kabeli Power Ltd.</td>\n",
       "      <td>515.0</td>\n",
       "      <td>410.0</td>\n",
       "      <td>393.0</td>\n",
       "      <td>407.9</td>\n",
       "      <td>84395.0</td>\n",
       "      <td>34082251.1</td>\n",
       "      <td>397.1</td>\n",
       "      <td>10.80</td>\n",
       "    </tr>\n",
       "    <tr>\n",
       "      <th>9</th>\n",
       "      <td>10</td>\n",
       "      <td>Arun Valley Hydropower Development Co. Ltd.</td>\n",
       "      <td>353.0</td>\n",
       "      <td>287.0</td>\n",
       "      <td>271.0</td>\n",
       "      <td>278.0</td>\n",
       "      <td>73562.0</td>\n",
       "      <td>20619412.3</td>\n",
       "      <td>276.0</td>\n",
       "      <td>2.00</td>\n",
       "    </tr>\n",
       "    <tr>\n",
       "      <th>10</th>\n",
       "      <td>11</td>\n",
       "      <td>Asha Laghubitta Bittiya Sanstha Ltd</td>\n",
       "      <td>33.0</td>\n",
       "      <td>996.0</td>\n",
       "      <td>957.0</td>\n",
       "      <td>988.0</td>\n",
       "      <td>737.0</td>\n",
       "      <td>713883.7</td>\n",
       "      <td>985.0</td>\n",
       "      <td>3.00</td>\n",
       "    </tr>\n",
       "    <tr>\n",
       "      <th>11</th>\n",
       "      <td>12</td>\n",
       "      <td>Asian Life Insurance Co. Limited</td>\n",
       "      <td>74.0</td>\n",
       "      <td>460.0</td>\n",
       "      <td>445.0</td>\n",
       "      <td>451.8</td>\n",
       "      <td>6735.0</td>\n",
       "      <td>3058316.5</td>\n",
       "      <td>451.6</td>\n",
       "      <td>0.20</td>\n",
       "    </tr>\n",
       "    <tr>\n",
       "      <th>12</th>\n",
       "      <td>13</td>\n",
       "      <td>Aviyan Laghubitta Bittiya Sanstha Limited</td>\n",
       "      <td>387.0</td>\n",
       "      <td>800.0</td>\n",
       "      <td>750.0</td>\n",
       "      <td>785.0</td>\n",
       "      <td>6290.0</td>\n",
       "      <td>4933983.5</td>\n",
       "      <td>778.0</td>\n",
       "      <td>7.00</td>\n",
       "    </tr>\n",
       "    <tr>\n",
       "      <th>13</th>\n",
       "      <td>14</td>\n",
       "      <td>Balephi Hydropower Limited</td>\n",
       "      <td>67.0</td>\n",
       "      <td>250.0</td>\n",
       "      <td>235.4</td>\n",
       "      <td>244.0</td>\n",
       "      <td>4351.0</td>\n",
       "      <td>1050280.0</td>\n",
       "      <td>240.0</td>\n",
       "      <td>4.00</td>\n",
       "    </tr>\n",
       "    <tr>\n",
       "      <th>14</th>\n",
       "      <td>15</td>\n",
       "      <td>Barun Hydropower Co. Ltd.</td>\n",
       "      <td>42.0</td>\n",
       "      <td>219.7</td>\n",
       "      <td>211.0</td>\n",
       "      <td>216.5</td>\n",
       "      <td>3135.0</td>\n",
       "      <td>680568.8</td>\n",
       "      <td>215.0</td>\n",
       "      <td>1.50</td>\n",
       "    </tr>\n",
       "    <tr>\n",
       "      <th>15</th>\n",
       "      <td>16</td>\n",
       "      <td>Best Finance Company Ltd.</td>\n",
       "      <td>118.0</td>\n",
       "      <td>333.0</td>\n",
       "      <td>311.1</td>\n",
       "      <td>324.9</td>\n",
       "      <td>15244.0</td>\n",
       "      <td>4931613.2</td>\n",
       "      <td>317.0</td>\n",
       "      <td>7.90</td>\n",
       "    </tr>\n",
       "    <tr>\n",
       "      <th>16</th>\n",
       "      <td>17</td>\n",
       "      <td>Bindhyabasini Hydropower Development Company L...</td>\n",
       "      <td>96.0</td>\n",
       "      <td>342.0</td>\n",
       "      <td>316.0</td>\n",
       "      <td>333.4</td>\n",
       "      <td>8536.0</td>\n",
       "      <td>2820104.1</td>\n",
       "      <td>328.2</td>\n",
       "      <td>5.20</td>\n",
       "    </tr>\n",
       "    <tr>\n",
       "      <th>17</th>\n",
       "      <td>18</td>\n",
       "      <td>Bishal Bazar Company Limited</td>\n",
       "      <td>7.0</td>\n",
       "      <td>3377.0</td>\n",
       "      <td>3310.0</td>\n",
       "      <td>3377.0</td>\n",
       "      <td>90.0</td>\n",
       "      <td>299370.0</td>\n",
       "      <td>3324.0</td>\n",
       "      <td>53.00</td>\n",
       "    </tr>\n",
       "    <tr>\n",
       "      <th>18</th>\n",
       "      <td>19</td>\n",
       "      <td>Bottlers Nepal (Terai) Limited</td>\n",
       "      <td>11.0</td>\n",
       "      <td>12413.0</td>\n",
       "      <td>12164.8</td>\n",
       "      <td>12164.8</td>\n",
       "      <td>140.0</td>\n",
       "      <td>1725443.0</td>\n",
       "      <td>12170.0</td>\n",
       "      <td>-5.20</td>\n",
       "    </tr>\n",
       "    <tr>\n",
       "      <th>19</th>\n",
       "      <td>20</td>\n",
       "      <td>Buddha Bhumi Nepal Hydropower Company Limited</td>\n",
       "      <td>47.0</td>\n",
       "      <td>379.0</td>\n",
       "      <td>350.0</td>\n",
       "      <td>365.0</td>\n",
       "      <td>2970.0</td>\n",
       "      <td>1068646.0</td>\n",
       "      <td>360.0</td>\n",
       "      <td>5.00</td>\n",
       "    </tr>\n",
       "    <tr>\n",
       "      <th>20</th>\n",
       "      <td>Page 1/12 12345678910NextLast»</td>\n",
       "      <td>NaN</td>\n",
       "      <td>NaN</td>\n",
       "      <td>NaN</td>\n",
       "      <td>NaN</td>\n",
       "      <td>NaN</td>\n",
       "      <td>NaN</td>\n",
       "      <td>NaN</td>\n",
       "      <td>NaN</td>\n",
       "      <td>NaN</td>\n",
       "    </tr>\n",
       "    <tr>\n",
       "      <th>21</th>\n",
       "      <td>Total Amount Rs.</td>\n",
       "      <td>1,467,737,341</td>\n",
       "      <td>NaN</td>\n",
       "      <td>NaN</td>\n",
       "      <td>NaN</td>\n",
       "      <td>NaN</td>\n",
       "      <td>NaN</td>\n",
       "      <td>NaN</td>\n",
       "      <td>NaN</td>\n",
       "      <td>NaN</td>\n",
       "    </tr>\n",
       "    <tr>\n",
       "      <th>22</th>\n",
       "      <td>Total Quantity</td>\n",
       "      <td>4,343,433</td>\n",
       "      <td>NaN</td>\n",
       "      <td>NaN</td>\n",
       "      <td>NaN</td>\n",
       "      <td>NaN</td>\n",
       "      <td>NaN</td>\n",
       "      <td>NaN</td>\n",
       "      <td>NaN</td>\n",
       "      <td>NaN</td>\n",
       "    </tr>\n",
       "    <tr>\n",
       "      <th>23</th>\n",
       "      <td>Total No of Transactions</td>\n",
       "      <td>29,023</td>\n",
       "      <td>NaN</td>\n",
       "      <td>NaN</td>\n",
       "      <td>NaN</td>\n",
       "      <td>NaN</td>\n",
       "      <td>NaN</td>\n",
       "      <td>NaN</td>\n",
       "      <td>NaN</td>\n",
       "      <td>NaN</td>\n",
       "    </tr>\n",
       "  </tbody>\n",
       "</table>\n",
       "</div>"
      ],
      "text/plain": [
       "                               S.N.  \\\n",
       "0                                 1   \n",
       "1                                 2   \n",
       "2                                 3   \n",
       "3                                 4   \n",
       "4                                 5   \n",
       "5                                 6   \n",
       "6                                 7   \n",
       "7                                 8   \n",
       "8                                 9   \n",
       "9                                10   \n",
       "10                               11   \n",
       "11                               12   \n",
       "12                               13   \n",
       "13                               14   \n",
       "14                               15   \n",
       "15                               16   \n",
       "16                               17   \n",
       "17                               18   \n",
       "18                               19   \n",
       "19                               20   \n",
       "20  Page 1/12 12345678910NextLast»   \n",
       "21                 Total Amount Rs.   \n",
       "22                   Total Quantity   \n",
       "23         Total No of Transactions   \n",
       "\n",
       "                                     Traded Companies  No. Of Transaction  \\\n",
       "0                            10% Prime Debenture 2088                 5.0   \n",
       "1       10.25% GLOBAL IME BANK LTD. DEBENTURE 2080/81                 3.0   \n",
       "2                       11% NIC Asia Debenture 082/83                 2.0   \n",
       "3                             9.5% NCC Debenture 2086                 1.0   \n",
       "4   Aarambha Chautari Laghubitta Bittiya Sanstha L...                34.0   \n",
       "5               Agricultural Development Bank Limited               173.0   \n",
       "6                  Ankhu Khola Jalvidhyut Company Ltd               294.0   \n",
       "7                              Api Power Company Ltd.               678.0   \n",
       "8                              Arun Kabeli Power Ltd.               515.0   \n",
       "9         Arun Valley Hydropower Development Co. Ltd.               353.0   \n",
       "10                Asha Laghubitta Bittiya Sanstha Ltd                33.0   \n",
       "11                   Asian Life Insurance Co. Limited                74.0   \n",
       "12          Aviyan Laghubitta Bittiya Sanstha Limited               387.0   \n",
       "13                         Balephi Hydropower Limited                67.0   \n",
       "14                          Barun Hydropower Co. Ltd.                42.0   \n",
       "15                          Best Finance Company Ltd.               118.0   \n",
       "16  Bindhyabasini Hydropower Development Company L...                96.0   \n",
       "17                       Bishal Bazar Company Limited                 7.0   \n",
       "18                     Bottlers Nepal (Terai) Limited                11.0   \n",
       "19      Buddha Bhumi Nepal Hydropower Company Limited                47.0   \n",
       "20                                                NaN                 NaN   \n",
       "21                                      1,467,737,341                 NaN   \n",
       "22                                          4,343,433                 NaN   \n",
       "23                                             29,023                 NaN   \n",
       "\n",
       "    Max Price  Min Price  Closing Price  Traded Shares      Amount  \\\n",
       "0       825.5      821.3          825.5          100.0     82249.5   \n",
       "1       980.0      980.0          980.0           75.0     73500.0   \n",
       "2      1023.9     1023.9         1023.9          200.0    204780.0   \n",
       "3       875.2      875.2          875.2           10.0      8752.0   \n",
       "4       740.0      727.0          730.0         1073.0    791044.5   \n",
       "5       329.0      322.0          324.0        19128.0   6213082.5   \n",
       "6       185.5      176.0          179.9        49157.0   8903766.6   \n",
       "7       223.0      212.0          215.5       136203.0  29791262.8   \n",
       "8       410.0      393.0          407.9        84395.0  34082251.1   \n",
       "9       287.0      271.0          278.0        73562.0  20619412.3   \n",
       "10      996.0      957.0          988.0          737.0    713883.7   \n",
       "11      460.0      445.0          451.8         6735.0   3058316.5   \n",
       "12      800.0      750.0          785.0         6290.0   4933983.5   \n",
       "13      250.0      235.4          244.0         4351.0   1050280.0   \n",
       "14      219.7      211.0          216.5         3135.0    680568.8   \n",
       "15      333.0      311.1          324.9        15244.0   4931613.2   \n",
       "16      342.0      316.0          333.4         8536.0   2820104.1   \n",
       "17     3377.0     3310.0         3377.0           90.0    299370.0   \n",
       "18    12413.0    12164.8        12164.8          140.0   1725443.0   \n",
       "19      379.0      350.0          365.0         2970.0   1068646.0   \n",
       "20        NaN        NaN            NaN            NaN         NaN   \n",
       "21        NaN        NaN            NaN            NaN         NaN   \n",
       "22        NaN        NaN            NaN            NaN         NaN   \n",
       "23        NaN        NaN            NaN            NaN         NaN   \n",
       "\n",
       "    Previous Closing Difference Rs.  \n",
       "0              837.0        -11.50   \n",
       "1              965.0         15.00   \n",
       "2             1044.7        -20.80   \n",
       "3              860.0         15.20   \n",
       "4              731.0         -1.00   \n",
       "5              324.0          0.00   \n",
       "6              179.0          0.90   \n",
       "7              215.0          0.50   \n",
       "8              397.1         10.80   \n",
       "9              276.0          2.00   \n",
       "10             985.0          3.00   \n",
       "11             451.6          0.20   \n",
       "12             778.0          7.00   \n",
       "13             240.0          4.00   \n",
       "14             215.0          1.50   \n",
       "15             317.0          7.90   \n",
       "16             328.2          5.20   \n",
       "17            3324.0         53.00   \n",
       "18           12170.0         -5.20   \n",
       "19             360.0          5.00   \n",
       "20               NaN            NaN  \n",
       "21               NaN            NaN  \n",
       "22               NaN            NaN  \n",
       "23               NaN            NaN  "
      ]
     },
     "execution_count": 6,
     "metadata": {},
     "output_type": "execute_result"
    }
   ],
   "source": [
    "#Data vesulises\n",
    "import csv\n",
    "import pandas as pd\n",
    "df = pd.read_csv('stock.csv',encoding='latin1')\n",
    "df\n",
    "# df['A'] = df['A'].str.strip()"
   ]
  },
  {
   "cell_type": "code",
   "execution_count": 7,
   "id": "09119e63",
   "metadata": {},
   "outputs": [
    {
     "data": {
      "text/html": [
       "<div>\n",
       "<style scoped>\n",
       "    .dataframe tbody tr th:only-of-type {\n",
       "        vertical-align: middle;\n",
       "    }\n",
       "\n",
       "    .dataframe tbody tr th {\n",
       "        vertical-align: top;\n",
       "    }\n",
       "\n",
       "    .dataframe thead th {\n",
       "        text-align: right;\n",
       "    }\n",
       "</style>\n",
       "<table border=\"1\" class=\"dataframe\">\n",
       "  <thead>\n",
       "    <tr style=\"text-align: right;\">\n",
       "      <th></th>\n",
       "      <th>S.N.</th>\n",
       "      <th>Traded Companies</th>\n",
       "      <th>No. Of Transaction</th>\n",
       "      <th>Max Price</th>\n",
       "      <th>Min Price</th>\n",
       "      <th>Closing Price</th>\n",
       "      <th>Traded Shares</th>\n",
       "      <th>Amount</th>\n",
       "      <th>Previous Closing</th>\n",
       "      <th>Difference Rs.</th>\n",
       "    </tr>\n",
       "  </thead>\n",
       "  <tbody>\n",
       "    <tr>\n",
       "      <th>0</th>\n",
       "      <td>1</td>\n",
       "      <td>10% Prime Debenture 2088</td>\n",
       "      <td>5.0</td>\n",
       "      <td>825.5</td>\n",
       "      <td>821.3</td>\n",
       "      <td>825.5</td>\n",
       "      <td>100.0</td>\n",
       "      <td>82249.5</td>\n",
       "      <td>837.0</td>\n",
       "      <td>-11.50</td>\n",
       "    </tr>\n",
       "    <tr>\n",
       "      <th>1</th>\n",
       "      <td>2</td>\n",
       "      <td>10.25% GLOBAL IME BANK LTD. DEBENTURE 2080/81</td>\n",
       "      <td>3.0</td>\n",
       "      <td>980.0</td>\n",
       "      <td>980.0</td>\n",
       "      <td>980.0</td>\n",
       "      <td>75.0</td>\n",
       "      <td>73500.0</td>\n",
       "      <td>965.0</td>\n",
       "      <td>15.00</td>\n",
       "    </tr>\n",
       "    <tr>\n",
       "      <th>2</th>\n",
       "      <td>3</td>\n",
       "      <td>11% NIC Asia Debenture 082/83</td>\n",
       "      <td>2.0</td>\n",
       "      <td>1023.9</td>\n",
       "      <td>1023.9</td>\n",
       "      <td>1023.9</td>\n",
       "      <td>200.0</td>\n",
       "      <td>204780.0</td>\n",
       "      <td>1044.7</td>\n",
       "      <td>-20.80</td>\n",
       "    </tr>\n",
       "    <tr>\n",
       "      <th>3</th>\n",
       "      <td>4</td>\n",
       "      <td>9.5% NCC Debenture 2086</td>\n",
       "      <td>1.0</td>\n",
       "      <td>875.2</td>\n",
       "      <td>875.2</td>\n",
       "      <td>875.2</td>\n",
       "      <td>10.0</td>\n",
       "      <td>8752.0</td>\n",
       "      <td>860.0</td>\n",
       "      <td>15.20</td>\n",
       "    </tr>\n",
       "    <tr>\n",
       "      <th>4</th>\n",
       "      <td>5</td>\n",
       "      <td>Aarambha Chautari Laghubitta Bittiya Sanstha L...</td>\n",
       "      <td>34.0</td>\n",
       "      <td>740.0</td>\n",
       "      <td>727.0</td>\n",
       "      <td>730.0</td>\n",
       "      <td>1073.0</td>\n",
       "      <td>791044.5</td>\n",
       "      <td>731.0</td>\n",
       "      <td>-1.00</td>\n",
       "    </tr>\n",
       "    <tr>\n",
       "      <th>5</th>\n",
       "      <td>6</td>\n",
       "      <td>Agricultural Development Bank Limited</td>\n",
       "      <td>173.0</td>\n",
       "      <td>329.0</td>\n",
       "      <td>322.0</td>\n",
       "      <td>324.0</td>\n",
       "      <td>19128.0</td>\n",
       "      <td>6213082.5</td>\n",
       "      <td>324.0</td>\n",
       "      <td>0.00</td>\n",
       "    </tr>\n",
       "    <tr>\n",
       "      <th>6</th>\n",
       "      <td>7</td>\n",
       "      <td>Ankhu Khola Jalvidhyut Company Ltd</td>\n",
       "      <td>294.0</td>\n",
       "      <td>185.5</td>\n",
       "      <td>176.0</td>\n",
       "      <td>179.9</td>\n",
       "      <td>49157.0</td>\n",
       "      <td>8903766.6</td>\n",
       "      <td>179.0</td>\n",
       "      <td>0.90</td>\n",
       "    </tr>\n",
       "    <tr>\n",
       "      <th>7</th>\n",
       "      <td>8</td>\n",
       "      <td>Api Power Company Ltd.</td>\n",
       "      <td>678.0</td>\n",
       "      <td>223.0</td>\n",
       "      <td>212.0</td>\n",
       "      <td>215.5</td>\n",
       "      <td>136203.0</td>\n",
       "      <td>29791262.8</td>\n",
       "      <td>215.0</td>\n",
       "      <td>0.50</td>\n",
       "    </tr>\n",
       "    <tr>\n",
       "      <th>8</th>\n",
       "      <td>9</td>\n",
       "      <td>Arun Kabeli Power Ltd.</td>\n",
       "      <td>515.0</td>\n",
       "      <td>410.0</td>\n",
       "      <td>393.0</td>\n",
       "      <td>407.9</td>\n",
       "      <td>84395.0</td>\n",
       "      <td>34082251.1</td>\n",
       "      <td>397.1</td>\n",
       "      <td>10.80</td>\n",
       "    </tr>\n",
       "    <tr>\n",
       "      <th>9</th>\n",
       "      <td>10</td>\n",
       "      <td>Arun Valley Hydropower Development Co. Ltd.</td>\n",
       "      <td>353.0</td>\n",
       "      <td>287.0</td>\n",
       "      <td>271.0</td>\n",
       "      <td>278.0</td>\n",
       "      <td>73562.0</td>\n",
       "      <td>20619412.3</td>\n",
       "      <td>276.0</td>\n",
       "      <td>2.00</td>\n",
       "    </tr>\n",
       "  </tbody>\n",
       "</table>\n",
       "</div>"
      ],
      "text/plain": [
       "  S.N.                                   Traded Companies  No. Of Transaction  \\\n",
       "0    1                           10% Prime Debenture 2088                 5.0   \n",
       "1    2      10.25% GLOBAL IME BANK LTD. DEBENTURE 2080/81                 3.0   \n",
       "2    3                      11% NIC Asia Debenture 082/83                 2.0   \n",
       "3    4                            9.5% NCC Debenture 2086                 1.0   \n",
       "4    5  Aarambha Chautari Laghubitta Bittiya Sanstha L...                34.0   \n",
       "5    6              Agricultural Development Bank Limited               173.0   \n",
       "6    7                 Ankhu Khola Jalvidhyut Company Ltd               294.0   \n",
       "7    8                             Api Power Company Ltd.               678.0   \n",
       "8    9                             Arun Kabeli Power Ltd.               515.0   \n",
       "9   10        Arun Valley Hydropower Development Co. Ltd.               353.0   \n",
       "\n",
       "   Max Price  Min Price  Closing Price  Traded Shares      Amount  \\\n",
       "0      825.5      821.3          825.5          100.0     82249.5   \n",
       "1      980.0      980.0          980.0           75.0     73500.0   \n",
       "2     1023.9     1023.9         1023.9          200.0    204780.0   \n",
       "3      875.2      875.2          875.2           10.0      8752.0   \n",
       "4      740.0      727.0          730.0         1073.0    791044.5   \n",
       "5      329.0      322.0          324.0        19128.0   6213082.5   \n",
       "6      185.5      176.0          179.9        49157.0   8903766.6   \n",
       "7      223.0      212.0          215.5       136203.0  29791262.8   \n",
       "8      410.0      393.0          407.9        84395.0  34082251.1   \n",
       "9      287.0      271.0          278.0        73562.0  20619412.3   \n",
       "\n",
       "   Previous Closing Difference Rs.  \n",
       "0             837.0        -11.50   \n",
       "1             965.0         15.00   \n",
       "2            1044.7        -20.80   \n",
       "3             860.0         15.20   \n",
       "4             731.0         -1.00   \n",
       "5             324.0          0.00   \n",
       "6             179.0          0.90   \n",
       "7             215.0          0.50   \n",
       "8             397.1         10.80   \n",
       "9             276.0          2.00   "
      ]
     },
     "execution_count": 7,
     "metadata": {},
     "output_type": "execute_result"
    }
   ],
   "source": [
    "#list(df.columns.values)[1:] To print column that mean sn, trade company\n",
    "df1 = df.head(10)\n",
    "df1"
   ]
  },
  {
   "cell_type": "code",
   "execution_count": 12,
   "id": "e3d02532",
   "metadata": {},
   "outputs": [],
   "source": [
    "company = list(df['Traded Companies'][0:10])\n",
    "max_price = list(df['Max Price'][0:10])"
   ]
  },
  {
   "cell_type": "code",
   "execution_count": 13,
   "id": "df864b8d",
   "metadata": {},
   "outputs": [
    {
     "data": {
      "application/vnd.plotly.v1+json": {
       "config": {
        "plotlyServerURL": "https://plot.ly"
       },
       "data": [
        {
         "type": "bar",
         "x": [
          "10% Prime Debenture 2088",
          "10.25% GLOBAL IME BANK LTD. DEBENTURE 2080/81",
          "11% NIC Asia Debenture 082/83",
          "9.5% NCC Debenture 2086",
          "Aarambha Chautari Laghubitta Bittiya Sanstha Limited",
          "Agricultural Development Bank Limited",
          "Ankhu Khola Jalvidhyut Company Ltd",
          "Api Power Company Ltd.",
          "Arun Kabeli Power Ltd.",
          "Arun Valley Hydropower Development Co. Ltd."
         ],
         "y": [
          825.5,
          980,
          1023.9,
          875.2,
          740,
          329,
          185.5,
          223,
          410,
          287
         ]
        }
       ],
       "layout": {
        "template": {
         "data": {
          "bar": [
           {
            "error_x": {
             "color": "#2a3f5f"
            },
            "error_y": {
             "color": "#2a3f5f"
            },
            "marker": {
             "line": {
              "color": "#E5ECF6",
              "width": 0.5
             },
             "pattern": {
              "fillmode": "overlay",
              "size": 10,
              "solidity": 0.2
             }
            },
            "type": "bar"
           }
          ],
          "barpolar": [
           {
            "marker": {
             "line": {
              "color": "#E5ECF6",
              "width": 0.5
             },
             "pattern": {
              "fillmode": "overlay",
              "size": 10,
              "solidity": 0.2
             }
            },
            "type": "barpolar"
           }
          ],
          "carpet": [
           {
            "aaxis": {
             "endlinecolor": "#2a3f5f",
             "gridcolor": "white",
             "linecolor": "white",
             "minorgridcolor": "white",
             "startlinecolor": "#2a3f5f"
            },
            "baxis": {
             "endlinecolor": "#2a3f5f",
             "gridcolor": "white",
             "linecolor": "white",
             "minorgridcolor": "white",
             "startlinecolor": "#2a3f5f"
            },
            "type": "carpet"
           }
          ],
          "choropleth": [
           {
            "colorbar": {
             "outlinewidth": 0,
             "ticks": ""
            },
            "type": "choropleth"
           }
          ],
          "contour": [
           {
            "colorbar": {
             "outlinewidth": 0,
             "ticks": ""
            },
            "colorscale": [
             [
              0,
              "#0d0887"
             ],
             [
              0.1111111111111111,
              "#46039f"
             ],
             [
              0.2222222222222222,
              "#7201a8"
             ],
             [
              0.3333333333333333,
              "#9c179e"
             ],
             [
              0.4444444444444444,
              "#bd3786"
             ],
             [
              0.5555555555555556,
              "#d8576b"
             ],
             [
              0.6666666666666666,
              "#ed7953"
             ],
             [
              0.7777777777777778,
              "#fb9f3a"
             ],
             [
              0.8888888888888888,
              "#fdca26"
             ],
             [
              1,
              "#f0f921"
             ]
            ],
            "type": "contour"
           }
          ],
          "contourcarpet": [
           {
            "colorbar": {
             "outlinewidth": 0,
             "ticks": ""
            },
            "type": "contourcarpet"
           }
          ],
          "heatmap": [
           {
            "colorbar": {
             "outlinewidth": 0,
             "ticks": ""
            },
            "colorscale": [
             [
              0,
              "#0d0887"
             ],
             [
              0.1111111111111111,
              "#46039f"
             ],
             [
              0.2222222222222222,
              "#7201a8"
             ],
             [
              0.3333333333333333,
              "#9c179e"
             ],
             [
              0.4444444444444444,
              "#bd3786"
             ],
             [
              0.5555555555555556,
              "#d8576b"
             ],
             [
              0.6666666666666666,
              "#ed7953"
             ],
             [
              0.7777777777777778,
              "#fb9f3a"
             ],
             [
              0.8888888888888888,
              "#fdca26"
             ],
             [
              1,
              "#f0f921"
             ]
            ],
            "type": "heatmap"
           }
          ],
          "heatmapgl": [
           {
            "colorbar": {
             "outlinewidth": 0,
             "ticks": ""
            },
            "colorscale": [
             [
              0,
              "#0d0887"
             ],
             [
              0.1111111111111111,
              "#46039f"
             ],
             [
              0.2222222222222222,
              "#7201a8"
             ],
             [
              0.3333333333333333,
              "#9c179e"
             ],
             [
              0.4444444444444444,
              "#bd3786"
             ],
             [
              0.5555555555555556,
              "#d8576b"
             ],
             [
              0.6666666666666666,
              "#ed7953"
             ],
             [
              0.7777777777777778,
              "#fb9f3a"
             ],
             [
              0.8888888888888888,
              "#fdca26"
             ],
             [
              1,
              "#f0f921"
             ]
            ],
            "type": "heatmapgl"
           }
          ],
          "histogram": [
           {
            "marker": {
             "pattern": {
              "fillmode": "overlay",
              "size": 10,
              "solidity": 0.2
             }
            },
            "type": "histogram"
           }
          ],
          "histogram2d": [
           {
            "colorbar": {
             "outlinewidth": 0,
             "ticks": ""
            },
            "colorscale": [
             [
              0,
              "#0d0887"
             ],
             [
              0.1111111111111111,
              "#46039f"
             ],
             [
              0.2222222222222222,
              "#7201a8"
             ],
             [
              0.3333333333333333,
              "#9c179e"
             ],
             [
              0.4444444444444444,
              "#bd3786"
             ],
             [
              0.5555555555555556,
              "#d8576b"
             ],
             [
              0.6666666666666666,
              "#ed7953"
             ],
             [
              0.7777777777777778,
              "#fb9f3a"
             ],
             [
              0.8888888888888888,
              "#fdca26"
             ],
             [
              1,
              "#f0f921"
             ]
            ],
            "type": "histogram2d"
           }
          ],
          "histogram2dcontour": [
           {
            "colorbar": {
             "outlinewidth": 0,
             "ticks": ""
            },
            "colorscale": [
             [
              0,
              "#0d0887"
             ],
             [
              0.1111111111111111,
              "#46039f"
             ],
             [
              0.2222222222222222,
              "#7201a8"
             ],
             [
              0.3333333333333333,
              "#9c179e"
             ],
             [
              0.4444444444444444,
              "#bd3786"
             ],
             [
              0.5555555555555556,
              "#d8576b"
             ],
             [
              0.6666666666666666,
              "#ed7953"
             ],
             [
              0.7777777777777778,
              "#fb9f3a"
             ],
             [
              0.8888888888888888,
              "#fdca26"
             ],
             [
              1,
              "#f0f921"
             ]
            ],
            "type": "histogram2dcontour"
           }
          ],
          "mesh3d": [
           {
            "colorbar": {
             "outlinewidth": 0,
             "ticks": ""
            },
            "type": "mesh3d"
           }
          ],
          "parcoords": [
           {
            "line": {
             "colorbar": {
              "outlinewidth": 0,
              "ticks": ""
             }
            },
            "type": "parcoords"
           }
          ],
          "pie": [
           {
            "automargin": true,
            "type": "pie"
           }
          ],
          "scatter": [
           {
            "marker": {
             "colorbar": {
              "outlinewidth": 0,
              "ticks": ""
             }
            },
            "type": "scatter"
           }
          ],
          "scatter3d": [
           {
            "line": {
             "colorbar": {
              "outlinewidth": 0,
              "ticks": ""
             }
            },
            "marker": {
             "colorbar": {
              "outlinewidth": 0,
              "ticks": ""
             }
            },
            "type": "scatter3d"
           }
          ],
          "scattercarpet": [
           {
            "marker": {
             "colorbar": {
              "outlinewidth": 0,
              "ticks": ""
             }
            },
            "type": "scattercarpet"
           }
          ],
          "scattergeo": [
           {
            "marker": {
             "colorbar": {
              "outlinewidth": 0,
              "ticks": ""
             }
            },
            "type": "scattergeo"
           }
          ],
          "scattergl": [
           {
            "marker": {
             "colorbar": {
              "outlinewidth": 0,
              "ticks": ""
             }
            },
            "type": "scattergl"
           }
          ],
          "scattermapbox": [
           {
            "marker": {
             "colorbar": {
              "outlinewidth": 0,
              "ticks": ""
             }
            },
            "type": "scattermapbox"
           }
          ],
          "scatterpolar": [
           {
            "marker": {
             "colorbar": {
              "outlinewidth": 0,
              "ticks": ""
             }
            },
            "type": "scatterpolar"
           }
          ],
          "scatterpolargl": [
           {
            "marker": {
             "colorbar": {
              "outlinewidth": 0,
              "ticks": ""
             }
            },
            "type": "scatterpolargl"
           }
          ],
          "scatterternary": [
           {
            "marker": {
             "colorbar": {
              "outlinewidth": 0,
              "ticks": ""
             }
            },
            "type": "scatterternary"
           }
          ],
          "surface": [
           {
            "colorbar": {
             "outlinewidth": 0,
             "ticks": ""
            },
            "colorscale": [
             [
              0,
              "#0d0887"
             ],
             [
              0.1111111111111111,
              "#46039f"
             ],
             [
              0.2222222222222222,
              "#7201a8"
             ],
             [
              0.3333333333333333,
              "#9c179e"
             ],
             [
              0.4444444444444444,
              "#bd3786"
             ],
             [
              0.5555555555555556,
              "#d8576b"
             ],
             [
              0.6666666666666666,
              "#ed7953"
             ],
             [
              0.7777777777777778,
              "#fb9f3a"
             ],
             [
              0.8888888888888888,
              "#fdca26"
             ],
             [
              1,
              "#f0f921"
             ]
            ],
            "type": "surface"
           }
          ],
          "table": [
           {
            "cells": {
             "fill": {
              "color": "#EBF0F8"
             },
             "line": {
              "color": "white"
             }
            },
            "header": {
             "fill": {
              "color": "#C8D4E3"
             },
             "line": {
              "color": "white"
             }
            },
            "type": "table"
           }
          ]
         },
         "layout": {
          "annotationdefaults": {
           "arrowcolor": "#2a3f5f",
           "arrowhead": 0,
           "arrowwidth": 1
          },
          "autotypenumbers": "strict",
          "coloraxis": {
           "colorbar": {
            "outlinewidth": 0,
            "ticks": ""
           }
          },
          "colorscale": {
           "diverging": [
            [
             0,
             "#8e0152"
            ],
            [
             0.1,
             "#c51b7d"
            ],
            [
             0.2,
             "#de77ae"
            ],
            [
             0.3,
             "#f1b6da"
            ],
            [
             0.4,
             "#fde0ef"
            ],
            [
             0.5,
             "#f7f7f7"
            ],
            [
             0.6,
             "#e6f5d0"
            ],
            [
             0.7,
             "#b8e186"
            ],
            [
             0.8,
             "#7fbc41"
            ],
            [
             0.9,
             "#4d9221"
            ],
            [
             1,
             "#276419"
            ]
           ],
           "sequential": [
            [
             0,
             "#0d0887"
            ],
            [
             0.1111111111111111,
             "#46039f"
            ],
            [
             0.2222222222222222,
             "#7201a8"
            ],
            [
             0.3333333333333333,
             "#9c179e"
            ],
            [
             0.4444444444444444,
             "#bd3786"
            ],
            [
             0.5555555555555556,
             "#d8576b"
            ],
            [
             0.6666666666666666,
             "#ed7953"
            ],
            [
             0.7777777777777778,
             "#fb9f3a"
            ],
            [
             0.8888888888888888,
             "#fdca26"
            ],
            [
             1,
             "#f0f921"
            ]
           ],
           "sequentialminus": [
            [
             0,
             "#0d0887"
            ],
            [
             0.1111111111111111,
             "#46039f"
            ],
            [
             0.2222222222222222,
             "#7201a8"
            ],
            [
             0.3333333333333333,
             "#9c179e"
            ],
            [
             0.4444444444444444,
             "#bd3786"
            ],
            [
             0.5555555555555556,
             "#d8576b"
            ],
            [
             0.6666666666666666,
             "#ed7953"
            ],
            [
             0.7777777777777778,
             "#fb9f3a"
            ],
            [
             0.8888888888888888,
             "#fdca26"
            ],
            [
             1,
             "#f0f921"
            ]
           ]
          },
          "colorway": [
           "#636efa",
           "#EF553B",
           "#00cc96",
           "#ab63fa",
           "#FFA15A",
           "#19d3f3",
           "#FF6692",
           "#B6E880",
           "#FF97FF",
           "#FECB52"
          ],
          "font": {
           "color": "#2a3f5f"
          },
          "geo": {
           "bgcolor": "white",
           "lakecolor": "white",
           "landcolor": "#E5ECF6",
           "showlakes": true,
           "showland": true,
           "subunitcolor": "white"
          },
          "hoverlabel": {
           "align": "left"
          },
          "hovermode": "closest",
          "mapbox": {
           "style": "light"
          },
          "paper_bgcolor": "white",
          "plot_bgcolor": "#E5ECF6",
          "polar": {
           "angularaxis": {
            "gridcolor": "white",
            "linecolor": "white",
            "ticks": ""
           },
           "bgcolor": "#E5ECF6",
           "radialaxis": {
            "gridcolor": "white",
            "linecolor": "white",
            "ticks": ""
           }
          },
          "scene": {
           "xaxis": {
            "backgroundcolor": "#E5ECF6",
            "gridcolor": "white",
            "gridwidth": 2,
            "linecolor": "white",
            "showbackground": true,
            "ticks": "",
            "zerolinecolor": "white"
           },
           "yaxis": {
            "backgroundcolor": "#E5ECF6",
            "gridcolor": "white",
            "gridwidth": 2,
            "linecolor": "white",
            "showbackground": true,
            "ticks": "",
            "zerolinecolor": "white"
           },
           "zaxis": {
            "backgroundcolor": "#E5ECF6",
            "gridcolor": "white",
            "gridwidth": 2,
            "linecolor": "white",
            "showbackground": true,
            "ticks": "",
            "zerolinecolor": "white"
           }
          },
          "shapedefaults": {
           "line": {
            "color": "#2a3f5f"
           }
          },
          "ternary": {
           "aaxis": {
            "gridcolor": "white",
            "linecolor": "white",
            "ticks": ""
           },
           "baxis": {
            "gridcolor": "white",
            "linecolor": "white",
            "ticks": ""
           },
           "bgcolor": "#E5ECF6",
           "caxis": {
            "gridcolor": "white",
            "linecolor": "white",
            "ticks": ""
           }
          },
          "title": {
           "x": 0.05
          },
          "xaxis": {
           "automargin": true,
           "gridcolor": "white",
           "linecolor": "white",
           "ticks": "",
           "title": {
            "standoff": 15
           },
           "zerolinecolor": "white",
           "zerolinewidth": 2
          },
          "yaxis": {
           "automargin": true,
           "gridcolor": "white",
           "linecolor": "white",
           "ticks": "",
           "title": {
            "standoff": 15
           },
           "zerolinecolor": "white",
           "zerolinewidth": 2
          }
         }
        }
       }
      },
      "text/html": [
       "<div>                            <div id=\"3bb4bef5-2f3d-4f0b-bf00-c88bf4cdfeca\" class=\"plotly-graph-div\" style=\"height:525px; width:100%;\"></div>            <script type=\"text/javascript\">                require([\"plotly\"], function(Plotly) {                    window.PLOTLYENV=window.PLOTLYENV || {};                                    if (document.getElementById(\"3bb4bef5-2f3d-4f0b-bf00-c88bf4cdfeca\")) {                    Plotly.newPlot(                        \"3bb4bef5-2f3d-4f0b-bf00-c88bf4cdfeca\",                        [{\"x\":[\"10% Prime Debenture 2088\",\"10.25% GLOBAL IME BANK LTD. DEBENTURE 2080/81\",\"11% NIC Asia Debenture 082/83\",\"9.5% NCC Debenture 2086\",\"Aarambha Chautari Laghubitta Bittiya Sanstha Limited\",\"Agricultural Development Bank Limited\",\"Ankhu Khola Jalvidhyut Company Ltd\",\"Api Power Company Ltd.\",\"Arun Kabeli Power Ltd.\",\"Arun Valley Hydropower Development Co. Ltd.\"],\"y\":[825.5,980.0,1023.9,875.2,740.0,329.0,185.5,223.0,410.0,287.0],\"type\":\"bar\"}],                        {\"template\":{\"data\":{\"bar\":[{\"error_x\":{\"color\":\"#2a3f5f\"},\"error_y\":{\"color\":\"#2a3f5f\"},\"marker\":{\"line\":{\"color\":\"#E5ECF6\",\"width\":0.5},\"pattern\":{\"fillmode\":\"overlay\",\"size\":10,\"solidity\":0.2}},\"type\":\"bar\"}],\"barpolar\":[{\"marker\":{\"line\":{\"color\":\"#E5ECF6\",\"width\":0.5},\"pattern\":{\"fillmode\":\"overlay\",\"size\":10,\"solidity\":0.2}},\"type\":\"barpolar\"}],\"carpet\":[{\"aaxis\":{\"endlinecolor\":\"#2a3f5f\",\"gridcolor\":\"white\",\"linecolor\":\"white\",\"minorgridcolor\":\"white\",\"startlinecolor\":\"#2a3f5f\"},\"baxis\":{\"endlinecolor\":\"#2a3f5f\",\"gridcolor\":\"white\",\"linecolor\":\"white\",\"minorgridcolor\":\"white\",\"startlinecolor\":\"#2a3f5f\"},\"type\":\"carpet\"}],\"choropleth\":[{\"colorbar\":{\"outlinewidth\":0,\"ticks\":\"\"},\"type\":\"choropleth\"}],\"contour\":[{\"colorbar\":{\"outlinewidth\":0,\"ticks\":\"\"},\"colorscale\":[[0.0,\"#0d0887\"],[0.1111111111111111,\"#46039f\"],[0.2222222222222222,\"#7201a8\"],[0.3333333333333333,\"#9c179e\"],[0.4444444444444444,\"#bd3786\"],[0.5555555555555556,\"#d8576b\"],[0.6666666666666666,\"#ed7953\"],[0.7777777777777778,\"#fb9f3a\"],[0.8888888888888888,\"#fdca26\"],[1.0,\"#f0f921\"]],\"type\":\"contour\"}],\"contourcarpet\":[{\"colorbar\":{\"outlinewidth\":0,\"ticks\":\"\"},\"type\":\"contourcarpet\"}],\"heatmap\":[{\"colorbar\":{\"outlinewidth\":0,\"ticks\":\"\"},\"colorscale\":[[0.0,\"#0d0887\"],[0.1111111111111111,\"#46039f\"],[0.2222222222222222,\"#7201a8\"],[0.3333333333333333,\"#9c179e\"],[0.4444444444444444,\"#bd3786\"],[0.5555555555555556,\"#d8576b\"],[0.6666666666666666,\"#ed7953\"],[0.7777777777777778,\"#fb9f3a\"],[0.8888888888888888,\"#fdca26\"],[1.0,\"#f0f921\"]],\"type\":\"heatmap\"}],\"heatmapgl\":[{\"colorbar\":{\"outlinewidth\":0,\"ticks\":\"\"},\"colorscale\":[[0.0,\"#0d0887\"],[0.1111111111111111,\"#46039f\"],[0.2222222222222222,\"#7201a8\"],[0.3333333333333333,\"#9c179e\"],[0.4444444444444444,\"#bd3786\"],[0.5555555555555556,\"#d8576b\"],[0.6666666666666666,\"#ed7953\"],[0.7777777777777778,\"#fb9f3a\"],[0.8888888888888888,\"#fdca26\"],[1.0,\"#f0f921\"]],\"type\":\"heatmapgl\"}],\"histogram\":[{\"marker\":{\"pattern\":{\"fillmode\":\"overlay\",\"size\":10,\"solidity\":0.2}},\"type\":\"histogram\"}],\"histogram2d\":[{\"colorbar\":{\"outlinewidth\":0,\"ticks\":\"\"},\"colorscale\":[[0.0,\"#0d0887\"],[0.1111111111111111,\"#46039f\"],[0.2222222222222222,\"#7201a8\"],[0.3333333333333333,\"#9c179e\"],[0.4444444444444444,\"#bd3786\"],[0.5555555555555556,\"#d8576b\"],[0.6666666666666666,\"#ed7953\"],[0.7777777777777778,\"#fb9f3a\"],[0.8888888888888888,\"#fdca26\"],[1.0,\"#f0f921\"]],\"type\":\"histogram2d\"}],\"histogram2dcontour\":[{\"colorbar\":{\"outlinewidth\":0,\"ticks\":\"\"},\"colorscale\":[[0.0,\"#0d0887\"],[0.1111111111111111,\"#46039f\"],[0.2222222222222222,\"#7201a8\"],[0.3333333333333333,\"#9c179e\"],[0.4444444444444444,\"#bd3786\"],[0.5555555555555556,\"#d8576b\"],[0.6666666666666666,\"#ed7953\"],[0.7777777777777778,\"#fb9f3a\"],[0.8888888888888888,\"#fdca26\"],[1.0,\"#f0f921\"]],\"type\":\"histogram2dcontour\"}],\"mesh3d\":[{\"colorbar\":{\"outlinewidth\":0,\"ticks\":\"\"},\"type\":\"mesh3d\"}],\"parcoords\":[{\"line\":{\"colorbar\":{\"outlinewidth\":0,\"ticks\":\"\"}},\"type\":\"parcoords\"}],\"pie\":[{\"automargin\":true,\"type\":\"pie\"}],\"scatter\":[{\"marker\":{\"colorbar\":{\"outlinewidth\":0,\"ticks\":\"\"}},\"type\":\"scatter\"}],\"scatter3d\":[{\"line\":{\"colorbar\":{\"outlinewidth\":0,\"ticks\":\"\"}},\"marker\":{\"colorbar\":{\"outlinewidth\":0,\"ticks\":\"\"}},\"type\":\"scatter3d\"}],\"scattercarpet\":[{\"marker\":{\"colorbar\":{\"outlinewidth\":0,\"ticks\":\"\"}},\"type\":\"scattercarpet\"}],\"scattergeo\":[{\"marker\":{\"colorbar\":{\"outlinewidth\":0,\"ticks\":\"\"}},\"type\":\"scattergeo\"}],\"scattergl\":[{\"marker\":{\"colorbar\":{\"outlinewidth\":0,\"ticks\":\"\"}},\"type\":\"scattergl\"}],\"scattermapbox\":[{\"marker\":{\"colorbar\":{\"outlinewidth\":0,\"ticks\":\"\"}},\"type\":\"scattermapbox\"}],\"scatterpolar\":[{\"marker\":{\"colorbar\":{\"outlinewidth\":0,\"ticks\":\"\"}},\"type\":\"scatterpolar\"}],\"scatterpolargl\":[{\"marker\":{\"colorbar\":{\"outlinewidth\":0,\"ticks\":\"\"}},\"type\":\"scatterpolargl\"}],\"scatterternary\":[{\"marker\":{\"colorbar\":{\"outlinewidth\":0,\"ticks\":\"\"}},\"type\":\"scatterternary\"}],\"surface\":[{\"colorbar\":{\"outlinewidth\":0,\"ticks\":\"\"},\"colorscale\":[[0.0,\"#0d0887\"],[0.1111111111111111,\"#46039f\"],[0.2222222222222222,\"#7201a8\"],[0.3333333333333333,\"#9c179e\"],[0.4444444444444444,\"#bd3786\"],[0.5555555555555556,\"#d8576b\"],[0.6666666666666666,\"#ed7953\"],[0.7777777777777778,\"#fb9f3a\"],[0.8888888888888888,\"#fdca26\"],[1.0,\"#f0f921\"]],\"type\":\"surface\"}],\"table\":[{\"cells\":{\"fill\":{\"color\":\"#EBF0F8\"},\"line\":{\"color\":\"white\"}},\"header\":{\"fill\":{\"color\":\"#C8D4E3\"},\"line\":{\"color\":\"white\"}},\"type\":\"table\"}]},\"layout\":{\"annotationdefaults\":{\"arrowcolor\":\"#2a3f5f\",\"arrowhead\":0,\"arrowwidth\":1},\"autotypenumbers\":\"strict\",\"coloraxis\":{\"colorbar\":{\"outlinewidth\":0,\"ticks\":\"\"}},\"colorscale\":{\"diverging\":[[0,\"#8e0152\"],[0.1,\"#c51b7d\"],[0.2,\"#de77ae\"],[0.3,\"#f1b6da\"],[0.4,\"#fde0ef\"],[0.5,\"#f7f7f7\"],[0.6,\"#e6f5d0\"],[0.7,\"#b8e186\"],[0.8,\"#7fbc41\"],[0.9,\"#4d9221\"],[1,\"#276419\"]],\"sequential\":[[0.0,\"#0d0887\"],[0.1111111111111111,\"#46039f\"],[0.2222222222222222,\"#7201a8\"],[0.3333333333333333,\"#9c179e\"],[0.4444444444444444,\"#bd3786\"],[0.5555555555555556,\"#d8576b\"],[0.6666666666666666,\"#ed7953\"],[0.7777777777777778,\"#fb9f3a\"],[0.8888888888888888,\"#fdca26\"],[1.0,\"#f0f921\"]],\"sequentialminus\":[[0.0,\"#0d0887\"],[0.1111111111111111,\"#46039f\"],[0.2222222222222222,\"#7201a8\"],[0.3333333333333333,\"#9c179e\"],[0.4444444444444444,\"#bd3786\"],[0.5555555555555556,\"#d8576b\"],[0.6666666666666666,\"#ed7953\"],[0.7777777777777778,\"#fb9f3a\"],[0.8888888888888888,\"#fdca26\"],[1.0,\"#f0f921\"]]},\"colorway\":[\"#636efa\",\"#EF553B\",\"#00cc96\",\"#ab63fa\",\"#FFA15A\",\"#19d3f3\",\"#FF6692\",\"#B6E880\",\"#FF97FF\",\"#FECB52\"],\"font\":{\"color\":\"#2a3f5f\"},\"geo\":{\"bgcolor\":\"white\",\"lakecolor\":\"white\",\"landcolor\":\"#E5ECF6\",\"showlakes\":true,\"showland\":true,\"subunitcolor\":\"white\"},\"hoverlabel\":{\"align\":\"left\"},\"hovermode\":\"closest\",\"mapbox\":{\"style\":\"light\"},\"paper_bgcolor\":\"white\",\"plot_bgcolor\":\"#E5ECF6\",\"polar\":{\"angularaxis\":{\"gridcolor\":\"white\",\"linecolor\":\"white\",\"ticks\":\"\"},\"bgcolor\":\"#E5ECF6\",\"radialaxis\":{\"gridcolor\":\"white\",\"linecolor\":\"white\",\"ticks\":\"\"}},\"scene\":{\"xaxis\":{\"backgroundcolor\":\"#E5ECF6\",\"gridcolor\":\"white\",\"gridwidth\":2,\"linecolor\":\"white\",\"showbackground\":true,\"ticks\":\"\",\"zerolinecolor\":\"white\"},\"yaxis\":{\"backgroundcolor\":\"#E5ECF6\",\"gridcolor\":\"white\",\"gridwidth\":2,\"linecolor\":\"white\",\"showbackground\":true,\"ticks\":\"\",\"zerolinecolor\":\"white\"},\"zaxis\":{\"backgroundcolor\":\"#E5ECF6\",\"gridcolor\":\"white\",\"gridwidth\":2,\"linecolor\":\"white\",\"showbackground\":true,\"ticks\":\"\",\"zerolinecolor\":\"white\"}},\"shapedefaults\":{\"line\":{\"color\":\"#2a3f5f\"}},\"ternary\":{\"aaxis\":{\"gridcolor\":\"white\",\"linecolor\":\"white\",\"ticks\":\"\"},\"baxis\":{\"gridcolor\":\"white\",\"linecolor\":\"white\",\"ticks\":\"\"},\"bgcolor\":\"#E5ECF6\",\"caxis\":{\"gridcolor\":\"white\",\"linecolor\":\"white\",\"ticks\":\"\"}},\"title\":{\"x\":0.05},\"xaxis\":{\"automargin\":true,\"gridcolor\":\"white\",\"linecolor\":\"white\",\"ticks\":\"\",\"title\":{\"standoff\":15},\"zerolinecolor\":\"white\",\"zerolinewidth\":2},\"yaxis\":{\"automargin\":true,\"gridcolor\":\"white\",\"linecolor\":\"white\",\"ticks\":\"\",\"title\":{\"standoff\":15},\"zerolinecolor\":\"white\",\"zerolinewidth\":2}}}},                        {\"responsive\": true}                    ).then(function(){\n",
       "                            \n",
       "var gd = document.getElementById('3bb4bef5-2f3d-4f0b-bf00-c88bf4cdfeca');\n",
       "var x = new MutationObserver(function (mutations, observer) {{\n",
       "        var display = window.getComputedStyle(gd).display;\n",
       "        if (!display || display === 'none') {{\n",
       "            console.log([gd, 'removed!']);\n",
       "            Plotly.purge(gd);\n",
       "            observer.disconnect();\n",
       "        }}\n",
       "}});\n",
       "\n",
       "// Listen for the removal of the full notebook cells\n",
       "var notebookContainer = gd.closest('#notebook-container');\n",
       "if (notebookContainer) {{\n",
       "    x.observe(notebookContainer, {childList: true});\n",
       "}}\n",
       "\n",
       "// Listen for the clearing of the current output cell\n",
       "var outputEl = gd.closest('.output');\n",
       "if (outputEl) {{\n",
       "    x.observe(outputEl, {childList: true});\n",
       "}}\n",
       "\n",
       "                        })                };                });            </script>        </div>"
      ]
     },
     "metadata": {},
     "output_type": "display_data"
    }
   ],
   "source": [
    "import plotly.graph_objects as go\n",
    "\n",
    "fig = go.Figure([go.Bar(x=company, y=max_price)])\n",
    "fig.show()"
   ]
  },
  {
   "cell_type": "code",
   "execution_count": null,
   "id": "2e666eac",
   "metadata": {},
   "outputs": [],
   "source": []
  },
  {
   "cell_type": "code",
   "execution_count": null,
   "id": "dc292648",
   "metadata": {},
   "outputs": [],
   "source": []
  },
  {
   "cell_type": "code",
   "execution_count": null,
   "id": "14dee33b",
   "metadata": {},
   "outputs": [],
   "source": []
  },
  {
   "cell_type": "code",
   "execution_count": null,
   "id": "20ec4e80",
   "metadata": {},
   "outputs": [],
   "source": []
  },
  {
   "cell_type": "code",
   "execution_count": null,
   "id": "8ddc6787",
   "metadata": {},
   "outputs": [],
   "source": []
  },
  {
   "cell_type": "code",
   "execution_count": null,
   "id": "752ca83f",
   "metadata": {},
   "outputs": [],
   "source": []
  }
 ],
 "metadata": {
  "kernelspec": {
   "display_name": "Python 3 (ipykernel)",
   "language": "python",
   "name": "python3"
  },
  "language_info": {
   "codemirror_mode": {
    "name": "ipython",
    "version": 3
   },
   "file_extension": ".py",
   "mimetype": "text/x-python",
   "name": "python",
   "nbconvert_exporter": "python",
   "pygments_lexer": "ipython3",
   "version": "3.9.12"
  }
 },
 "nbformat": 4,
 "nbformat_minor": 5
}
