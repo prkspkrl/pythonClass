{
 "cells": [
  {
   "cell_type": "code",
   "execution_count": null,
   "id": "52526f54",
   "metadata": {},
   "outputs": [],
   "source": [
    "for i in range(5):\n",
    "    print(i,\"hello world\")"
   ]
  },
  {
   "cell_type": "code",
   "execution_count": null,
   "id": "312ccb1d",
   "metadata": {},
   "outputs": [],
   "source": [
    "for i in range(3,5):\n",
    "    print(\"hello world\")"
   ]
  },
  {
   "cell_type": "code",
   "execution_count": null,
   "id": "65ad09d2",
   "metadata": {},
   "outputs": [],
   "source": [
    "for i in range(0,5,2):\n",
    "    print(i,\"hello world\")"
   ]
  },
  {
   "cell_type": "code",
   "execution_count": null,
   "id": "29258807",
   "metadata": {},
   "outputs": [],
   "source": [
    "n = int(input(\"Enter the n = \"))\n",
    "for i in range(1,11):\n",
    "    print(n,\"*\", i, \"=\", i*n)\n"
   ]
  },
  {
   "cell_type": "code",
   "execution_count": null,
   "id": "0dd1b5d4",
   "metadata": {},
   "outputs": [],
   "source": [
    "for i in range(5,51,5):\n",
    "    print(i)"
   ]
  },
  {
   "cell_type": "code",
   "execution_count": null,
   "id": "0246072c",
   "metadata": {},
   "outputs": [],
   "source": [
    "for i in range(5):\n",
    "    x =int(input(\"Enter x\"))"
   ]
  },
  {
   "cell_type": "code",
   "execution_count": 2,
   "id": "dca33db1",
   "metadata": {},
   "outputs": [
    {
     "name": "stdout",
     "output_type": "stream",
     "text": [
      "Enter Range1\n",
      "Enter x56\n",
      "56\n"
     ]
    }
   ],
   "source": [
    "s= 0\n",
    "n = int(input(\"Enter Range\"))\n",
    "for i in range(n):\n",
    "    x =int(input(\"Enter x\"))\n",
    "    s = s+x\n",
    "    print(s)"
   ]
  },
  {
   "cell_type": "code",
   "execution_count": 5,
   "id": "1d2132ca",
   "metadata": {},
   "outputs": [
    {
     "name": "stdout",
     "output_type": "stream",
     "text": [
      "Enter the value5\n",
      "1 1\n",
      "1\n",
      "1 2\n",
      "2\n",
      "2 3\n",
      "6\n",
      "6 4\n",
      "24\n",
      "24 5\n",
      "120\n",
      "120\n"
     ]
    }
   ],
   "source": [
    "#Factorial\n",
    "#4! = 4*3*2*1\n",
    "\n",
    "fac = 1\n",
    "n= int(input(\"Enter the value\"))\n",
    "for i in range(1,n+1):\n",
    "    print(fac, i)\n",
    "    fac = fac*i\n",
    "    print(fac)\n",
    "    \n",
    "print(fac)    "
   ]
  },
  {
   "cell_type": "code",
   "execution_count": 6,
   "id": "32d3ab12",
   "metadata": {},
   "outputs": [
    {
     "name": "stdout",
     "output_type": "stream",
     "text": [
      "Enter the value5\n",
      "1 1\n",
      "2\n",
      "2 2\n",
      "4\n",
      "4 3\n",
      "7\n",
      "7 4\n",
      "11\n",
      "11 5\n",
      "16\n",
      "16\n"
     ]
    }
   ],
   "source": [
    "#Factorial\n",
    "#4! = 4*3*2*1\n",
    "\n",
    "fac = 1\n",
    "n= int(input(\"Enter the value\"))\n",
    "for i in range(1,n+1):\n",
    "    print(fac, i)\n",
    "    fac = fac+i\n",
    "    print(fac)\n",
    "    \n",
    "print(fac)"
   ]
  },
  {
   "cell_type": "code",
   "execution_count": 1,
   "id": "dbd97fa9",
   "metadata": {},
   "outputs": [
    {
     "name": "stdout",
     "output_type": "stream",
     "text": [
      "Enter the value4\n",
      "ab\n",
      "cd\n",
      "ef\n",
      "gh\n",
      "ab\n",
      "cd\n",
      "ef\n",
      "gh\n",
      "\n"
     ]
    }
   ],
   "source": [
    "s = str()\n",
    "n= int(input(\"Enter the value\"))\n",
    "for i in range(n):\n",
    "    x= input()\n",
    "    s = s+x+ \"\\n\"\n",
    "    \n",
    "    \n",
    "print(s)"
   ]
  },
  {
   "cell_type": "code",
   "execution_count": null,
   "id": "3743b3c2",
   "metadata": {},
   "outputs": [],
   "source": []
  }
 ],
 "metadata": {
  "kernelspec": {
   "display_name": "Python 3 (ipykernel)",
   "language": "python",
   "name": "python3"
  },
  "language_info": {
   "codemirror_mode": {
    "name": "ipython",
    "version": 3
   },
   "file_extension": ".py",
   "mimetype": "text/x-python",
   "name": "python",
   "nbconvert_exporter": "python",
   "pygments_lexer": "ipython3",
   "version": "3.9.12"
  }
 },
 "nbformat": 4,
 "nbformat_minor": 5
}
