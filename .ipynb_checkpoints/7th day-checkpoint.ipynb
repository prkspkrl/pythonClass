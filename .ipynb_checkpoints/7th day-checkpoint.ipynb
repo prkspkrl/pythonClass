{
 "cells": [
  {
   "cell_type": "code",
   "execution_count": 2,
   "id": "755e2cd6",
   "metadata": {},
   "outputs": [
    {
     "name": "stdout",
     "output_type": "stream",
     "text": [
      "enter n =5\n",
      "1\n"
     ]
    }
   ],
   "source": [
    "fac = 1\n",
    "i =1 \n",
    "n = int(input(\"enter n =\"))\n",
    "while n<=1:\n",
    "    fac=fac*1\n",
    "    i = i +1\n",
    "print(fac)"
   ]
  },
  {
   "cell_type": "code",
   "execution_count": 1,
   "id": "3d060c31",
   "metadata": {},
   "outputs": [
    {
     "name": "stdout",
     "output_type": "stream",
     "text": [
      "enter n =2\n",
      "Enter name = prakash\n",
      "Enter phone num =98499\n",
      "Enter name = prakash-test1\n",
      "Enter phone num =9222\n",
      " prakash98499\n",
      " prakash-test19222\n",
      "\n"
     ]
    }
   ],
   "source": [
    "s = str()\n",
    "i =0 \n",
    "n= int(input(\"enter n =\"))\n",
    "while i<n:\n",
    "    name = input(\"Enter name = \")\n",
    "    phone = int(input(\"Enter phone num =\"))\n",
    "    s = s+\" \"+name+\"\"+str(phone)+'\\n'\n",
    "    i = i + 1\n",
    "print(s)    \n",
    "    "
   ]
  },
  {
   "cell_type": "code",
   "execution_count": 3,
   "id": "0d5d0ada",
   "metadata": {},
   "outputs": [
    {
     "ename": "SyntaxError",
     "evalue": "invalid syntax (3174733981.py, line 12)",
     "output_type": "error",
     "traceback": [
      "\u001b[1;36m  Input \u001b[1;32mIn [3]\u001b[1;36m\u001b[0m\n\u001b[1;33m    s = s+\" \"+ product +\" \"+ str(price) +\" \"+ str(quantity) +\" \"+ str(total)'\\n'\u001b[0m\n\u001b[1;37m                                                                            ^\u001b[0m\n\u001b[1;31mSyntaxError\u001b[0m\u001b[1;31m:\u001b[0m invalid syntax\n"
     ]
    }
   ],
   "source": [
    "#Store\n",
    "s = str()\n",
    "all_total = 0\n",
    "i =0 \n",
    "n= int(input(\"enter n =\"))\n",
    "while i<n:\n",
    "    product = input(\"Enter name = \")\n",
    "    price = int(input(\"Enter phone num =\"))\n",
    "    quantity = int(input(\"Enter phone num =\"))\n",
    "    total = price*quantity\n",
    "    all_total= all_total + total\n",
    "    s = s+\" \"+ product +\" \"+ str(price) +\" \"+ str(quantity) +\" \"+ str(total)'\\n'\n",
    "    i = i+1\n",
    "print(s)    \n",
    "print(all_total)"
   ]
  },
  {
   "cell_type": "code",
   "execution_count": 4,
   "id": "2eb347cc",
   "metadata": {},
   "outputs": [
    {
     "name": "stdout",
     "output_type": "stream",
     "text": [
      "P\n",
      "y\n",
      "t\n",
      "h\n",
      "o\n",
      "n\n"
     ]
    }
   ],
   "source": [
    "#print all  char\n",
    "a = \"Python\"\n",
    "l = len(a)\n",
    "i = 0\n",
    "while i <l:\n",
    "    print(a[i])\n",
    "    i = i+1"
   ]
  },
  {
   "cell_type": "code",
   "execution_count": 5,
   "id": "cabb3263",
   "metadata": {},
   "outputs": [
    {
     "name": "stdout",
     "output_type": "stream",
     "text": [
      "Helloworldiampython"
     ]
    }
   ],
   "source": [
    "#print all  char with remove space\n",
    "a = \"Hello world i am python\"\n",
    "l = len(a)\n",
    "i = 0\n",
    "while i <l:\n",
    "    if (a[i]) !=\" \":\n",
    "        print(a[i], end= \"\")\n",
    "    i = i+1"
   ]
  },
  {
   "cell_type": "code",
   "execution_count": 2,
   "id": "b9788ffd",
   "metadata": {},
   "outputs": [
    {
     "name": "stdout",
     "output_type": "stream",
     "text": [
      "Helloworldiampython"
     ]
    }
   ],
   "source": [
    "#Break and continue in while loop\n",
    "a = \"Hello world i am python\"\n",
    "l = len(a)\n",
    "i = 0\n",
    "while i <l:\n",
    "    if a[i] == \" \":\n",
    "        i = i + 1\n",
    "        continue\n",
    "        #break\n",
    "    print(a[i], end= \"\")\n",
    "    i = i+1"
   ]
  },
  {
   "cell_type": "code",
   "execution_count": 3,
   "id": "78b460ba",
   "metadata": {},
   "outputs": [],
   "source": [
    "#for esle loop"
   ]
  },
  {
   "cell_type": "code",
   "execution_count": 7,
   "id": "01986732",
   "metadata": {},
   "outputs": [
    {
     "name": "stdout",
     "output_type": "stream",
     "text": [
      "enter n =3\n",
      "3 is prime\n"
     ]
    }
   ],
   "source": [
    "#prime = 2,3,5,7,11\n",
    "#composite = 4,6,8,9,10\n",
    "n= int(input(\"enter n =\"))\n",
    "for i in range(2,n//2):\n",
    "    if n%i == 0:\n",
    "        print(n, \"is composite number\")\n",
    "        break\n",
    "else:\n",
    "    print(n,\"is prime\")\n"
   ]
  },
  {
   "cell_type": "code",
   "execution_count": 14,
   "id": "6c6cb0a3",
   "metadata": {},
   "outputs": [
    {
     "name": "stdout",
     "output_type": "stream",
     "text": [
      "enter n =2\n",
      "2 is prime\n"
     ]
    }
   ],
   "source": [
    "#prime = 2,3,5,7,11\n",
    "#composite = 4,6,8,9,10\n",
    "n= int(input(\"enter n =\"))\n",
    "if n >= 2:    \n",
    "    for i in range(2,n//2):\n",
    "        if n%i == 0:\n",
    "            print(n, \"is composite number\")\n",
    "            break\n",
    "    else:\n",
    "        print(n,\"is prime\")\n",
    "else:\n",
    "    print (\"should be greater\")\n"
   ]
  },
  {
   "cell_type": "code",
   "execution_count": null,
   "id": "5f037fce",
   "metadata": {},
   "outputs": [],
   "source": []
  }
 ],
 "metadata": {
  "kernelspec": {
   "display_name": "Python 3 (ipykernel)",
   "language": "python",
   "name": "python3"
  },
  "language_info": {
   "codemirror_mode": {
    "name": "ipython",
    "version": 3
   },
   "file_extension": ".py",
   "mimetype": "text/x-python",
   "name": "python",
   "nbconvert_exporter": "python",
   "pygments_lexer": "ipython3",
   "version": "3.9.12"
  }
 },
 "nbformat": 4,
 "nbformat_minor": 5
}
