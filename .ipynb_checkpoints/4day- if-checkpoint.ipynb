{
 "cells": [
  {
   "cell_type": "code",
   "execution_count": null,
   "id": "53bf4e7d",
   "metadata": {},
   "outputs": [],
   "source": [
    "# #Nastedif\n",
    "# if <condition>:\n",
    "#     if <condition>:\n",
    "#         <operation>\n",
    "#     else:\n",
    "#         <condition>\n",
    "        \n",
    "# else:\n",
    "#     <operation>\n",
    "    \n"
   ]
  },
  {
   "cell_type": "code",
   "execution_count": null,
   "id": "22ceafea",
   "metadata": {},
   "outputs": [],
   "source": [
    "n = int(input(\"enter any number\"))\n",
    "if n>0:\n",
    "    if n%2 == 0:\n",
    "        print(\"The nis even and psotive\")\n",
    "    else:   \n",
    "        print(\"the value of positive and odd\")\n",
    "else:\n",
    "    print(\"the n is -ve\")"
   ]
  }
 ],
 "metadata": {
  "kernelspec": {
   "display_name": "Python 3 (ipykernel)",
   "language": "python",
   "name": "python3"
  },
  "language_info": {
   "codemirror_mode": {
    "name": "ipython",
    "version": 3
   },
   "file_extension": ".py",
   "mimetype": "text/x-python",
   "name": "python",
   "nbconvert_exporter": "python",
   "pygments_lexer": "ipython3",
   "version": "3.9.12"
  }
 },
 "nbformat": 4,
 "nbformat_minor": 5
}
