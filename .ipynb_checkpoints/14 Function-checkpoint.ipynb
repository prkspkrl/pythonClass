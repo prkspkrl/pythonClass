{
 "cells": [
  {
   "cell_type": "code",
   "execution_count": null,
   "id": "93b374e9",
   "metadata": {},
   "outputs": [],
   "source": [
    "def hello():\n",
    "    print(\"Hello World\")\n",
    "hello()    "
   ]
  },
  {
   "cell_type": "code",
   "execution_count": null,
   "id": "ff8f623c",
   "metadata": {},
   "outputs": [],
   "source": [
    "def cal():\n",
    "    l= int(input(\"Enter l = \")) #Local variable\n",
    "    b=  int(input(\"Enter b = \")) #Local variable\n",
    "    h=  int(input(\"Enter h = \")) #Local variable\n",
    "    a =l*b\n",
    "    v=a*h\n",
    "    print(a)\n",
    "    print(v)\n",
    "cal()    "
   ]
  },
  {
   "cell_type": "code",
   "execution_count": null,
   "id": "ee876a7b",
   "metadata": {},
   "outputs": [],
   "source": [
    "\n",
    "    l= int(input(\"Enter l = \")) #GLOBAL variable\n",
    "    b=  int(input(\"Enter b = \")) #GLOBAL variable\n",
    "    h=  int(input(\"Enter h = \")) #GLOBAL variable\n",
    "    def cal():\n",
    "        a =l*b\n",
    "        v=a*h\n",
    "        print(a)\n",
    "        print(v)\n",
    "    cal()  \n",
    "    "
   ]
  },
  {
   "cell_type": "code",
   "execution_count": null,
   "id": "f03391c8",
   "metadata": {},
   "outputs": [],
   "source": [
    "#Local into global\n",
    "def cal():\n",
    "    l= int(input(\"Enter l = \")) #Local variable\n",
    "    b=  int(input(\"Enter b = \")) #Local variable\n",
    "    h=  int(input(\"Enter h = \")) #Local variable\n",
    "    global a,v\n",
    "    a =l*b\n",
    "    v=a*h\n",
    "    print(a)\n",
    "    print(v)\n",
    "cal()    \n",
    "print(a,v)"
   ]
  },
  {
   "cell_type": "code",
   "execution_count": null,
   "id": "80da990e",
   "metadata": {},
   "outputs": [],
   "source": [
    "#function Without argument and without return type\n",
    "#function With argument and without return type\n",
    "#function Without argument and return type\n",
    "#function With argument and return type"
   ]
  },
  {
   "cell_type": "code",
   "execution_count": null,
   "id": "6294a131",
   "metadata": {},
   "outputs": [],
   "source": [
    "def hello(x): #Parameter\n",
    "    print(x)\n",
    "\n",
    "hello(\"Hello world\") #argument"
   ]
  },
  {
   "cell_type": "code",
   "execution_count": 4,
   "id": "21c02b28",
   "metadata": {},
   "outputs": [
    {
     "name": "stdout",
     "output_type": "stream",
     "text": [
      "Enter l = 10\n",
      "Enter b = 20\n",
      "Enter h = 30\n",
      "200\n",
      "6000\n"
     ]
    }
   ],
   "source": [
    "def cal(l,b,h):\n",
    "    a =l*b\n",
    "    v=a*h\n",
    "    print(a)\n",
    "    print(v)\n",
    "    \n",
    "l= int(input(\"Enter l = \")) #Local variable\n",
    "b=  int(input(\"Enter b = \")) #Local variable\n",
    "h=  int(input(\"Enter h = \")) #Local variable\n",
    "    \n",
    "cal(l,b,h) \n"
   ]
  },
  {
   "cell_type": "code",
   "execution_count": 5,
   "id": "cbc4bbb9",
   "metadata": {},
   "outputs": [
    {
     "name": "stdout",
     "output_type": "stream",
     "text": [
      "Enter l = 11\n",
      "Enter b = 11\n",
      "Enter h = 11\n",
      "121\n",
      "1331\n"
     ]
    }
   ],
   "source": [
    "def cal(y): #can put x and remove second line\n",
    "    l,b,h = y # Which is same as [l,b,h]\n",
    "    a =l*b\n",
    "    v=a*h\n",
    "    print(a)\n",
    "    print(v)\n",
    "    \n",
    "l= int(input(\"Enter l = \")) #Local variable\n",
    "b=  int(input(\"Enter b = \")) #Local variable\n",
    "h=  int(input(\"Enter h = \")) #Local variable\n",
    "x = [l,b,h]    \n",
    "cal(x) \n"
   ]
  },
  {
   "cell_type": "code",
   "execution_count": 9,
   "id": "e1ccfb8f",
   "metadata": {},
   "outputs": [
    {
     "name": "stdout",
     "output_type": "stream",
     "text": [
      "C\n",
      "C++\n",
      "java\n",
      "Pyhon\n"
     ]
    }
   ],
   "source": [
    "def lan(language = \"Python\"): #in here pyuthon is just default value\n",
    "    print(language)\n",
    "lan(\"C\")\n",
    "lan(\"C++\")\n",
    "lan(\"java\")\n",
    "lan(\"Pyhon\")"
   ]
  },
  {
   "cell_type": "code",
   "execution_count": 11,
   "id": "ce6db344",
   "metadata": {},
   "outputs": [
    {
     "name": "stdout",
     "output_type": "stream",
     "text": [
      "None\n"
     ]
    }
   ],
   "source": [
    "#Retuen Type Function\n",
    "def hello():\n",
    "    return \"hello World\"\n",
    "\n",
    "print(hello())"
   ]
  },
  {
   "cell_type": "code",
   "execution_count": null,
   "id": "64c1792a",
   "metadata": {},
   "outputs": [],
   "source": []
  }
 ],
 "metadata": {
  "kernelspec": {
   "display_name": "Python 3 (ipykernel)",
   "language": "python",
   "name": "python3"
  },
  "language_info": {
   "codemirror_mode": {
    "name": "ipython",
    "version": 3
   },
   "file_extension": ".py",
   "mimetype": "text/x-python",
   "name": "python",
   "nbconvert_exporter": "python",
   "pygments_lexer": "ipython3",
   "version": "3.9.12"
  }
 },
 "nbformat": 4,
 "nbformat_minor": 5
}
