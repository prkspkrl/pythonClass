{
 "cells": [
  {
   "cell_type": "code",
   "execution_count": null,
   "id": "c7ba40a8",
   "metadata": {},
   "outputs": [],
   "source": [
    "lis = []\n",
    "n = int(input(\"Enter any number\"))\n",
    "for i in range(n):\n",
    "    name = input(\"enter name \")\n",
    "    address = input(\"enter address \")\n",
    "    phone_num = input(\"enter phn num\")\n",
    "    lis.append([name, address,phone_num ])\n",
    "print(lis)"
   ]
  },
  {
   "cell_type": "code",
   "execution_count": null,
   "id": "b49a8439",
   "metadata": {},
   "outputs": [],
   "source": [
    "listd = []\n",
    "m = int(input(\"Enter any integer \"))\n",
    "for i in range(m):\n",
    "    first_name =input(\"Enter yopur name \")\n",
    "    phone_num = input(\"enter your cell \")\n",
    "    ghar = input(\"enter your ghar \")\n",
    "    c = listd + [first_name, phone_num,ghar]\n",
    "    print(type(c))\n",
    "    \n",
    "# mylist = ['prakash','bob','paisa','deyana']\n",
    "# yourlist = ['prakash','bata','paisa','lage']\n",
    "# c = mylist + yourlist\n",
    "# print(c)\n",
    "# c[3]\n",
    "\n"
   ]
  },
  {
   "cell_type": "code",
   "execution_count": 5,
   "id": "5112f7da",
   "metadata": {},
   "outputs": [
    {
     "name": "stdout",
     "output_type": "stream",
     "text": [
      "Enter any integer 1\n",
      "Enter yopur name d\n",
      "enter your cell sd\n",
      "enter your ghar sd\n",
      "<class 'list'>\n"
     ]
    }
   ],
   "source": [
    "listd = []\n",
    "m = int(input(\"Enter any integer \"))\n",
    "for i in range(m):\n",
    "    first_name =input(\"Enter yopur name \")\n",
    "    phone_num = input(\"enter your cell \")\n",
    "    ghar = input(\"enter your ghar \")\n",
    "    y = listd.append(first_name)\n",
    "    print(list)\n",
    "#     print(type(c))"
   ]
  },
  {
   "cell_type": "code",
   "execution_count": null,
   "id": "15a02a70",
   "metadata": {},
   "outputs": [],
   "source": []
  },
  {
   "cell_type": "code",
   "execution_count": null,
   "id": "2956f4fe",
   "metadata": {},
   "outputs": [],
   "source": []
  }
 ],
 "metadata": {
  "kernelspec": {
   "display_name": "Python 3 (ipykernel)",
   "language": "python",
   "name": "python3"
  },
  "language_info": {
   "codemirror_mode": {
    "name": "ipython",
    "version": 3
   },
   "file_extension": ".py",
   "mimetype": "text/x-python",
   "name": "python",
   "nbconvert_exporter": "python",
   "pygments_lexer": "ipython3",
   "version": "3.9.12"
  }
 },
 "nbformat": 4,
 "nbformat_minor": 5
}
