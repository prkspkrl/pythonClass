{
 "cells": [
  {
   "cell_type": "code",
   "execution_count": null,
   "id": "ddaadd43",
   "metadata": {},
   "outputs": [],
   "source": [
    "a = int(input(\"Enter any number\"))\n",
    "if a%2 == 0:\n",
    "    print(a, \"Is even number\")\n",
    "else:\n",
    "    print (a, \"is odd\")\n"
   ]
  },
  {
   "cell_type": "code",
   "execution_count": 2,
   "id": "300f01aa",
   "metadata": {},
   "outputs": [
    {
     "name": "stdout",
     "output_type": "stream",
     "text": [
      "input the value of A14\n",
      "input the value of B14\n",
      "they are same\n"
     ]
    }
   ],
   "source": [
    "a = int(input(\"input the value of A\"))\n",
    "b = int(input(\"input the value of B\"))\n",
    "if a > b:\n",
    "    print(a, \"is greater i.e a\")\n",
    "elif a<b:\n",
    "    print (b, \"is greater ie b\")\n",
    "else:\n",
    "    print(\"they are same\")"
   ]
  },
  {
   "cell_type": "code",
   "execution_count": null,
   "id": "0e38f0ba",
   "metadata": {},
   "outputs": [],
   "source": []
  }
 ],
 "metadata": {
  "kernelspec": {
   "display_name": "Python 3 (ipykernel)",
   "language": "python",
   "name": "python3"
  },
  "language_info": {
   "codemirror_mode": {
    "name": "ipython",
    "version": 3
   },
   "file_extension": ".py",
   "mimetype": "text/x-python",
   "name": "python",
   "nbconvert_exporter": "python",
   "pygments_lexer": "ipython3",
   "version": "3.9.12"
  }
 },
 "nbformat": 4,
 "nbformat_minor": 5
}
