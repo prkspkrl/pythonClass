{
 "cells": [
  {
   "cell_type": "code",
   "execution_count": 3,
   "id": "0bf176cb",
   "metadata": {},
   "outputs": [],
   "source": [
    "#Dictonary "
   ]
  },
  {
   "cell_type": "code",
   "execution_count": 5,
   "id": "4482feb3",
   "metadata": {},
   "outputs": [
    {
     "name": "stdout",
     "output_type": "stream",
     "text": [
      "apple\n"
     ]
    }
   ],
   "source": [
    "d = {'a':'apple','b':'ball', 'c':'cat'}\n",
    "print(d['a'])"
   ]
  },
  {
   "cell_type": "code",
   "execution_count": 9,
   "id": "5e0604ba",
   "metadata": {},
   "outputs": [
    {
     "data": {
      "text/plain": [
       "{'a': 'CAnt', 'b': 'can'}"
      ]
     },
     "execution_count": 9,
     "metadata": {},
     "output_type": "execute_result"
    }
   ],
   "source": [
    "#d= dict()\n",
    "d = {}\n",
    "d['a'] ='CAnt'\n",
    "d['b'] ='can'\n",
    "d"
   ]
  },
  {
   "cell_type": "code",
   "execution_count": 12,
   "id": "6f39953a",
   "metadata": {},
   "outputs": [
    {
     "name": "stdout",
     "output_type": "stream",
     "text": [
      "entrr n = 2\n",
      "Enter Name = nn\n",
      "enter phone =9865998844\n",
      "Enter Name = l\n",
      "enter phone =345\n",
      "{'nn': 9865998844, 'l': 345}\n"
     ]
    }
   ],
   "source": [
    "d = {}\n",
    "n = int(input(\"entrr n = \"))\n",
    "for i in range(n):\n",
    "    name =input(\"Enter Name = \")\n",
    "    phone= int(input(\"enter phone =\"))\n",
    "    d[name] = phone\n",
    "print(d)    \n"
   ]
  },
  {
   "cell_type": "code",
   "execution_count": 16,
   "id": "4fe48969",
   "metadata": {},
   "outputs": [
    {
     "name": "stdout",
     "output_type": "stream",
     "text": [
      "nn\n",
      "l\n"
     ]
    }
   ],
   "source": [
    "for i in d: # For key \n",
    "    print(i)"
   ]
  },
  {
   "cell_type": "code",
   "execution_count": 18,
   "id": "b09dd086",
   "metadata": {},
   "outputs": [
    {
     "name": "stdout",
     "output_type": "stream",
     "text": [
      "9865998844\n",
      "345\n"
     ]
    }
   ],
   "source": [
    "for i in d.values(): #For Values\n",
    "    print(i)"
   ]
  },
  {
   "cell_type": "code",
   "execution_count": 20,
   "id": "5d832d0a",
   "metadata": {},
   "outputs": [
    {
     "name": "stdout",
     "output_type": "stream",
     "text": [
      "('nn', 9865998844)\n",
      "('l', 345)\n"
     ]
    }
   ],
   "source": [
    "for i in d.items(): #For key and values\n",
    "    print(i)"
   ]
  },
  {
   "cell_type": "code",
   "execution_count": 21,
   "id": "7ac34b60",
   "metadata": {},
   "outputs": [
    {
     "name": "stdout",
     "output_type": "stream",
     "text": [
      "[('nn', 9865998844), ('l', 345)]\n"
     ]
    }
   ],
   "source": [
    "#convert list to list\n",
    "l = []\n",
    "for i in d.items():\n",
    "    l.append(i)\n",
    "    \n",
    "print(l)    "
   ]
  },
  {
   "cell_type": "code",
   "execution_count": 22,
   "id": "1599d751",
   "metadata": {},
   "outputs": [
    {
     "data": {
      "text/plain": [
       "{'nn': 9865998844, 'l': 345}"
      ]
     },
     "execution_count": 22,
     "metadata": {},
     "output_type": "execute_result"
    }
   ],
   "source": [
    "#tomaake dict\n",
    "dict(l)"
   ]
  },
  {
   "cell_type": "code",
   "execution_count": null,
   "id": "4041ccab",
   "metadata": {},
   "outputs": [],
   "source": []
  }
 ],
 "metadata": {
  "kernelspec": {
   "display_name": "Python 3 (ipykernel)",
   "language": "python",
   "name": "python3"
  },
  "language_info": {
   "codemirror_mode": {
    "name": "ipython",
    "version": 3
   },
   "file_extension": ".py",
   "mimetype": "text/x-python",
   "name": "python",
   "nbconvert_exporter": "python",
   "pygments_lexer": "ipython3",
   "version": "3.9.12"
  }
 },
 "nbformat": 4,
 "nbformat_minor": 5
}
