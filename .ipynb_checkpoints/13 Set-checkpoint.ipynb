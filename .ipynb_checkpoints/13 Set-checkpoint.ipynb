{
 "cells": [
  {
   "cell_type": "code",
   "execution_count": 7,
   "id": "217029df",
   "metadata": {},
   "outputs": [
    {
     "data": {
      "text/plain": [
       "{1, 2, 'a'}"
      ]
     },
     "execution_count": 7,
     "metadata": {},
     "output_type": "execute_result"
    }
   ],
   "source": [
    "s = set('a')\n",
    "s.add(1)\n",
    "s.add(2)\n",
    "s"
   ]
  },
  {
   "cell_type": "code",
   "execution_count": 69,
   "id": "a8b64ad5",
   "metadata": {},
   "outputs": [
    {
     "name": "stdout",
     "output_type": "stream",
     "text": [
      "<class 'set'>\n",
      "{0, 1, 2, 3, 4, 'ball', 5, 7}\n",
      "{3}\n",
      "4\n",
      "{0, 1, 2, 3}\n",
      "{3, 4, 5, 7}\n"
     ]
    }
   ],
   "source": [
    "s1= {1,0,2,3,\"ball\"}\n",
    "s2 = {3,4,7,5}\n",
    "print(type(s1))\n",
    "b =s1.union(s2)\n",
    "c = s1.intersection(s2)\n",
    "d = len(s2)\n",
    "e = s1.remove('ball') \n",
    "f = s2.discard(\"words\")\n",
    "# or can use discard this is not rised any error if the itemis not there\n",
    "print(b)\n",
    "print(c)\n",
    "print(d)\n",
    "print(s1)\n",
    "print(s2)"
   ]
  },
  {
   "cell_type": "code",
   "execution_count": 34,
   "id": "3d77e585",
   "metadata": {},
   "outputs": [
    {
     "data": {
      "text/plain": [
       "set"
      ]
     },
     "execution_count": 34,
     "metadata": {},
     "output_type": "execute_result"
    }
   ],
   "source": [
    "x = set(['foo', 'bar', 'baz', 'foo', 'qux'])\n",
    "x1 = set(('foo', 'bar', 'baz', 'foo', 'qux'))\n",
    "type(x1)"
   ]
  },
  {
   "cell_type": "code",
   "execution_count": 38,
   "id": "8fe22ac8",
   "metadata": {},
   "outputs": [
    {
     "name": "stdout",
     "output_type": "stream",
     "text": [
      "{1.0, (1, 2, 3), 'Hello'}\n"
     ]
    }
   ],
   "source": [
    "my_set = {1.0, \"Hello\", (1, 2, 3)}\n",
    "print(my_set)"
   ]
  },
  {
   "cell_type": "code",
   "execution_count": 39,
   "id": "8b91bcc7",
   "metadata": {},
   "outputs": [
    {
     "name": "stdout",
     "output_type": "stream",
     "text": [
      "{1, 2, 3, 4}\n"
     ]
    }
   ],
   "source": [
    "# set cannot have duplicates\n",
    "# Output: {1, 2, 3, 4}\n",
    "my_set = {1, 2, 3, 4, 3, 2}\n",
    "print(my_set)"
   ]
  },
  {
   "cell_type": "code",
   "execution_count": 70,
   "id": "ce08898f",
   "metadata": {},
   "outputs": [
    {
     "name": "stdout",
     "output_type": "stream",
     "text": [
      "{1, 2, 3, 4}\n",
      "{1, 2, 3, 5}\n",
      "{1, 4, 5, 6, 8}\n",
      "set()\n"
     ]
    }
   ],
   "source": [
    "# We can add a single element using the add() method, and multiple elements using the update() method.\n",
    "# The update() method can take tuples, lists, strings or other sets as its argument. In all cases,\n",
    "# duplicates are avoided.\n",
    "#USe clear()method for clearing all element and pop()too but dont know which is going to pop\n",
    "b = set()\n",
    "a = set()\n",
    "c = set()\n",
    "a.update({1,2,3,4})\n",
    "b.update([1,3,5,2])\n",
    "c.update([4, 5], {1, 6, 8})\n",
    "type(a)\n",
    "print(a)\n",
    "type(b)\n",
    "print(b)\n",
    "print(c)\n",
    "type(c)\n",
    "c.clear()\n",
    "print(c)"
   ]
  },
  {
   "cell_type": "code",
   "execution_count": null,
   "id": "33f3d214",
   "metadata": {},
   "outputs": [],
   "source": []
  }
 ],
 "metadata": {
  "kernelspec": {
   "display_name": "Python 3 (ipykernel)",
   "language": "python",
   "name": "python3"
  },
  "language_info": {
   "codemirror_mode": {
    "name": "ipython",
    "version": 3
   },
   "file_extension": ".py",
   "mimetype": "text/x-python",
   "name": "python",
   "nbconvert_exporter": "python",
   "pygments_lexer": "ipython3",
   "version": "3.9.12"
  }
 },
 "nbformat": 4,
 "nbformat_minor": 5
}
