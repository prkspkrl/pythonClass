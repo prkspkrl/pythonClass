{
 "cells": [
  {
   "cell_type": "code",
   "execution_count": 13,
   "id": "55dc47f6",
   "metadata": {},
   "outputs": [
    {
     "name": "stdout",
     "output_type": "stream",
     "text": [
      "0\n",
      "2\n",
      "4\n",
      "6\n",
      "8\n"
     ]
    }
   ],
   "source": [
    "for i in range(0,10,2):\n",
    "    print (i)"
   ]
  },
  {
   "cell_type": "code",
   "execution_count": 11,
   "id": "4cee5e80",
   "metadata": {},
   "outputs": [
    {
     "name": "stdout",
     "output_type": "stream",
     "text": [
      "Number Pattern \n",
      "1 \n",
      "1 2 \n",
      "1 2 3 \n",
      "1 2 3 4 \n",
      "1 2 3 4 5 \n",
      "1 2 3 4 5 6 \n",
      "1 2 3 4 5 6 7 \n",
      "1 2 3 4 5 6 7 8 \n",
      "1 2 3 4 5 6 7 8 9 \n",
      "1 2 3 4 5 6 7 8 9 10 \n"
     ]
    }
   ],
   "source": [
    "print(\"Number Pattern \")\n",
    "row = 10\n",
    "# start: 1\n",
    "# stop: row+1 (range never include stop number in result)\n",
    "# step: 1\n",
    "# run loop 5 times\n",
    "for i in range(1, row + 1, 1):\n",
    "    # Run inner loop i+1 times\n",
    "    for j in range(1, i + 1):\n",
    "        print(j, end=' ')\n",
    "    # empty line after each row\n",
    "    print()\n"
   ]
  },
  {
   "cell_type": "code",
   "execution_count": 6,
   "id": "afa63dfc",
   "metadata": {},
   "outputs": [
    {
     "name": "stdout",
     "output_type": "stream",
     "text": [
      "number4\n",
      "the sum of upto 4 is 10\n"
     ]
    }
   ],
   "source": [
    "#Sum of number range\n",
    "sum = 0\n",
    "r = int(input(\"number\"))\n",
    "for i in range(0, r+1):\n",
    "    sum = sum + i\n",
    "    #print(i)\n",
    "print(\"the sum of upto\",r, \"is\", sum)    "
   ]
  },
  {
   "cell_type": "code",
   "execution_count": 16,
   "id": "6ada828c",
   "metadata": {},
   "outputs": [
    {
     "name": "stdout",
     "output_type": "stream",
     "text": [
      "-10\n",
      "-9\n",
      "-8\n",
      "-7\n",
      "-6\n",
      "-5\n",
      "-4\n",
      "-3\n",
      "-2\n",
      "-1\n"
     ]
    }
   ],
   "source": [
    "#Display numbers from -10 to -1 using for loop\n",
    "for i in range(-10,0):\n",
    "    print(i)\n"
   ]
  },
  {
   "cell_type": "code",
   "execution_count": 18,
   "id": "1350bf70",
   "metadata": {},
   "outputs": [
    {
     "name": "stdout",
     "output_type": "stream",
     "text": [
      "25\n",
      "27\n",
      "29\n",
      "31\n",
      "33\n",
      "35\n",
      "37\n",
      "39\n",
      "41\n",
      "43\n",
      "45\n",
      "47\n",
      "49\n"
     ]
    }
   ],
   "source": [
    "prime = 1\n",
    "for i in range(25,50,2):\n",
    "    print(i)\n"
   ]
  },
  {
   "cell_type": "code",
   "execution_count": 33,
   "id": "9793170c",
   "metadata": {},
   "outputs": [
    {
     "name": "stdout",
     "output_type": "stream",
     "text": [
      "Enter number3\n",
      "6\n"
     ]
    }
   ],
   "source": [
    "#factorial of numbers\n",
    "start = 1\n",
    "n = int(input(\"Enter number\"))\n",
    "for i in range(1,n+1):\n",
    "    start = start*i\n",
    "print(start)"
   ]
  },
  {
   "cell_type": "code",
   "execution_count": 29,
   "id": "86234b80",
   "metadata": {},
   "outputs": [
    {
     "name": "stdout",
     "output_type": "stream",
     "text": [
      "write any number10\n",
      "current number is 1 and the cube is 1\n",
      "current number is 2 and the cube is 8\n",
      "current number is 3 and the cube is 27\n",
      "current number is 4 and the cube is 64\n",
      "current number is 5 and the cube is 125\n",
      "current number is 6 and the cube is 216\n",
      "current number is 7 and the cube is 343\n",
      "current number is 8 and the cube is 512\n",
      "current number is 9 and the cube is 729\n"
     ]
    }
   ],
   "source": [
    "#Write a program to rint the cube of all numbers from 1 to a given number\n",
    "number = int(input(\"write any number\"))\n",
    "for i in range (1, number):    \n",
    "    print(\"current number is\",i,\"and the cube is\", i**3)    "
   ]
  },
  {
   "cell_type": "code",
   "execution_count": 15,
   "id": "a7badae4",
   "metadata": {},
   "outputs": [
    {
     "name": "stdout",
     "output_type": "stream",
     "text": [
      "enter number  5\n",
      "text  5\n",
      "5\n",
      "5\n",
      "5\n",
      "5\n"
     ]
    }
   ],
   "source": [
    "i = 1\n",
    "p = int(input(\"enter number  \"))\n",
    "h = input(\"text  \")\n",
    "while i<=p-1:\n",
    "    print(h)\n",
    "    i= i+1\n",
    "    "
   ]
  },
  {
   "cell_type": "code",
   "execution_count": 2,
   "id": "f2aac025",
   "metadata": {},
   "outputs": [
    {
     "name": "stdout",
     "output_type": "stream",
     "text": [
      "HwlloWorld\n"
     ]
    }
   ],
   "source": [
    "#Function with return typw and argument retuen type function\n",
    "def hello(a,b):\n",
    "    return a+b\n",
    "\n",
    "x =hello(\"Hwllo\",\"World\")\n",
    "print(x)\n"
   ]
  },
  {
   "cell_type": "code",
   "execution_count": 4,
   "id": "048a169a",
   "metadata": {},
   "outputs": [
    {
     "name": "stdout",
     "output_type": "stream",
     "text": [
      "this is code\n"
     ]
    }
   ],
   "source": [
    "def prakash():\n",
    "    print(\"this is code\")\n",
    "prakash()    \n"
   ]
  },
  {
   "cell_type": "code",
   "execution_count": 10,
   "id": "f9dd3928",
   "metadata": {},
   "outputs": [
    {
     "name": "stdout",
     "output_type": "stream",
     "text": [
      "Hello, p. Good morning!\n"
     ]
    }
   ],
   "source": [
    "def greet(k):\n",
    "    print(\"Hello, \" + k + \". Good morning!\")\n",
    "k = ('p')\n",
    "greet(k)"
   ]
  },
  {
   "cell_type": "code",
   "execution_count": null,
   "id": "4f1b7780",
   "metadata": {},
   "outputs": [],
   "source": []
  },
  {
   "cell_type": "code",
   "execution_count": null,
   "id": "921c1cea",
   "metadata": {},
   "outputs": [],
   "source": []
  },
  {
   "cell_type": "code",
   "execution_count": null,
   "id": "c90d422c",
   "metadata": {},
   "outputs": [],
   "source": []
  },
  {
   "cell_type": "code",
   "execution_count": null,
   "id": "2cda1f14",
   "metadata": {},
   "outputs": [],
   "source": []
  }
 ],
 "metadata": {
  "kernelspec": {
   "display_name": "Python 3 (ipykernel)",
   "language": "python",
   "name": "python3"
  },
  "language_info": {
   "codemirror_mode": {
    "name": "ipython",
    "version": 3
   },
   "file_extension": ".py",
   "mimetype": "text/x-python",
   "name": "python",
   "nbconvert_exporter": "python",
   "pygments_lexer": "ipython3",
   "version": "3.9.12"
  }
 },
 "nbformat": 4,
 "nbformat_minor": 5
}
