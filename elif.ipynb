{
 "cells": [
  {
   "cell_type": "code",
   "execution_count": null,
   "id": "5b48e9b8",
   "metadata": {},
   "outputs": [],
   "source": [
    "a = int(input(\"Enter any number\"))\n",
    "if a%2 == 0:\n",
    "    print(a, \"Is even number\")\n",
    "else:\n",
    "    print (a, \"is odd\")\n"
   ]
  },
  {
   "cell_type": "code",
   "execution_count": 2,
   "id": "4fcadbbd",
   "metadata": {},
   "outputs": [
    {
     "name": "stdout",
     "output_type": "stream",
     "text": [
      "input the value of A14\n",
      "input the value of B14\n",
      "they are same\n"
     ]
    }
   ],
   "source": [
    "a = int(input(\"input the value of A\"))\n",
    "b = int(input(\"input the value of B\"))\n",
    "if a > b:\n",
    "    print(a, \"is greater i.e a\")\n",
    "elif a<b:\n",
    "    print (b, \"is greater ie b\")\n",
    "else:\n",
    "    print(\"they are same\")"
   ]
  },
  {
   "cell_type": "code",
   "execution_count": 3,
   "id": "4ffeb3d4",
   "metadata": {},
   "outputs": [
    {
     "name": "stdout",
     "output_type": "stream",
     "text": [
      "enter marks65\n",
      "enter marks85\n",
      "enter marks62\n",
      "enter marks12\n",
      "you got A\n"
     ]
    }
   ],
   "source": [
    "physics = int(input(\"enter marks\"))\n",
    "chemistry = int(input(\"enter marks\"))\n",
    "nepali = int(input(\"enter marks\"))\n",
    "math = int(input(\"enter marks\"))\n",
    "t = physics + chemistry + nepali + math\n",
    "percentage = t/4\n",
    "if percentage >= 60:\n",
    "    print(\"you got A+\")\n",
    "elif percentage >= 50:\n",
    "    print(\"you got A\")\n",
    "elif percentage >= 40:\n",
    "    print(\"you got b\") \n",
    "elif percentage >  30:\n",
    "    print(\"you are failed\")    \n"
   ]
  },
  {
   "cell_type": "code",
   "execution_count": null,
   "id": "e75f734f",
   "metadata": {},
   "outputs": [],
   "source": []
  }
 ],
 "metadata": {
  "kernelspec": {
   "display_name": "Python 3 (ipykernel)",
   "language": "python",
   "name": "python3"
  },
  "language_info": {
   "codemirror_mode": {
    "name": "ipython",
    "version": 3
   },
   "file_extension": ".py",
   "mimetype": "text/x-python",
   "name": "python",
   "nbconvert_exporter": "python",
   "pygments_lexer": "ipython3",
   "version": "3.9.12"
  }
 },
 "nbformat": 4,
 "nbformat_minor": 5
}
