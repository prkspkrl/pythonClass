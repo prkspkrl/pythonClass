{
 "cells": [
  {
   "cell_type": "code",
   "execution_count": 1,
   "id": "3cbea8df",
   "metadata": {},
   "outputs": [],
   "source": [
    "# Math Function (package)"
   ]
  },
  {
   "cell_type": "code",
   "execution_count": 5,
   "id": "21f7d784",
   "metadata": {},
   "outputs": [
    {
     "data": {
      "text/plain": [
       "120"
      ]
     },
     "execution_count": 5,
     "metadata": {},
     "output_type": "execute_result"
    }
   ],
   "source": [
    "import math as m\n",
    "n = 5\n",
    "m.factorial(n)"
   ]
  },
  {
   "cell_type": "code",
   "execution_count": 6,
   "id": "4735a8dd",
   "metadata": {},
   "outputs": [
    {
     "data": {
      "text/plain": [
       "153.93804002589985"
      ]
     },
     "execution_count": 6,
     "metadata": {},
     "output_type": "execute_result"
    }
   ],
   "source": [
    "import math as m\n",
    "r= 7\n",
    "a = m.pi*m.pow(r,2)\n",
    "a"
   ]
  },
  {
   "cell_type": "code",
   "execution_count": 9,
   "id": "dc54a0dc",
   "metadata": {},
   "outputs": [
    {
     "data": {
      "text/plain": [
       "1.0"
      ]
     },
     "execution_count": 9,
     "metadata": {},
     "output_type": "execute_result"
    }
   ],
   "source": [
    "import math as m\n",
    "# m.sin(90)\n",
    "m.sin(m.pi/2)"
   ]
  },
  {
   "cell_type": "code",
   "execution_count": 10,
   "id": "179da431",
   "metadata": {},
   "outputs": [
    {
     "data": {
      "text/plain": [
       "1.0"
      ]
     },
     "execution_count": 10,
     "metadata": {},
     "output_type": "execute_result"
    }
   ],
   "source": [
    "import math as m\n",
    "x= m.sin(m.pi/2)\n",
    "y= m.cos(m.pi/2)\n",
    "m.pow(x,2)+m.pow(y,2)"
   ]
  },
  {
   "cell_type": "code",
   "execution_count": 13,
   "id": "ea27a755",
   "metadata": {},
   "outputs": [],
   "source": [
    "#LAMDAFunction{simple problem ,but powerful and imp}\n"
   ]
  },
  {
   "cell_type": "code",
   "execution_count": 18,
   "id": "61a8bfb6",
   "metadata": {},
   "outputs": [
    {
     "data": {
      "text/plain": [
       "9"
      ]
     },
     "execution_count": 18,
     "metadata": {},
     "output_type": "execute_result"
    }
   ],
   "source": [
    "y = lambda x:x**2\n",
    "y(3)\n"
   ]
  },
  {
   "cell_type": "code",
   "execution_count": 19,
   "id": "6e91e90e",
   "metadata": {},
   "outputs": [
    {
     "data": {
      "text/plain": [
       "3"
      ]
     },
     "execution_count": 19,
     "metadata": {},
     "output_type": "execute_result"
    }
   ],
   "source": [
    "x=lambda l,b:1*b\n",
    "x(2,3)"
   ]
  },
  {
   "cell_type": "code",
   "execution_count": 23,
   "id": "2c5c4a72",
   "metadata": {},
   "outputs": [
    {
     "data": {
      "text/plain": [
       "[2, 4, 6, 2, 4, 6]"
      ]
     },
     "execution_count": 23,
     "metadata": {},
     "output_type": "execute_result"
    }
   ],
   "source": [
    "y = [1,2,3,4,5,6,1,2,3,4,5,6]\n",
    "list(filter(lambda x:x%2 ==0,y))"
   ]
  },
  {
   "cell_type": "code",
   "execution_count": 24,
   "id": "a671b14e",
   "metadata": {},
   "outputs": [
    {
     "data": {
      "text/plain": [
       "['Apple', 'Cat', 'Dog']"
      ]
     },
     "execution_count": 24,
     "metadata": {},
     "output_type": "execute_result"
    }
   ],
   "source": [
    "a = ['Apple','ball','Cat','Dog']\n",
    "list(filter(lambda x:x[0].isupper(),a))"
   ]
  },
  {
   "cell_type": "code",
   "execution_count": 29,
   "id": "ffa9bb28",
   "metadata": {},
   "outputs": [],
   "source": [
    "a = ['Apple','ball','Cat','Dog']\n",
    "b = [i for i in a if i[0].isupper()] #Comprehansive func"
   ]
  },
  {
   "cell_type": "code",
   "execution_count": 31,
   "id": "4e6ec4d8",
   "metadata": {},
   "outputs": [
    {
     "data": {
      "text/plain": [
       "[1, 4, 9, 16, 25, 36]"
      ]
     },
     "execution_count": 31,
     "metadata": {},
     "output_type": "execute_result"
    }
   ],
   "source": [
    "a = [1,2,3,4,5,6]\n",
    "list(map(lambda x:x**2,a))"
   ]
  },
  {
   "cell_type": "code",
   "execution_count": 32,
   "id": "cdee3fbf",
   "metadata": {},
   "outputs": [
    {
     "data": {
      "text/plain": [
       "['Apple', 'Ball', 'Cat', 'Dog']"
      ]
     },
     "execution_count": 32,
     "metadata": {},
     "output_type": "execute_result"
    }
   ],
   "source": [
    "a =  ['apple','ball','cat','dog']\n",
    "list(map(lambda x:x.title(),a))"
   ]
  },
  {
   "cell_type": "code",
   "execution_count": 34,
   "id": "38fdf1b6",
   "metadata": {},
   "outputs": [
    {
     "data": {
      "text/plain": [
       "['APPLE', 'BALL', 'CAT', 'DOG']"
      ]
     },
     "execution_count": 34,
     "metadata": {},
     "output_type": "execute_result"
    }
   ],
   "source": [
    "a =  ['apple','ball','cat','dog']\n",
    "list(map(lambda x:x.upper(),a))"
   ]
  },
  {
   "cell_type": "code",
   "execution_count": null,
   "id": "2d5bf882",
   "metadata": {},
   "outputs": [],
   "source": []
  }
 ],
 "metadata": {
  "kernelspec": {
   "display_name": "Python 3 (ipykernel)",
   "language": "python",
   "name": "python3"
  },
  "language_info": {
   "codemirror_mode": {
    "name": "ipython",
    "version": 3
   },
   "file_extension": ".py",
   "mimetype": "text/x-python",
   "name": "python",
   "nbconvert_exporter": "python",
   "pygments_lexer": "ipython3",
   "version": "3.9.12"
  }
 },
 "nbformat": 4,
 "nbformat_minor": 5
}
