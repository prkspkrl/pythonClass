{
 "cells": [
  {
   "cell_type": "code",
   "execution_count": 5,
   "id": "47309c72",
   "metadata": {},
   "outputs": [
    {
     "data": {
      "text/plain": [
       "['AAPLE', 'apples', 'ball', 'cat', 'Dog', 'Fish']"
      ]
     },
     "execution_count": 5,
     "metadata": {},
     "output_type": "execute_result"
    }
   ],
   "source": [
    "#UPDATE VALUES\n",
    "a= [\"Apple\", \"Ball\", \"cat\",\"Dog\", \"Fish\"]\n",
    "a[0] = 'AAPLE'\n",
    "a[1:2] = 'apples','ball'\n",
    "a\n"
   ]
  },
  {
   "cell_type": "code",
   "execution_count": 7,
   "id": "89b6683f",
   "metadata": {},
   "outputs": [
    {
     "data": {
      "text/plain": [
       "['Apple', 'cat', 'Dog', 'Fish']"
      ]
     },
     "execution_count": 7,
     "metadata": {},
     "output_type": "execute_result"
    }
   ],
   "source": [
    "#Delete VALUES\n",
    "a= [\"Apple\", \"Ball\", \"cat\",\"Dog\", \"Fish\"]\n",
    "del a[1:2]\n",
    "a"
   ]
  },
  {
   "cell_type": "code",
   "execution_count": 12,
   "id": "991bfb7e",
   "metadata": {},
   "outputs": [
    {
     "name": "stdout",
     "output_type": "stream",
     "text": [
      "['Ball', 'cat', 'Dog', 'Fish']\n",
      "Apple\n"
     ]
    }
   ],
   "source": [
    "#pop for removing \n",
    "a= [\"Apple\", \"Ball\", \"cat\",\"Dog\", \"Fish\"]\n",
    "b = a.pop(0)\n",
    "print(a)\n",
    "print(b)"
   ]
  },
  {
   "cell_type": "code",
   "execution_count": 13,
   "id": "fbe67db4",
   "metadata": {},
   "outputs": [
    {
     "data": {
      "text/plain": [
       "['Apple', 'cat', 'Dog', 'Fish']"
      ]
     },
     "execution_count": 13,
     "metadata": {},
     "output_type": "execute_result"
    }
   ],
   "source": [
    "a= [\"Apple\", \"Ball\", \"cat\",\"Dog\", \"Fish\"]\n",
    "a.remove('Ball')\n",
    "a"
   ]
  },
  {
   "cell_type": "code",
   "execution_count": 14,
   "id": "982919af",
   "metadata": {},
   "outputs": [
    {
     "name": "stdout",
     "output_type": "stream",
     "text": [
      "['Ball', 'cat', 'Dog', 'Fish']\n"
     ]
    }
   ],
   "source": [
    "#To remove multiple values\n",
    "a= [\"apple\", \"apple\",\"Ball\", \"cat\",\"Dog\", \"Fish\"]\n",
    "l = a.count('apple')\n",
    "for i in range(l):\n",
    "    a.remove('apple')\n",
    "print(a)    "
   ]
  },
  {
   "cell_type": "code",
   "execution_count": 16,
   "id": "fc2014c9",
   "metadata": {},
   "outputs": [
    {
     "name": "stdout",
     "output_type": "stream",
     "text": [
      "3\n"
     ]
    }
   ],
   "source": [
    "#Nasted List | list indide list\n",
    "a =[[1,2,3],\n",
    "    [4,5,6,7],\n",
    "    [8,9,0]]\n",
    "print(len(a))"
   ]
  },
  {
   "cell_type": "code",
   "execution_count": 22,
   "id": "5cadfb46",
   "metadata": {},
   "outputs": [
    {
     "name": "stdout",
     "output_type": "stream",
     "text": [
      "[['Prakash', 31, 'Ktm'], ['hari', 35, 'bkt'], ['shyam', 24, 'skt', 'btl']]\n",
      "['hari', 35, 'bkt']\n",
      "shyam\n"
     ]
    }
   ],
   "source": [
    "a = [['Prakash', 31, 'Ktm'],\n",
    "    ['hari', 35, 'bkt'],\n",
    "    ['shyam', 24, 'skt','btl']]\n",
    "print(a)\n",
    "print(a[1])\n",
    "print(a[2][0])"
   ]
  },
  {
   "cell_type": "code",
   "execution_count": 24,
   "id": "60c46a46",
   "metadata": {},
   "outputs": [
    {
     "name": "stdout",
     "output_type": "stream",
     "text": [
      "Enter n = 1\n",
      "enter name = pp\n",
      "enter age = 11\n",
      "enter add = aa\n",
      "[['pp', 11, 'aa']]\n"
     ]
    }
   ],
   "source": [
    "a = list()\n",
    "n = int(input(\"Enter n = \"))\n",
    "for i in range(n):\n",
    "    name = input(\"enter name = \") \n",
    "    age = int(input(\"enter age = \")) \n",
    "    add= input(\"enter add = \") \n",
    "    a.append([name,age,add])\n",
    "print(a)    "
   ]
  },
  {
   "cell_type": "code",
   "execution_count": 28,
   "id": "f26a5eac",
   "metadata": {},
   "outputs": [
    {
     "name": "stdout",
     "output_type": "stream",
     "text": [
      "yes\n"
     ]
    }
   ],
   "source": [
    "#To search something\n",
    "a = [['Prakash', 31, 'Ktm'],\n",
    "    ['hari', 35, 'bkt'],\n",
    "    ['shyam', 24, 'skt','btl']]\n",
    "\n",
    "for i in a:\n",
    "    if 'Prakash' in i:\n",
    "        print(\"yes\")"
   ]
  },
  {
   "cell_type": "code",
   "execution_count": 32,
   "id": "8520b1d2",
   "metadata": {},
   "outputs": [
    {
     "name": "stdout",
     "output_type": "stream",
     "text": [
      "enter name =Prakash\n",
      "['Prakash', 31, 'Ktm']\n"
     ]
    }
   ],
   "source": [
    "#To search something\n",
    "a = [['Prakash', 31, 'Ktm'],\n",
    "    ['hari', 35, 'bkt'],\n",
    "    ['shyam', 24, 'skt','btl']]\n",
    "name = input(\"enter name =\")\n",
    "for i in a:\n",
    "    if name in i:\n",
    "        print(i)"
   ]
  },
  {
   "cell_type": "code",
   "execution_count": 41,
   "id": "1244325a",
   "metadata": {},
   "outputs": [
    {
     "data": {
      "text/plain": [
       "[['mohan', 35, 'chujathati'], ['hari', 35, 'bkt'], ['shyam', 24, 'skt', 'btl']]"
      ]
     },
     "execution_count": 41,
     "metadata": {},
     "output_type": "execute_result"
    }
   ],
   "source": [
    "a = [['Prakash', 31, 'Ktm'],\n",
    "    ['hari', 35, 'bkt'],\n",
    "    ['shyam', 24, 'skt','btl']]\n",
    "a[0][0:3] = 'mohan', 35, \"chujathati\"\n",
    "a"
   ]
  },
  {
   "cell_type": "code",
   "execution_count": 42,
   "id": "9a22ea6b",
   "metadata": {},
   "outputs": [
    {
     "name": "stdout",
     "output_type": "stream",
     "text": [
      "Enter name =Prakash\n"
     ]
    },
    {
     "data": {
      "text/plain": [
       "[['Prakash', 31, 'Ktm'], ['hari', 35, 'bkt'], ['shyam', 24, 'skt', 'btl']]"
      ]
     },
     "execution_count": 42,
     "metadata": {},
     "output_type": "execute_result"
    }
   ],
   "source": [
    "a = [['Prakash', 31, 'Ktm'],\n",
    "    ['hari', 35, 'bkt'],\n",
    "    ['shyam', 24, 'skt','btl']]\n",
    "a[0][0] = input(\"Enter name =\")\n",
    "a"
   ]
  },
  {
   "cell_type": "code",
   "execution_count": 56,
   "id": "ef7eaae5",
   "metadata": {},
   "outputs": [
    {
     "data": {
      "text/plain": [
       "[['Apple', '300', '2', '600'], ['banana', '200', '3', '600']]"
      ]
     },
     "execution_count": 56,
     "metadata": {},
     "output_type": "execute_result"
    }
   ],
   "source": [
    "bill = []\n",
    "a =\"Apple 300 2 600\\n banana 200 3 600\\n\"\n",
    "b = a.split('\\n')[0:-1]\n",
    "for i in b:\n",
    "    x = i.split()\n",
    "    #print(x)\n",
    "    bill.append(x)\n",
    "bill"
   ]
  },
  {
   "cell_type": "code",
   "execution_count": null,
   "id": "c961920b",
   "metadata": {},
   "outputs": [],
   "source": []
  }
 ],
 "metadata": {
  "kernelspec": {
   "display_name": "Python 3 (ipykernel)",
   "language": "python",
   "name": "python3"
  },
  "language_info": {
   "codemirror_mode": {
    "name": "ipython",
    "version": 3
   },
   "file_extension": ".py",
   "mimetype": "text/x-python",
   "name": "python",
   "nbconvert_exporter": "python",
   "pygments_lexer": "ipython3",
   "version": "3.9.12"
  }
 },
 "nbformat": 4,
 "nbformat_minor": 5
}
