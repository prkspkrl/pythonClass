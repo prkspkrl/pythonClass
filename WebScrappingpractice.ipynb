{
 "cells": [
  {
   "cell_type": "code",
   "execution_count": null,
   "id": "a5c2af5d",
   "metadata": {},
   "outputs": [],
   "source": [
    "# parse => converting code into readable format html\n",
    "# scrape\n",
    "# 1.use of API\n",
    "# 2. Htmlweb scraping using bs4\n",
    "\n",
    "\n",
    "# step\n",
    "# 0.install all the requirement\n",
    "# get html\n",
    "# parse the html\n",
    "# html tree travaksal"
   ]
  },
  {
   "cell_type": "code",
   "execution_count": 16,
   "id": "0c3569de",
   "metadata": {},
   "outputs": [
    {
     "ename": "SyntaxError",
     "evalue": "invalid syntax (3232168345.py, line 2)",
     "output_type": "error",
     "traceback": [
      "\u001b[1;36m  Input \u001b[1;32mIn [16]\u001b[1;36m\u001b[0m\n\u001b[1;33m    pip install html5lib\u001b[0m\n\u001b[1;37m        ^\u001b[0m\n\u001b[1;31mSyntaxError\u001b[0m\u001b[1;31m:\u001b[0m invalid syntax\n"
     ]
    }
   ],
   "source": [
    "# pip install requests\n",
    "# pip install html5lib\n"
   ]
  },
  {
   "cell_type": "code",
   "execution_count": 1,
   "id": "14fbaf9b",
   "metadata": {},
   "outputs": [
    {
     "name": "stdout",
     "output_type": "stream",
     "text": [
      " thisi si commnt \n",
      "Home\n",
      "Courses\n",
      "Tutorial\n",
      "Blog\n",
      "Notes\n",
      "Contact\n",
      "My Gear\n",
      "Work With Us\n",
      "Login\n",
      "Signup\n",
      "nav-content.parent\n"
     ]
    }
   ],
   "source": [
    "import requests\n",
    "import html5lib, bs4\n",
    "from bs4 import BeautifulSoup\n",
    "url = \"https://www.codewithharry.com/\"\n",
    "r = requests.get(url)\n",
    "htmlContent = r.content\n",
    "# print(htmlcontent)\n",
    "\n",
    "soup = BeautifulSoup(htmlContent, 'html.parser')\n",
    "# print(soup.prettify())\n",
    "title = soup.title\n",
    "# print(title)\n",
    "\n",
    "paras = soup.find_all('p')\n",
    "# print(paras)\n",
    "\n",
    "anchor = soup.find_all('a')\n",
    "# print(anchor)\n",
    "\n",
    "#get 1st elemen of the page\n",
    "# print(soup.find('a')) \n",
    "\n",
    "# print(soup.find('p')['class'])\n",
    "\n",
    "\n",
    "#find all the element with class lead\n",
    "# print(soup.find_all('p', class_=\"lead\"))\n",
    "\n",
    "#Get the text from the tags/soup\n",
    "# print(soup.find('p').get_text('/n')) \n",
    "\n",
    "# print(soup.get_text())\n",
    "\n",
    "#html comment\n",
    "markup = \"<p><!-- thisi si commnt --></p>\"\n",
    "soup2 = BeautifulSoup(markup)\n",
    "print(soup2.p.string)\n",
    "exit()\n",
    "\n",
    "\n",
    "\n",
    "#get all links on the page\n",
    "# all_link = set() #not showing reapeat data\n",
    "# for link in anchor:\n",
    "#     if(link.get('href') != '#'):\n",
    "#         linkText =\"https://codewithharry.com\"+link.get('href')\n",
    "#         all_link.add(linkText)\n",
    "#         print(linkText)\n",
    "        \n",
    "        \n",
    "#.contents = tags are available in list\n",
    "#.children = A tag are available generator\n",
    "#same ho .children ali fast\n",
    "navbarSupportedContent = soup.find(id='nav-content')\n",
    "# print(navbarSupportedContent)\n",
    "# for elem in navbarSupportedContent.contents: \n",
    "#     print(elem)\n",
    "for elem in navbarSupportedContent.strings:\n",
    "    print(elem)\n",
    "    \n",
    "# for elemt in navbarSupportedContent.stripped_strings:\n",
    "#     print(elemt)    \n",
    "\n",
    "print(nav-content.parent)"
   ]
  },
  {
   "cell_type": "code",
   "execution_count": null,
   "id": "60da7ffe",
   "metadata": {},
   "outputs": [],
   "source": []
  },
  {
   "cell_type": "code",
   "execution_count": null,
   "id": "44b4225e",
   "metadata": {},
   "outputs": [],
   "source": []
  },
  {
   "cell_type": "code",
   "execution_count": null,
   "id": "a887890c",
   "metadata": {},
   "outputs": [],
   "source": []
  }
 ],
 "metadata": {
  "kernelspec": {
   "display_name": "Python 3 (ipykernel)",
   "language": "python",
   "name": "python3"
  },
  "language_info": {
   "codemirror_mode": {
    "name": "ipython",
    "version": 3
   },
   "file_extension": ".py",
   "mimetype": "text/x-python",
   "name": "python",
   "nbconvert_exporter": "python",
   "pygments_lexer": "ipython3",
   "version": "3.9.12"
  }
 },
 "nbformat": 4,
 "nbformat_minor": 5
}
