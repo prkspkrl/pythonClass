{
 "cells": [
  {
   "cell_type": "code",
   "execution_count": 1,
   "id": "d2a04341",
   "metadata": {},
   "outputs": [
    {
     "name": "stdout",
     "output_type": "stream",
     "text": [
      "Hello World\n"
     ]
    }
   ],
   "source": [
    "def hello():\n",
    "    print(\"Hello World\")\n",
    "hello()    "
   ]
  },
  {
   "cell_type": "code",
   "execution_count": null,
   "id": "e952d371",
   "metadata": {},
   "outputs": [],
   "source": [
    "def cal():\n",
    "    l= int(input(\"Enter l = \")) #Local variable\n",
    "    b=  int(input(\"Enter b = \")) #Local variable\n",
    "    h=  int(input(\"Enter h = \")) #Local variable\n",
    "    a =l*b\n",
    "    v=a*h\n",
    "    print(a)\n",
    "    print(v)\n",
    "cal()    "
   ]
  },
  {
   "cell_type": "code",
   "execution_count": null,
   "id": "5c89920a",
   "metadata": {},
   "outputs": [],
   "source": [
    "\n",
    "    l= int(input(\"Enter l = \")) #GLOBAL variable\n",
    "    b=  int(input(\"Enter b = \")) #GLOBAL variable\n",
    "    h=  int(input(\"Enter h = \")) #GLOBAL variable\n",
    "    def cal():\n",
    "        a =l*b\n",
    "        v=a*h\n",
    "        print(a)\n",
    "        print(v)\n",
    "    cal()  \n",
    "    "
   ]
  },
  {
   "cell_type": "code",
   "execution_count": null,
   "id": "caa0f4a3",
   "metadata": {},
   "outputs": [],
   "source": [
    "#Local into global\n",
    "def cal():\n",
    "    l= int(input(\"Enter l = \")) #Local variable\n",
    "    b=  int(input(\"Enter b = \")) #Local variable\n",
    "    h=  int(input(\"Enter h = \")) #Local variable\n",
    "    global a,v\n",
    "    a =l*b\n",
    "    v=a*h\n",
    "    print(a)\n",
    "    print(v)\n",
    "cal()    \n",
    "print(a,v)"
   ]
  },
  {
   "cell_type": "code",
   "execution_count": null,
   "id": "358f2c6a",
   "metadata": {},
   "outputs": [],
   "source": [
    "#function Without argument and without return type\n",
    "#function With argument and without return type\n",
    "#function Without argument and return type\n",
    "#function With argument and return type"
   ]
  },
  {
   "cell_type": "code",
   "execution_count": null,
   "id": "67d082b9",
   "metadata": {},
   "outputs": [],
   "source": [
    "def hello(x): #Parameter\n",
    "    print(x)\n",
    "\n",
    "hello(\"Hello world\") #argument"
   ]
  },
  {
   "cell_type": "code",
   "execution_count": null,
   "id": "c17babfd",
   "metadata": {},
   "outputs": [],
   "source": [
    "def cal(l,b,h):\n",
    "    a =l*b\n",
    "    v=a*h\n",
    "    print(a)\n",
    "    print(v)\n",
    "    \n",
    "l= int(input(\"Enter l = \")) #Local variable\n",
    "b=  int(input(\"Enter b = \")) #Local variable\n",
    "h=  int(input(\"Enter h = \")) #Local variable\n",
    "    \n",
    "cal(l,b,h) \n"
   ]
  },
  {
   "cell_type": "code",
   "execution_count": null,
   "id": "8e5bfa95",
   "metadata": {},
   "outputs": [],
   "source": [
    "def cal(y): #can put x and remove second line\n",
    "    l,b,h = y # Which is same as [l,b,h]\n",
    "    a =l*b\n",
    "    v=a*h\n",
    "    print(a)\n",
    "    print(v)\n",
    "    \n",
    "l= int(input(\"Enter l = \")) #Local variable\n",
    "b=  int(input(\"Enter b = \")) #Local variable\n",
    "h=  int(input(\"Enter h = \")) #Local variable\n",
    "x = [l,b,h]    \n",
    "cal(x) \n"
   ]
  },
  {
   "cell_type": "code",
   "execution_count": null,
   "id": "7ddaf2f5",
   "metadata": {},
   "outputs": [],
   "source": [
    "def lan(language = \"Python\"): #in here pyuthon is just default value\n",
    "    print(language)\n",
    "lan(\"C\")\n",
    "lan(\"C++\")\n",
    "lan(\"java\")\n",
    "lan(\"Pyhon\")"
   ]
  },
  {
   "cell_type": "code",
   "execution_count": null,
   "id": "a3679e1c",
   "metadata": {},
   "outputs": [],
   "source": [
    "#Retuen Type Function\n",
    "def hello():\n",
    "    return \"hello World\"\n",
    "\n",
    "print(hello())"
   ]
  },
  {
   "cell_type": "code",
   "execution_count": null,
   "id": "b030b14a",
   "metadata": {},
   "outputs": [],
   "source": [
    "# retuen type function is most imp\n",
    "def cal():\n",
    "    l= int(input(\"Enter l = \")) \n",
    "    b=  int(input(\"Enter b = \")) \n",
    "    a= l*b\n",
    "    return a\n",
    "\n",
    "area = cal()\n",
    "h = int(input(\"Enter h= \"))\n",
    "volume = area*h\n",
    "print(volume)"
   ]
  },
  {
   "cell_type": "code",
   "execution_count": 2,
   "id": "621eae39",
   "metadata": {},
   "outputs": [
    {
     "name": "stdout",
     "output_type": "stream",
     "text": [
      "HwlloWorld\n"
     ]
    }
   ],
   "source": [
    "#Function with return typw and argument retuen type function\n",
    "def hello(a,b):\n",
    "    return a+b\n",
    "\n",
    "x = hello(\"Hwllo\",\"World\")\n",
    "print(x)"
   ]
  },
  {
   "cell_type": "code",
   "execution_count": 4,
   "id": "34d669b7",
   "metadata": {},
   "outputs": [
    {
     "name": "stdout",
     "output_type": "stream",
     "text": [
      "Enter l = 111\n",
      "Enter b = 11\n",
      "enter h =11\n",
      "13431\n"
     ]
    }
   ],
   "source": [
    "def cal(x,y):\n",
    "    a= x*y\n",
    "    return a\n",
    "\n",
    "l= int(input(\"Enter l = \")) \n",
    "b=  int(input(\"Enter b = \")) \n",
    "\n",
    "area = cal(l,b)\n",
    "h= int(input(\"enter h =\"))\n",
    "volume = area*h\n",
    "print(volume)\n",
    "\n"
   ]
  },
  {
   "cell_type": "code",
   "execution_count": null,
   "id": "516f4dd6",
   "metadata": {},
   "outputs": [],
   "source": []
  }
 ],
 "metadata": {
  "kernelspec": {
   "display_name": "Python 3 (ipykernel)",
   "language": "python",
   "name": "python3"
  },
  "language_info": {
   "codemirror_mode": {
    "name": "ipython",
    "version": 3
   },
   "file_extension": ".py",
   "mimetype": "text/x-python",
   "name": "python",
   "nbconvert_exporter": "python",
   "pygments_lexer": "ipython3",
   "version": "3.9.12"
  }
 },
 "nbformat": 4,
 "nbformat_minor": 5
}
