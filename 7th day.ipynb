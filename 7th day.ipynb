{
 "cells": [
  {
   "cell_type": "code",
   "execution_count": null,
   "id": "27606399",
   "metadata": {},
   "outputs": [],
   "source": [
    "fac = 1\n",
    "i =1 \n",
    "n = int(input(\"enter n =\"))\n",
    "while n<=1:\n",
    "    fac=fac*1\n",
    "    i = i +1\n",
    "print(fac)"
   ]
  },
  {
   "cell_type": "code",
   "execution_count": null,
   "id": "9e284ebd",
   "metadata": {},
   "outputs": [],
   "source": [
    "s = str()\n",
    "i =0 \n",
    "n= int(input(\"enter n =\"))\n",
    "while i<n:\n",
    "    name = input(\"Enter name = \")\n",
    "    phone = int(input(\"Enter phone num =\"))\n",
    "    s = s+\" \"+name+\"\"+str(phone)+'\\n'\n",
    "    i = i + 1\n",
    "print(s)    \n",
    "    "
   ]
  },
  {
   "cell_type": "code",
   "execution_count": null,
   "id": "ccd86307",
   "metadata": {},
   "outputs": [],
   "source": [
    "#Store\n",
    "s = str()\n",
    "all_total = 0\n",
    "i =0 \n",
    "n= int(input(\"enter n =\"))\n",
    "while i<n:\n",
    "    product = input(\"Enter name = \")\n",
    "    price = int(input(\"Enter phone num =\"))\n",
    "    quantity = int(input(\"Enter phone num =\"))\n",
    "    total = price*quantity\n",
    "    all_total= all_total + total\n",
    "    #s = s+\" \"+ product +\" \"+ str(price) +\" \"+ str(quantity) +\" \"+ str(total)+'\\n'\n",
    "    s = s+f\"{product} {price}{quantity}{total}\"\n",
    "    \n",
    "    i = i+1\n",
    "print(s)    \n",
    "print(all_total)"
   ]
  },
  {
   "cell_type": "code",
   "execution_count": 3,
   "id": "027831ca",
   "metadata": {},
   "outputs": [
    {
     "name": "stdout",
     "output_type": "stream",
     "text": [
      "P\n",
      "y\n",
      "t\n",
      "h\n",
      "o\n",
      "n\n"
     ]
    }
   ],
   "source": [
    "#print all  char\n",
    "a = \"Python\"\n",
    "l = len(a)\n",
    "i = 0\n",
    "while i <l:\n",
    "    print(a[i])\n",
    "    i = i+1"
   ]
  },
  {
   "cell_type": "code",
   "execution_count": null,
   "id": "db8e2c68",
   "metadata": {},
   "outputs": [],
   "source": [
    "#print all  char with remove space\n",
    "a = \"Hello world i am python\"\n",
    "l = len(a)\n",
    "i = 0\n",
    "while i <l:\n",
    "    if (a[i]) !=\" \":\n",
    "        print(a[i], end= \"\")\n",
    "    i = i+1"
   ]
  },
  {
   "cell_type": "code",
   "execution_count": null,
   "id": "f6a78033",
   "metadata": {},
   "outputs": [],
   "source": [
    "#Break and continue in while loop\n",
    "a = \"Hello world i am python\"\n",
    "l = len(a)\n",
    "i = 0\n",
    "while i <l:\n",
    "    if a[i] == \" \":\n",
    "        i = i + 1\n",
    "        continue\n",
    "        #break\n",
    "    print(a[i], end= \"\")\n",
    "    i = i+1"
   ]
  },
  {
   "cell_type": "code",
   "execution_count": null,
   "id": "3275d92f",
   "metadata": {},
   "outputs": [],
   "source": [
    "#for esle loop"
   ]
  },
  {
   "cell_type": "code",
   "execution_count": null,
   "id": "b50bab29",
   "metadata": {},
   "outputs": [],
   "source": [
    "#prime = 2,3,5,7,11\n",
    "#composite = 4,6,8,9,10\n",
    "n= int(input(\"enter n =\"))\n",
    "for i in range(2,n//2):\n",
    "    if n%i == 0:\n",
    "        print(n, \"is composite number\")\n",
    "        break\n",
    "else:\n",
    "    print(n,\"is prime\")\n"
   ]
  },
  {
   "cell_type": "code",
   "execution_count": null,
   "id": "e7d31522",
   "metadata": {},
   "outputs": [],
   "source": [
    "#prime = 2,3,5,7,11\n",
    "#composite = 4,6,8,9,10\n",
    "n= int(input(\"enter n =\"))\n",
    "if n >= 2:    \n",
    "    for i in range(2,n//2):\n",
    "        if n%i == 0:\n",
    "            print(n, \"is composite number\")\n",
    "            break\n",
    "    else:\n",
    "        print(n,\"is prime\")\n",
    "else:\n",
    "    print (\"should be greater\")\n"
   ]
  },
  {
   "cell_type": "code",
   "execution_count": null,
   "id": "39571a31",
   "metadata": {},
   "outputs": [],
   "source": []
  }
 ],
 "metadata": {
  "kernelspec": {
   "display_name": "Python 3 (ipykernel)",
   "language": "python",
   "name": "python3"
  },
  "language_info": {
   "codemirror_mode": {
    "name": "ipython",
    "version": 3
   },
   "file_extension": ".py",
   "mimetype": "text/x-python",
   "name": "python",
   "nbconvert_exporter": "python",
   "pygments_lexer": "ipython3",
   "version": "3.9.12"
  }
 },
 "nbformat": 4,
 "nbformat_minor": 5
}
