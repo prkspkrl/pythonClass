{
 "cells": [
  {
   "cell_type": "code",
   "execution_count": null,
   "id": "bed73d5c",
   "metadata": {},
   "outputs": [],
   "source": [
    "print (\"Hello world\")"
   ]
  },
  {
   "cell_type": "code",
   "execution_count": null,
   "id": "33fb3a56",
   "metadata": {},
   "outputs": [],
   "source": [
    "a = 10\n",
    "#integer 0-9 values\n",
    "b = \"ram\"\n",
    "#String ngle to triple quote and can have special character.\n",
    "\n",
    "c = True\n",
    "#true or false => 1 or 0\n",
    "\n",
    "f = 10.5\n",
    "# Float values that contain decimaal\n",
    "\n",
    "print(a)\n",
    "print(b)\n",
    "print(c)"
   ]
  },
  {
   "cell_type": "code",
   "execution_count": null,
   "id": "fe366396",
   "metadata": {},
   "outputs": [],
   "source": [
    "print(c,type(c))\n",
    "print(b, type(a))\n",
    "print(a,type(b))"
   ]
  },
  {
   "cell_type": "code",
   "execution_count": null,
   "id": "83ccdf04",
   "metadata": {},
   "outputs": [],
   "source": [
    "#Operators \n",
    "# arthamatic operator \n",
    "# + - * / % **(power) //(devide without any decimal values)"
   ]
  },
  {
   "cell_type": "code",
   "execution_count": null,
   "id": "e286ad9f",
   "metadata": {},
   "outputs": [],
   "source": [
    "a = 10\n",
    "b = 20\n",
    "c = 30\n",
    "\n",
    "d = a + b #(oprand combined)\n",
    "print(d)\n",
    "\n"
   ]
  },
  {
   "cell_type": "code",
   "execution_count": null,
   "id": "e9a7e53c",
   "metadata": {},
   "outputs": [],
   "source": [
    "a = 12\n",
    "b = 22\n",
    "c = 33\n",
    "\n",
    "e = b//a\n",
    "f = a**b #(power)\n",
    "\n",
    "print(e, f)"
   ]
  },
  {
   "cell_type": "code",
   "execution_count": null,
   "id": "4dd18ce6",
   "metadata": {},
   "outputs": [],
   "source": [
    "\n",
    "#Strung\n",
    "a = \"prakash \"\n",
    "b = \"10\"\n",
    "\n",
    "c = a + b #concatination when two or more strings add\n",
    "\n",
    "print(c)"
   ]
  },
  {
   "cell_type": "code",
   "execution_count": null,
   "id": "e7aa6554",
   "metadata": {
    "scrolled": true
   },
   "outputs": [],
   "source": [
    "a = \"Helloworld \\n\"\n",
    "print(a*2)"
   ]
  },
  {
   "cell_type": "code",
   "execution_count": null,
   "id": "9f934edb",
   "metadata": {},
   "outputs": [],
   "source": [
    "# concatnation is done betwn string and string\n",
    "# enlargement string and int\n"
   ]
  },
  {
   "cell_type": "code",
   "execution_count": null,
   "id": "2d94c6d4",
   "metadata": {},
   "outputs": [],
   "source": [
    "a = True\n",
    "b = False\n",
    "c = a + b\n",
    "d = a+a\n",
    "print(c)\n",
    "print(d)\n",
    "print(a, b)"
   ]
  },
  {
   "cell_type": "code",
   "execution_count": null,
   "id": "396d8c0e",
   "metadata": {},
   "outputs": [],
   "source": [
    "p = float(input(\"principle p\"))\n",
    "t = float(input(\"enter time t\"))\n",
    "r = float(input(\"enter rate r \"))\n",
    "i = p*t*r/100\n",
    "print(\"The values of I is\", i)"
   ]
  },
  {
   "cell_type": "code",
   "execution_count": null,
   "id": "437894f5",
   "metadata": {},
   "outputs": [],
   "source": [
    "# Area of circle calculate\n",
    "p = int(3.14)\n",
    "r = float(input(\"input radius  \"))\n",
    "a = p*r**2\n",
    "print(\"the area is\", a)\n",
    "          "
   ]
  },
  {
   "cell_type": "code",
   "execution_count": 3,
   "id": "fa4f6bae",
   "metadata": {},
   "outputs": [
    {
     "name": "stdout",
     "output_type": "stream",
     "text": [
      "Enter nepali score 40\n",
      "Enter english score 40\n",
      "Enter Math score40\n",
      "Enter science score40\n",
      "Enter education score40\n",
      "You Got  C Grade\n"
     ]
    }
   ],
   "source": [
    "nepali = int(input(\"Enter nepali score \"))\n",
    "english = int(input(\"Enter english score \"))\n",
    "math = int(input(\"Enter Math score\"))\n",
    "science = int(input(\"Enter science score\"))\n",
    "education =int(input(\"Enter education score\"))\n",
    "\n",
    "result = nepali + english+math+science+education\n",
    "percentage = result/5\n",
    "if percentage >= 80:\n",
    "    result = \"A+\"\n",
    "elif percentage >= 70:\n",
    "    result = \"A\"\n",
    "elif percentage >= 60:\n",
    "    result = \"B+\"\n",
    "elif percentage >=50:\n",
    "    result = \"B\"\n",
    "elif percentage >= 40:\n",
    "    result = \"C\"\n",
    "else:\n",
    "    result = \"failed\"\n",
    "\n",
    "print(\"You Got \", result,\"Grade\")    "
   ]
  },
  {
   "cell_type": "code",
   "execution_count": null,
   "id": "09c88f0c",
   "metadata": {},
   "outputs": [],
   "source": []
  }
 ],
 "metadata": {
  "kernelspec": {
   "display_name": "Python 3 (ipykernel)",
   "language": "python",
   "name": "python3"
  },
  "language_info": {
   "codemirror_mode": {
    "name": "ipython",
    "version": 3
   },
   "file_extension": ".py",
   "mimetype": "text/x-python",
   "name": "python",
   "nbconvert_exporter": "python",
   "pygments_lexer": "ipython3",
   "version": "3.9.12"
  }
 },
 "nbformat": 4,
 "nbformat_minor": 5
}
