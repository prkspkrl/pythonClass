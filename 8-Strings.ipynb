{
 "cells": [
  {
   "cell_type": "code",
   "execution_count": null,
   "id": "3205386a",
   "metadata": {},
   "outputs": [],
   "source": [
    "#To search we use \n",
    "a= \"Ram Shyam prakash hari aayush trbn\"\n",
    "if \"ram\" in a:\n",
    "    print(\"yes\",a.count(ram))\n",
    "else:\n",
    "    print(\"no\")"
   ]
  },
  {
   "cell_type": "code",
   "execution_count": null,
   "id": "59940686",
   "metadata": {},
   "outputs": [],
   "source": [
    "a= \"Ram Shyam prakash hari aayush trbn\".lower()\n",
    "name = input(\"Enter name =\").lower()\n",
    "if name in a:\n",
    "    print(\"yes\",a.count(name))\n",
    "else:\n",
    "    print(\"no\")"
   ]
  },
  {
   "cell_type": "code",
   "execution_count": null,
   "id": "1997a27c",
   "metadata": {},
   "outputs": [],
   "source": [
    "a= \"Ram Shyam prakash hari aayush trbn\"\n",
    "a= a.lower()\n",
    "print(a)"
   ]
  },
  {
   "cell_type": "code",
   "execution_count": null,
   "id": "28a0375f",
   "metadata": {},
   "outputs": [],
   "source": [
    "a= \"Ram Shyam prakash hari aayush trbn\"\n",
    "print(a.lower())\n",
    "print(a)"
   ]
  },
  {
   "cell_type": "code",
   "execution_count": null,
   "id": "2e24b1ca",
   "metadata": {},
   "outputs": [],
   "source": [
    "#To replace\n",
    "a= \"Ram Shyam prakash hari aayush trbn\"\n",
    "a = a.replace('trbn','tribhuwan')\n",
    "print(a)"
   ]
  },
  {
   "cell_type": "code",
   "execution_count": null,
   "id": "4626dadb",
   "metadata": {},
   "outputs": [],
   "source": [
    "#To replace\n",
    "a= \"Ram Shyam prakash hari aayush trbn\"\n",
    "a = a.replace('trbn','harishar')\n",
    "print(a)"
   ]
  },
  {
   "cell_type": "code",
   "execution_count": null,
   "id": "c08de2e0",
   "metadata": {},
   "outputs": [],
   "source": [
    "#Write a program to search any value in a strings and replace it by using function (half already done)\n",
    "a= \"Ram Shyam prakash hari prakash aayush trbn\".lower()\n",
    "name = input(\"Enter name =\").lower()\n",
    "if name in a:\n",
    "    print(\"yes available\")\n",
    "    rt = input(\"enter text to replace  \"+ name)\n",
    "    bac = a.replace(name,rt)\n",
    "    print(bac)\n",
    "    \n",
    "else:\n",
    "    print(\"no\")"
   ]
  },
  {
   "cell_type": "code",
   "execution_count": null,
   "id": "3316edd4",
   "metadata": {},
   "outputs": [],
   "source": [
    "#Write a program to search any value in a strings and replace it by using function\n",
    "a= \"Ram Shyam prakash hari prakash aayush trbn\".lower()\n",
    "name = input(\"Enter name =\").lower()\n",
    "if name in a:\n",
    "    print(\"yes available\")\n",
    "    confirmation = input(\"would you like  to replace this name? type yes\")\n",
    "    if confirmation == 'yes':\n",
    "        rt = input(\"enter text to replace  \"+ name)\n",
    "        bac = a.replace(name,rt)\n",
    "        print(bac)\n",
    "    else:\n",
    "        print(\"no change in list\")\n",
    "        print(a)\n",
    "    \n",
    "else:\n",
    "    print(\"not in list\")"
   ]
  },
  {
   "cell_type": "code",
   "execution_count": null,
   "id": "d4eef84b",
   "metadata": {},
   "outputs": [],
   "source": []
  }
 ],
 "metadata": {
  "kernelspec": {
   "display_name": "Python 3 (ipykernel)",
   "language": "python",
   "name": "python3"
  },
  "language_info": {
   "codemirror_mode": {
    "name": "ipython",
    "version": 3
   },
   "file_extension": ".py",
   "mimetype": "text/x-python",
   "name": "python",
   "nbconvert_exporter": "python",
   "pygments_lexer": "ipython3",
   "version": "3.9.12"
  }
 },
 "nbformat": 4,
 "nbformat_minor": 5
}
