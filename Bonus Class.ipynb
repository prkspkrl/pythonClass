{
 "cells": [
  {
   "cell_type": "code",
   "execution_count": 1,
   "id": "e6588699",
   "metadata": {},
   "outputs": [],
   "source": [
    "#comperhension: List, Dictonary #Small brackaet touple and function only"
   ]
  },
  {
   "cell_type": "code",
   "execution_count": 19,
   "id": "806fc32a",
   "metadata": {},
   "outputs": [],
   "source": [
    "# data= [int[input]"
   ]
  },
  {
   "cell_type": "code",
   "execution_count": 1,
   "id": "e8694f1d",
   "metadata": {},
   "outputs": [
    {
     "data": {
      "text/plain": [
       "'C:\\\\Users\\\\User\\\\Desktop\\\\python'"
      ]
     },
     "execution_count": 1,
     "metadata": {},
     "output_type": "execute_result"
    }
   ],
   "source": [
    "pwd"
   ]
  },
  {
   "cell_type": "code",
   "execution_count": null,
   "id": "273403bc",
   "metadata": {},
   "outputs": [],
   "source": [
    "data = [input(\"Enter value = \") for i in range(5)]\n",
    "data"
   ]
  },
  {
   "cell_type": "code",
   "execution_count": null,
   "id": "0daea09d",
   "metadata": {},
   "outputs": [],
   "source": [
    "l=[2,4,6,8,0,6]\n",
    "data= [i for i in l if i%2==0]\n",
    "data"
   ]
  },
  {
   "cell_type": "code",
   "execution_count": 3,
   "id": "8b9a3029",
   "metadata": {},
   "outputs": [
    {
     "data": {
      "text/plain": [
       "['Apple', 'Bus']"
      ]
     },
     "execution_count": 3,
     "metadata": {},
     "output_type": "execute_result"
    }
   ],
   "source": [
    "l = ['Apple','ball','cat','Bus','fish']\n",
    "data = [i for i in l if i[0].isupper()]\n",
    "data"
   ]
  },
  {
   "cell_type": "code",
   "execution_count": 4,
   "id": "0d9adb26",
   "metadata": {},
   "outputs": [
    {
     "data": {
      "text/plain": [
       "{1: 1, 2: 4, 3: 9, 4: 16, 5: 25}"
      ]
     },
     "execution_count": 4,
     "metadata": {},
     "output_type": "execute_result"
    }
   ],
   "source": [
    "d = {i:i**2 for i in range(1,6)}\n",
    "d"
   ]
  },
  {
   "cell_type": "code",
   "execution_count": 5,
   "id": "40f29e2e",
   "metadata": {},
   "outputs": [
    {
     "data": {
      "text/plain": [
       "{'Apple': 'apple', 'ball': 'ball', 'cat': 'cat', 'Bus': 'bus', 'fish': 'fish'}"
      ]
     },
     "execution_count": 5,
     "metadata": {},
     "output_type": "execute_result"
    }
   ],
   "source": [
    "l = ['Apple','ball','cat','Bus','fish']\n",
    "d= {i:i.lower() for i in l}\n",
    "d"
   ]
  },
  {
   "cell_type": "code",
   "execution_count": 8,
   "id": "afcd7227",
   "metadata": {},
   "outputs": [
    {
     "name": "stdout",
     "output_type": "stream",
     "text": [
      "Enter name =BAC\n",
      "enter phone = 9801912037\n",
      "Enter name =NCLS\n",
      "enter phone = 18327368252\n"
     ]
    },
    {
     "data": {
      "text/plain": [
       "{'BAC': 9801912037, 'NCLS': 18327368252}"
      ]
     },
     "execution_count": 8,
     "metadata": {},
     "output_type": "execute_result"
    }
   ],
   "source": [
    "d= {input(\"Enter name =\"):int(input(\"enter phone = \"))for i in range(2)}\n",
    "d"
   ]
  },
  {
   "cell_type": "code",
   "execution_count": 10,
   "id": "9bbd864b",
   "metadata": {},
   "outputs": [
    {
     "name": "stdout",
     "output_type": "stream",
     "text": [
      "2022-10-19 07:34:29.768455\n"
     ]
    }
   ],
   "source": [
    "import datetime\n",
    "\n",
    "x = datetime.datetime.now()\n",
    "print(x)"
   ]
  },
  {
   "cell_type": "code",
   "execution_count": 12,
   "id": "b801cd8b",
   "metadata": {},
   "outputs": [
    {
     "name": "stdout",
     "output_type": "stream",
     "text": [
      "Enter name=dnfd\n",
      "0:00:02.093816\n"
     ]
    }
   ],
   "source": [
    "import datetime\n",
    "\n",
    "x = datetime.datetime.now()\n",
    "name= input(\"Enter name=\")\n",
    "y= datetime.datetime.now()\n",
    "print(y-x)"
   ]
  },
  {
   "cell_type": "code",
   "execution_count": 13,
   "id": "4ed21dbe",
   "metadata": {},
   "outputs": [],
   "source": [
    "#STRF time imp aafai herney"
   ]
  },
  {
   "cell_type": "code",
   "execution_count": 15,
   "id": "e2e62679",
   "metadata": {},
   "outputs": [
    {
     "data": {
      "text/plain": [
       "['.ipynb_checkpoints',\n",
       " '10 list.ipynb',\n",
       " '11 Tuple.ipynb',\n",
       " '13 Set.ipynb',\n",
       " '14 Function.ipynb',\n",
       " '15Function.ipynb',\n",
       " '16Files.ipynb',\n",
       " '17 Files.ipynb',\n",
       " '18 - Mysql connection.ipynb',\n",
       " '21-inheritance.ipynb',\n",
       " '22BeautifulSoup.ipynb',\n",
       " '4day- if.ipynb',\n",
       " '5 Loop.ipynb',\n",
       " '7th day.ipynb',\n",
       " '8-Strings.ipynb',\n",
       " '9th List .ipynb',\n",
       " 'bill.csv',\n",
       " 'bill.txt',\n",
       " 'Bonus Class.ipynb',\n",
       " 'calc.ipynb',\n",
       " 'Class work.ipynb',\n",
       " 'Classdata.csv',\n",
       " 'covid.csv',\n",
       " 'data.txt',\n",
       " 'data1.txt',\n",
       " 'demofile.txt',\n",
       " 'Dictionary 12.ipynb',\n",
       " 'elif.ipynb',\n",
       " 'FormAutofill.ipynb',\n",
       " 'New_data.csv',\n",
       " 'practice.ipynb',\n",
       " 'practice123.ipynb',\n",
       " 'PracticeFiles.ipynb',\n",
       " 'ScrappingGoogleMyBusiness.ipynb',\n",
       " 'stock.csv',\n",
       " 'stockMarket.ipynb',\n",
       " 'track.ipynb',\n",
       " 'Untitled.ipynb']"
      ]
     },
     "execution_count": 15,
     "metadata": {},
     "output_type": "execute_result"
    }
   ],
   "source": [
    "#Os package\n",
    "import os\n",
    "os.listdir()"
   ]
  },
  {
   "cell_type": "code",
   "execution_count": 16,
   "id": "15394f02",
   "metadata": {},
   "outputs": [
    {
     "data": {
      "text/plain": [
       "['.ipynb_checkpoints',\n",
       " '10 list.ipynb',\n",
       " '11 Tuple.ipynb',\n",
       " '13 Set.ipynb',\n",
       " '14 Function.ipynb',\n",
       " '15Function.ipynb',\n",
       " '16Files.ipynb',\n",
       " '17 Files.ipynb',\n",
       " '18 - Mysql connection.ipynb',\n",
       " '21-inheritance.ipynb',\n",
       " '22BeautifulSoup.ipynb',\n",
       " '4day- if.ipynb',\n",
       " '5 Loop.ipynb',\n",
       " '7th day.ipynb',\n",
       " '8-Strings.ipynb',\n",
       " '9th List .ipynb',\n",
       " 'bill.csv',\n",
       " 'Bonus Class.ipynb',\n",
       " 'calc.ipynb',\n",
       " 'Class work.ipynb',\n",
       " 'Classdata.csv',\n",
       " 'covid.csv',\n",
       " 'data.txt',\n",
       " 'data1.txt',\n",
       " 'demofile.txt',\n",
       " 'Dictionary 12.ipynb',\n",
       " 'elif.ipynb',\n",
       " 'FormAutofill.ipynb',\n",
       " 'New_data.csv',\n",
       " 'practice.ipynb',\n",
       " 'practice123.ipynb',\n",
       " 'PracticeFiles.ipynb',\n",
       " 'ScrappingGoogleMyBusiness.ipynb',\n",
       " 'stock.csv',\n",
       " 'stockMarket.ipynb',\n",
       " 'track.ipynb',\n",
       " 'Untitled.ipynb']"
      ]
     },
     "execution_count": 16,
     "metadata": {},
     "output_type": "execute_result"
    }
   ],
   "source": [
    "os.remove('bill.txt')\n",
    "os.listdir()"
   ]
  },
  {
   "cell_type": "code",
   "execution_count": 17,
   "id": "88976c01",
   "metadata": {},
   "outputs": [
    {
     "data": {
      "text/plain": [
       "['.ipynb_checkpoints',\n",
       " '10 list.ipynb',\n",
       " '11 Tuple.ipynb',\n",
       " '13 Set.ipynb',\n",
       " '14 Function.ipynb',\n",
       " '15Function.ipynb',\n",
       " '16Files.ipynb',\n",
       " '17 Files.ipynb',\n",
       " '18 - Mysql connection.ipynb',\n",
       " '21-inheritance.ipynb',\n",
       " '22BeautifulSoup.ipynb',\n",
       " '4day- if.ipynb',\n",
       " '5 Loop.ipynb',\n",
       " '7th day.ipynb',\n",
       " '8-Strings.ipynb',\n",
       " '9th List .ipynb',\n",
       " 'bill.csv',\n",
       " 'Bonus Class.ipynb',\n",
       " 'calc.ipynb',\n",
       " 'Class work.ipynb',\n",
       " 'Classdata.csv',\n",
       " 'covid.csv',\n",
       " 'data.txt',\n",
       " 'data1.txt',\n",
       " 'demofile.txt',\n",
       " 'Dictionary 12.ipynb',\n",
       " 'elif.ipynb',\n",
       " 'FormAutofill.ipynb',\n",
       " 'newFolder',\n",
       " 'New_data.csv',\n",
       " 'practice.ipynb',\n",
       " 'practice123.ipynb',\n",
       " 'PracticeFiles.ipynb',\n",
       " 'ScrappingGoogleMyBusiness.ipynb',\n",
       " 'stock.csv',\n",
       " 'stockMarket.ipynb',\n",
       " 'track.ipynb',\n",
       " 'Untitled.ipynb']"
      ]
     },
     "execution_count": 17,
     "metadata": {},
     "output_type": "execute_result"
    }
   ],
   "source": [
    "os.mkdir('newFolder')\n",
    "os.listdir()"
   ]
  },
  {
   "cell_type": "code",
   "execution_count": 18,
   "id": "0bb6f01a",
   "metadata": {},
   "outputs": [],
   "source": [
    "os.rename(\"newFolder\",\"prakashFolder\")"
   ]
  },
  {
   "cell_type": "code",
   "execution_count": 20,
   "id": "afbe7e0a",
   "metadata": {},
   "outputs": [],
   "source": [
    "#TIKITAR | KIVy for GUI (\"Basics APP bancha\")"
   ]
  },
  {
   "cell_type": "code",
   "execution_count": null,
   "id": "878af17e",
   "metadata": {},
   "outputs": [],
   "source": []
  }
 ],
 "metadata": {
  "kernelspec": {
   "display_name": "Python 3 (ipykernel)",
   "language": "python",
   "name": "python3"
  },
  "language_info": {
   "codemirror_mode": {
    "name": "ipython",
    "version": 3
   },
   "file_extension": ".py",
   "mimetype": "text/x-python",
   "name": "python",
   "nbconvert_exporter": "python",
   "pygments_lexer": "ipython3",
   "version": "3.9.12"
  }
 },
 "nbformat": 4,
 "nbformat_minor": 5
}
