{
 "cells": [
  {
   "cell_type": "code",
   "execution_count": 7,
   "id": "22fdea21",
   "metadata": {},
   "outputs": [
    {
     "name": "stdout",
     "output_type": "stream",
     "text": [
      "('prakash', 'Mohan', 'Ram', 'Shyam', 'Fish')\n",
      "('Fish', 'Shyam', 'Ram', 'Mohan', 'prakash')\n"
     ]
    }
   ],
   "source": [
    "a = (\"prakash\",\"Mohan\",\"Ram\",\"Shyam\",\"Fish\")\n",
    "print(a[::1])\n",
    "print(a[::-1])"
   ]
  },
  {
   "cell_type": "code",
   "execution_count": 9,
   "id": "f3eda0e9",
   "metadata": {},
   "outputs": [
    {
     "data": {
      "text/plain": [
       "('prakash', 'Mohan', 'Ram', 'Shyam', 'Fish', 'Nishan', 'Shyam')"
      ]
     },
     "execution_count": 9,
     "metadata": {},
     "output_type": "execute_result"
    }
   ],
   "source": [
    "a = (\"prakash\",\"Mohan\",\"Ram\",\"Shyam\",\"Fish\")\n",
    "b= (\"Nishan\",\"Shyam\")\n",
    "c = a+b\n",
    "c"
   ]
  },
  {
   "cell_type": "code",
   "execution_count": 13,
   "id": "363bb822",
   "metadata": {},
   "outputs": [
    {
     "data": {
      "text/plain": [
       "tuple"
      ]
     },
     "execution_count": 13,
     "metadata": {},
     "output_type": "execute_result"
    }
   ],
   "source": [
    "a = (\"prakash\",)\n",
    "type(a)"
   ]
  },
  {
   "cell_type": "code",
   "execution_count": 14,
   "id": "8c0dc939",
   "metadata": {},
   "outputs": [],
   "source": [
    "#No edit No update, No append insert extend\n",
    "#No del remove pop"
   ]
  },
  {
   "cell_type": "code",
   "execution_count": 15,
   "id": "93355910",
   "metadata": {},
   "outputs": [
    {
     "data": {
      "text/plain": [
       "('Mohan', 'Ram', 'Shyam', 'Fish')"
      ]
     },
     "execution_count": 15,
     "metadata": {},
     "output_type": "execute_result"
    }
   ],
   "source": [
    "a = (\"prakash\",\"Mohan\",\"Ram\",\"Shyam\",\"Fish\")\n",
    "b =list(a)\n",
    "del b[0]\n",
    "a = tuple(b)\n",
    "a"
   ]
  },
  {
   "cell_type": "code",
   "execution_count": 16,
   "id": "be7695e4",
   "metadata": {},
   "outputs": [
    {
     "name": "stdout",
     "output_type": "stream",
     "text": [
      "Enter value n = 2\n",
      "enter x = 1\n",
      "enter x = 5\n",
      "(1, 5)\n"
     ]
    }
   ],
   "source": [
    "t = ()\n",
    "n = int(input(\"Enter value n = \"))\n",
    "for i in range(n):\n",
    "    x = int(input(\"enter x = \"))\n",
    "    t = t + (x,) #Making string into tuple by adding bracket and comma\n",
    "print(t)    "
   ]
  },
  {
   "cell_type": "code",
   "execution_count": 17,
   "id": "7327f293",
   "metadata": {},
   "outputs": [
    {
     "name": "stdout",
     "output_type": "stream",
     "text": [
      "sum =  102\n",
      "max =  24\n",
      "min =  10\n",
      "[10, 15, 16, 17, 20, 24]\n"
     ]
    }
   ],
   "source": [
    "t = (10,15,20,17,16,24)\n",
    "print(\"sum = \", sum(t))\n",
    "print(\"max = \", max(t))\n",
    "print(\"min = \", min(t))\n",
    "print(sorted(t))"
   ]
  },
  {
   "cell_type": "code",
   "execution_count": 19,
   "id": "e935ae03",
   "metadata": {},
   "outputs": [
    {
     "data": {
      "text/plain": [
       "((1, 2, 3), (4, 5, 6), (7, 8, 9))"
      ]
     },
     "execution_count": 19,
     "metadata": {},
     "output_type": "execute_result"
    }
   ],
   "source": [
    "x =((1,2,3),\n",
    "    (4,5,6),\n",
    "    (7,8,9))\n",
    "x"
   ]
  },
  {
   "cell_type": "code",
   "execution_count": 22,
   "id": "5c88ff97",
   "metadata": {},
   "outputs": [
    {
     "name": "stdout",
     "output_type": "stream",
     "text": [
      "Enter value n = 2\n",
      "enter name = a\n",
      "enter age = 2\n",
      "enter phone = 3\n",
      "enter name = b\n",
      "enter age = 4\n",
      "enter phone = 5\n",
      "(('a', 2, 3), ('b', 4, 5))\n"
     ]
    }
   ],
   "source": [
    "t = ()\n",
    "n = int(input(\"Enter value n = \"))\n",
    "for i in range(n):\n",
    "    name = input(\"enter name = \")\n",
    "    age = int(input(\"enter age = \"))\n",
    "    phone = int(input(\"enter phone = \"))\n",
    "    t = t + ((name,age,phone),) #Making string into tuple by adding bracket and comma\n",
    "print(t)    "
   ]
  },
  {
   "cell_type": "code",
   "execution_count": 4,
   "id": "efdc09a7",
   "metadata": {},
   "outputs": [
    {
     "data": {
      "text/plain": [
       "[('a', 2, 3), ('b', 4, 5), ('boy', 6, 25)]"
      ]
     },
     "execution_count": 4,
     "metadata": {},
     "output_type": "execute_result"
    }
   ],
   "source": [
    "tl = (('a', 2, 3), ('b', 4, 5))\n",
    "y = list(tl) \n",
    "y\n",
    "#[('a', 2, 3), ('b', 4, 5)] which is tuple inside list\n",
    "y.append(('boy',6,25))\n",
    "y\n"
   ]
  },
  {
   "cell_type": "code",
   "execution_count": 31,
   "id": "3f86105f",
   "metadata": {},
   "outputs": [
    {
     "name": "stdout",
     "output_type": "stream",
     "text": [
      "[['a', 2, 3], ['b', 4, 5], ['boy', 6, 25]]\n"
     ]
    }
   ],
   "source": [
    "a = (('a', 2, 3), ('b', 4, 5), ('boy', 6, 25)) # tuple into list\n",
    "l=[]\n",
    "for i in a:\n",
    "    l.append(list(i))\n",
    "print(l)\n"
   ]
  },
  {
   "cell_type": "code",
   "execution_count": 34,
   "id": "b6a15f3d",
   "metadata": {},
   "outputs": [
    {
     "name": "stdout",
     "output_type": "stream",
     "text": [
      "(('a', 2, 3), ('b', 4, 5), ('boy', 6, 25))\n"
     ]
    }
   ],
   "source": [
    "a = [['a', 2, 3], ['b', 4, 5], ['boy', 6, 25]] # list into tuple\n",
    "l=()\n",
    "for i in a:\n",
    "     l= l+(tuple(i),)\n",
    "print(l)"
   ]
  },
  {
   "cell_type": "code",
   "execution_count": null,
   "id": "ddb28c0b",
   "metadata": {},
   "outputs": [],
   "source": [
    "#Matric where n = row | Handle row and colume \n",
    "# r = ?\n",
    "# c = ?\n",
    "# input x = ?\n",
    "\n",
    "# matrix = [[1,2,3],\n",
    "#           [4,5,6],\n",
    "#           [7,8,9]]\n",
    "\n",
    "\n",
    "# matric = ((1,2,3),\n",
    "#           (4,5,6),\n",
    "#           (7,8,9))"
   ]
  }
 ],
 "metadata": {
  "kernelspec": {
   "display_name": "Python 3 (ipykernel)",
   "language": "python",
   "name": "python3"
  },
  "language_info": {
   "codemirror_mode": {
    "name": "ipython",
    "version": 3
   },
   "file_extension": ".py",
   "mimetype": "text/x-python",
   "name": "python",
   "nbconvert_exporter": "python",
   "pygments_lexer": "ipython3",
   "version": "3.9.12"
  }
 },
 "nbformat": 4,
 "nbformat_minor": 5
}
