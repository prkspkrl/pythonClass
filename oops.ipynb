{
 "cells": [
  {
   "cell_type": "code",
   "execution_count": null,
   "id": "355be1bd",
   "metadata": {},
   "outputs": [],
   "source": [
    "import mysql.connector\n",
    "#importing database\n",
    "database = mysql.connector.connect(\n",
    "host=\"localhost\",\n",
    "user=\"root\",\n",
    "password=\"\",\n",
    "database =\"class63\"    \n",
    ")\n",
    "db = database.cursor()\n",
    "\n",
    "class Database:\n",
    "    def __init__(self):\n",
    "        pass\n",
    "    def insert(self):\n",
    "        pass\n",
    "    \n",
    "    \n",
    "    obj = Database()\n",
    "    obj.insert()"
   ]
  }
 ],
 "metadata": {
  "kernelspec": {
   "display_name": "Python 3 (ipykernel)",
   "language": "python",
   "name": "python3"
  },
  "language_info": {
   "codemirror_mode": {
    "name": "ipython",
    "version": 3
   },
   "file_extension": ".py",
   "mimetype": "text/x-python",
   "name": "python",
   "nbconvert_exporter": "python",
   "pygments_lexer": "ipython3",
   "version": "3.9.12"
  }
 },
 "nbformat": 4,
 "nbformat_minor": 5
}
