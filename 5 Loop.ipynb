{
 "cells": [
  {
   "cell_type": "code",
   "execution_count": 2,
   "id": "4cc1afec",
   "metadata": {},
   "outputs": [
    {
     "name": "stdout",
     "output_type": "stream",
     "text": [
      "0 hello world\n",
      "1 hello world\n",
      "2 hello world\n",
      "3 hello world\n",
      "4 hello world\n"
     ]
    }
   ],
   "source": [
    "for i in range(5):\n",
    "    print(i,\"hello world\")"
   ]
  },
  {
   "cell_type": "code",
   "execution_count": 1,
   "id": "217f05ff",
   "metadata": {},
   "outputs": [
    {
     "name": "stdout",
     "output_type": "stream",
     "text": [
      "hello world\n",
      "hello world\n"
     ]
    }
   ],
   "source": [
    "for i in range(3,5):\n",
    "    print(\"hello world\")"
   ]
  },
  {
   "cell_type": "code",
   "execution_count": 3,
   "id": "1fed0f0d",
   "metadata": {},
   "outputs": [
    {
     "name": "stdout",
     "output_type": "stream",
     "text": [
      "0 hello world\n",
      "2 hello world\n",
      "4 hello world\n"
     ]
    }
   ],
   "source": [
    "for i in range(0,5,2):\n",
    "    print(i,\"hello world\")"
   ]
  },
  {
   "cell_type": "code",
   "execution_count": 4,
   "id": "ad6308c2",
   "metadata": {},
   "outputs": [
    {
     "name": "stdout",
     "output_type": "stream",
     "text": [
      "Enter the n = 5\n",
      "5 * 1 = 5\n",
      "5 * 2 = 10\n",
      "5 * 3 = 15\n",
      "5 * 4 = 20\n",
      "5 * 5 = 25\n",
      "5 * 6 = 30\n",
      "5 * 7 = 35\n",
      "5 * 8 = 40\n",
      "5 * 9 = 45\n",
      "5 * 10 = 50\n"
     ]
    }
   ],
   "source": [
    "n = int(input(\"Enter the n = \"))\n",
    "for i in range(1,11):\n",
    "    print(n,\"*\", i, \"=\", i*n)\n"
   ]
  },
  {
   "cell_type": "code",
   "execution_count": null,
   "id": "1122baa7",
   "metadata": {},
   "outputs": [],
   "source": [
    "for i in range(5,51,5):\n",
    "    print(i)"
   ]
  },
  {
   "cell_type": "code",
   "execution_count": null,
   "id": "9a0ada69",
   "metadata": {},
   "outputs": [],
   "source": [
    "for i in range(5):\n",
    "    x =int(input(\"Enter x\"))"
   ]
  },
  {
   "cell_type": "code",
   "execution_count": null,
   "id": "f25d6c5a",
   "metadata": {},
   "outputs": [
    {
     "name": "stdout",
     "output_type": "stream",
     "text": [
      "Enter Range5\n",
      "Enter x4\n",
      "4\n",
      "Enter x5\n",
      "9\n"
     ]
    }
   ],
   "source": [
    "s= 0\n",
    "n = int(input(\"Enter Range\"))\n",
    "for i in range(n):\n",
    "    x =int(input(\"Enter x\"))\n",
    "    s = s+x\n",
    "    print(s)"
   ]
  },
  {
   "cell_type": "code",
   "execution_count": 5,
   "id": "0abcc064",
   "metadata": {},
   "outputs": [
    {
     "name": "stdout",
     "output_type": "stream",
     "text": [
      "Enter the value5\n",
      "1 1\n",
      "1\n",
      "1 2\n",
      "2\n",
      "2 3\n",
      "6\n",
      "6 4\n",
      "24\n",
      "24 5\n",
      "120\n",
      "120\n"
     ]
    }
   ],
   "source": [
    "#Factorial\n",
    "#4! = 4*3*2*1\n",
    "\n",
    "fac = 1\n",
    "n= int(input(\"Enter the value\"))\n",
    "for i in range(1,n+1):\n",
    "    print(fac, i)\n",
    "    fac = fac*i\n",
    "    print(fac)\n",
    "    \n",
    "print(fac)    "
   ]
  },
  {
   "cell_type": "code",
   "execution_count": 6,
   "id": "892446ad",
   "metadata": {},
   "outputs": [
    {
     "name": "stdout",
     "output_type": "stream",
     "text": [
      "Enter the value5\n",
      "1 1\n",
      "2\n",
      "2 2\n",
      "4\n",
      "4 3\n",
      "7\n",
      "7 4\n",
      "11\n",
      "11 5\n",
      "16\n",
      "16\n"
     ]
    }
   ],
   "source": [
    "#Factorial\n",
    "#4! = 4*3*2*1\n",
    "\n",
    "fac = 1\n",
    "n= int(input(\"Enter the value\"))\n",
    "for i in range(1,n+1):\n",
    "    print(fac, i)\n",
    "    fac = fac+i\n",
    "    print(fac)\n",
    "    \n",
    "print(fac)"
   ]
  },
  {
   "cell_type": "code",
   "execution_count": 1,
   "id": "211a1cd8",
   "metadata": {},
   "outputs": [
    {
     "name": "stdout",
     "output_type": "stream",
     "text": [
      "Enter the value4\n",
      "ab\n",
      "cd\n",
      "ef\n",
      "gh\n",
      "ab\n",
      "cd\n",
      "ef\n",
      "gh\n",
      "\n"
     ]
    }
   ],
   "source": [
    "s = str()\n",
    "n= int(input(\"Enter the value\"))\n",
    "for i in range(n):\n",
    "    x= input()\n",
    "    s = s+x+ \"\\n\"\n",
    "    \n",
    "    \n",
    "print(s)"
   ]
  },
  {
   "cell_type": "code",
   "execution_count": null,
   "id": "6a3dcd40",
   "metadata": {},
   "outputs": [],
   "source": [
    "c =0\n",
    "d = int(input(\"Enter number  \"))\n",
    "for i in range(d):\n",
    "    x = c+i\n",
    "    print(x)"
   ]
  },
  {
   "cell_type": "code",
   "execution_count": null,
   "id": "74d0a8a1",
   "metadata": {},
   "outputs": [],
   "source": []
  }
 ],
 "metadata": {
  "kernelspec": {
   "display_name": "Python 3 (ipykernel)",
   "language": "python",
   "name": "python3"
  },
  "language_info": {
   "codemirror_mode": {
    "name": "ipython",
    "version": 3
   },
   "file_extension": ".py",
   "mimetype": "text/x-python",
   "name": "python",
   "nbconvert_exporter": "python",
   "pygments_lexer": "ipython3",
   "version": "3.9.12"
  }
 },
 "nbformat": 4,
 "nbformat_minor": 5
}
