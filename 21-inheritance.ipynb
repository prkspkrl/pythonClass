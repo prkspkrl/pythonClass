{
 "cells": [
  {
   "cell_type": "code",
   "execution_count": null,
   "id": "f20905a1",
   "metadata": {},
   "outputs": [],
   "source": []
  },
  {
   "cell_type": "code",
   "execution_count": null,
   "id": "15712a17",
   "metadata": {},
   "outputs": [],
   "source": []
  },
  {
   "cell_type": "code",
   "execution_count": null,
   "id": "c07af320",
   "metadata": {},
   "outputs": [],
   "source": []
  },
  {
   "cell_type": "code",
   "execution_count": 10,
   "id": "315c0d37",
   "metadata": {},
   "outputs": [
    {
     "name": "stdout",
     "output_type": "stream",
     "text": [
      "Hello there Ram34ktm\n",
      "Hello world Ram34ktm\n"
     ]
    }
   ],
   "source": [
    "class Info:\n",
    "    def __init__(self,name,age,add):\n",
    "        self.name =name\n",
    "        self.age =age\n",
    "        self.add =add\n",
    "    \n",
    "    def details(self):\n",
    "        return f\"Hello world {self.name}{self.age}{self.add}\"\n",
    "        \n",
    "class Data(Info):\n",
    "    def data(self):\n",
    "        print(f\"Hello there {self.name}{self.age}{self.add}\")\n",
    "        print(super().details())\n",
    "\n",
    "obj = Data(\"Ram\",34,\"ktm\")\n",
    "obj.data()\n",
    "                "
   ]
  },
  {
   "cell_type": "code",
   "execution_count": 13,
   "id": "2a0cc6f4",
   "metadata": {},
   "outputs": [
    {
     "name": "stdout",
     "output_type": "stream",
     "text": [
      "Hello there Ram34ktm\n",
      "Hello world Ram34ktm\n"
     ]
    }
   ],
   "source": [
    "class Info:\n",
    "    def __init__(self,age,add):\n",
    "        self.age =age\n",
    "        self.add =add\n",
    "        \n",
    "        \n",
    "    def details(self):\n",
    "        return f\"Hello world {self.name}{self.age}{self.add}\"\n",
    "        \n",
    "class Data(Info):\n",
    "    def __init__(self,name,age,add):\n",
    "        self.name =name\n",
    "        Info.__init__(self,age,add)\n",
    "    \n",
    "    \n",
    "    def data(self):\n",
    "        print(f\"Hello there {self.name}{self.age}{self.add}\")\n",
    "        print(super().details())\n",
    "\n",
    "obj = Data(\"Ram\",34,\"ktm\")\n",
    "obj.data()"
   ]
  },
  {
   "cell_type": "code",
   "execution_count": 27,
   "id": "1a60d1ad",
   "metadata": {},
   "outputs": [
    {
     "name": "stdout",
     "output_type": "stream",
     "text": [
      "Hello there Ram34ktm\n"
     ]
    }
   ],
   "source": [
    "class Age:\n",
    "    def __init__(self,age):\n",
    "        self.age =age\n",
    "        \n",
    "class Add:\n",
    "    def __init__(self,add):\n",
    "        self.add =add        \n",
    "\n",
    "        \n",
    "class Data(Age,Add):\n",
    "    def __init__(self,name,age,add):\n",
    "        self.name =name\n",
    "        Age.__init__(self,age)\n",
    "        Add.__init__(self,add)\n",
    "    \n",
    "    \n",
    "    def data(self):\n",
    "        print(f\"Hello there {self.name}{self.age}{self.add}\")\n",
    "\n",
    "obj = Data(\"Ram\",34,\"ktm\")\n",
    "obj.data()"
   ]
  },
  {
   "cell_type": "code",
   "execution_count": 26,
   "id": "b2f638f7",
   "metadata": {},
   "outputs": [
    {
     "name": "stdout",
     "output_type": "stream",
     "text": [
      "Hello there Ram34ktm\n",
      "40\n"
     ]
    }
   ],
   "source": [
    "class Age:\n",
    "    def __init__(self,age):\n",
    "        self.age =age\n",
    "        \n",
    "class Add:\n",
    "    def __init__(self,add):\n",
    "        self.add =add        \n",
    "\n",
    "        \n",
    "class Data(Age,Add):\n",
    "    def __init__(self,name,age,add):\n",
    "        self.name =name\n",
    "        Age.__init__(self,age)\n",
    "        Add.__init__(self,add)\n",
    "    \n",
    "    \n",
    "    def data(self):\n",
    "        print(f\"Hello there {self.name}{self.age}{self.add}\")\n",
    "\n",
    "obj = Data(\"Ram\",34,\"ktm\")\n",
    "obj1 = Age(40)\n",
    "obj.data()\n",
    "print(obj1.age)"
   ]
  },
  {
   "cell_type": "code",
   "execution_count": 16,
   "id": "73c2f0f4",
   "metadata": {},
   "outputs": [
    {
     "name": "stdout",
     "output_type": "stream",
     "text": [
      "Hello there Ram34<bound method Add.add of <__main__.Data object at 0x000002237BE2DBB0>>\n"
     ]
    }
   ],
   "source": [
    "class Age:\n",
    "    def __init__(self,age):\n",
    "        self.age =age\n",
    "    def age(self):\n",
    "        return age\n",
    "        \n",
    "class Add(Age):\n",
    "    def __init__(self,age,add):\n",
    "        self.add =add \n",
    "        Age.__init__(self,age)\n",
    "    def add(self):\n",
    "        return self.add\n",
    "        \n",
    "\n",
    "        \n",
    "class Data(Add):\n",
    "    def __init__(self,name,age,add):\n",
    "        self.name =name\n",
    "        Age.__init__(self,age)\n",
    "    \n",
    "    \n",
    "    def data(self):\n",
    "        print(f\"Hello there {self.name}{self.age}{self.add}\")\n",
    "\n",
    "obj = Data(\"Ram\",34,\"ktm\")\n",
    "obj.data()"
   ]
  },
  {
   "cell_type": "code",
   "execution_count": 30,
   "id": "27ef48c8",
   "metadata": {},
   "outputs": [
    {
     "name": "stdout",
     "output_type": "stream",
     "text": [
      "Ram\n",
      "45\n",
      "bara\n"
     ]
    }
   ],
   "source": [
    "# Public\n",
    "class Info:\n",
    "    def __init__(self):\n",
    "        self.name = \"Ram\"\n",
    "        self.add = \"bara\"\n",
    "        self.age = 45\n",
    "        \n",
    "obj = Info()\n",
    "print(obj.name)\n",
    "print(obj.age)\n",
    "print(obj.add)"
   ]
  },
  {
   "cell_type": "code",
   "execution_count": 33,
   "id": "406c46c4",
   "metadata": {},
   "outputs": [
    {
     "name": "stdout",
     "output_type": "stream",
     "text": [
      "Ram\n",
      "45\n",
      "bara\n"
     ]
    }
   ],
   "source": [
    "# protected\n",
    "class Info:\n",
    "    def __init__(self):\n",
    "        self._name = \"Ram\"\n",
    "        self._add = \"bara\"\n",
    "        self._age = 45  #proteted by _ symbol\n",
    "        \n",
    "obj = Info()\n",
    "print(obj._name)\n",
    "print(obj._age)\n",
    "print(obj._add)"
   ]
  },
  {
   "cell_type": "code",
   "execution_count": 37,
   "id": "da559085",
   "metadata": {},
   "outputs": [
    {
     "name": "stdout",
     "output_type": "stream",
     "text": [
      "Ram\n",
      "45\n",
      "bara\n"
     ]
    }
   ],
   "source": [
    "# Access Private Attribute in pyuthon\n",
    "class Info:\n",
    "    def __init__(self):\n",
    "        self.__name = \"Ram\"\n",
    "        self.__add = \"bara\"\n",
    "        self.__age = 45  #private by _ symbol\n",
    "        \n",
    "obj = Info()\n",
    "print(obj._Info__name)\n",
    "print(obj._Info__age)\n",
    "print(obj._Info__add)"
   ]
  },
  {
   "cell_type": "markdown",
   "id": "14614ae2",
   "metadata": {},
   "source": [
    "# Ues of private, protected and public"
   ]
  },
  {
   "cell_type": "code",
   "execution_count": 38,
   "id": "d0f2dd89",
   "metadata": {},
   "outputs": [
    {
     "name": "stdout",
     "output_type": "stream",
     "text": [
      "Hello there Ram34\n",
      "Hello world Ram34ktm\n"
     ]
    }
   ],
   "source": [
    "class Info:\n",
    "    def __init__(self,name,age,add):\n",
    "        self.name =name\n",
    "        self._age =age\n",
    "        self.__add =add\n",
    "    \n",
    "    def details(self):\n",
    "        return f\"Hello world {self.name}{self._age}{self.__add}\"\n",
    "        \n",
    "class Data(Info):\n",
    "    def data(self):\n",
    "        print(f\"Hello there {self.name}{self._age}\")\n",
    "        print(super().details())\n",
    "\n",
    "obj = Data(\"Ram\",34,\"ktm\")\n",
    "obj.data()"
   ]
  },
  {
   "cell_type": "code",
   "execution_count": null,
   "id": "b97cb31a",
   "metadata": {},
   "outputs": [],
   "source": []
  }
 ],
 "metadata": {
  "kernelspec": {
   "display_name": "Python 3 (ipykernel)",
   "language": "python",
   "name": "python3"
  },
  "language_info": {
   "codemirror_mode": {
    "name": "ipython",
    "version": 3
   },
   "file_extension": ".py",
   "mimetype": "text/x-python",
   "name": "python",
   "nbconvert_exporter": "python",
   "pygments_lexer": "ipython3",
   "version": "3.9.12"
  }
 },
 "nbformat": 4,
 "nbformat_minor": 5
}
