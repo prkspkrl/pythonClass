{
 "cells": [
  {
   "cell_type": "code",
   "execution_count": 3,
   "id": "dba97f06",
   "metadata": {},
   "outputs": [],
   "source": [
    "#Dictonary "
   ]
  },
  {
   "cell_type": "code",
   "execution_count": 5,
   "id": "54d71cd8",
   "metadata": {},
   "outputs": [
    {
     "name": "stdout",
     "output_type": "stream",
     "text": [
      "apple\n"
     ]
    }
   ],
   "source": [
    "d = {'a':'apple','b':'ball', 'c':'cat'}\n",
    "print(d['a'])"
   ]
  },
  {
   "cell_type": "code",
   "execution_count": 9,
   "id": "ff6fd0b6",
   "metadata": {},
   "outputs": [
    {
     "data": {
      "text/plain": [
       "{'a': 'CAnt', 'b': 'can'}"
      ]
     },
     "execution_count": 9,
     "metadata": {},
     "output_type": "execute_result"
    }
   ],
   "source": [
    "#d= dict()\n",
    "d = {}\n",
    "d['a'] ='CAnt'\n",
    "d['b'] ='can'\n",
    "d"
   ]
  },
  {
   "cell_type": "code",
   "execution_count": 12,
   "id": "fb399a65",
   "metadata": {},
   "outputs": [
    {
     "name": "stdout",
     "output_type": "stream",
     "text": [
      "entrr n = 2\n",
      "Enter Name = nn\n",
      "enter phone =9865998844\n",
      "Enter Name = l\n",
      "enter phone =345\n",
      "{'nn': 9865998844, 'l': 345}\n"
     ]
    }
   ],
   "source": [
    "d = {}\n",
    "n = int(input(\"entrr n = \"))\n",
    "for i in range(n):\n",
    "    name =input(\"Enter Name = \")\n",
    "    phone= int(input(\"enter phone =\"))\n",
    "    d[name] = phone\n",
    "print(d)    \n"
   ]
  },
  {
   "cell_type": "code",
   "execution_count": 16,
   "id": "244b5fd4",
   "metadata": {},
   "outputs": [
    {
     "name": "stdout",
     "output_type": "stream",
     "text": [
      "nn\n",
      "l\n"
     ]
    }
   ],
   "source": [
    "for i in d: # For key \n",
    "    print(i)"
   ]
  },
  {
   "cell_type": "code",
   "execution_count": 18,
   "id": "3292aff5",
   "metadata": {},
   "outputs": [
    {
     "name": "stdout",
     "output_type": "stream",
     "text": [
      "9865998844\n",
      "345\n"
     ]
    }
   ],
   "source": [
    "for i in d.values(): #For Values\n",
    "    print(i)"
   ]
  },
  {
   "cell_type": "code",
   "execution_count": 24,
   "id": "7082dc90",
   "metadata": {},
   "outputs": [
    {
     "name": "stdout",
     "output_type": "stream",
     "text": [
      "('nn', 9865998844)\n",
      "('l', 345)\n"
     ]
    }
   ],
   "source": [
    "for i in d.items(): #For key and values\n",
    "    print(i)\n",
    "    "
   ]
  },
  {
   "cell_type": "code",
   "execution_count": 21,
   "id": "bc99297a",
   "metadata": {},
   "outputs": [
    {
     "name": "stdout",
     "output_type": "stream",
     "text": [
      "[('nn', 9865998844), ('l', 345)]\n"
     ]
    }
   ],
   "source": [
    "#convert list to list\n",
    "l = []\n",
    "for i in d.items():\n",
    "    l.append(i)\n",
    "    \n",
    "print(l)    "
   ]
  },
  {
   "cell_type": "code",
   "execution_count": 22,
   "id": "47a66765",
   "metadata": {},
   "outputs": [
    {
     "data": {
      "text/plain": [
       "{'nn': 9865998844, 'l': 345}"
      ]
     },
     "execution_count": 22,
     "metadata": {},
     "output_type": "execute_result"
    }
   ],
   "source": [
    "#tomaake dict\n",
    "dict(l)"
   ]
  },
  {
   "cell_type": "code",
   "execution_count": 25,
   "id": "bf6178b1",
   "metadata": {},
   "outputs": [
    {
     "data": {
      "text/plain": [
       "{'b': 'ball', 'c': 'cat'}"
      ]
     },
     "execution_count": 25,
     "metadata": {},
     "output_type": "execute_result"
    }
   ],
   "source": [
    "#del\n",
    "d = {'a':'apple','b':'ball', 'c':'cat'}\n",
    "del d['a']\n",
    "d"
   ]
  },
  {
   "cell_type": "code",
   "execution_count": 32,
   "id": "8a747760",
   "metadata": {},
   "outputs": [
    {
     "name": "stdout",
     "output_type": "stream",
     "text": [
      "{'a': 'apple', 'c': 'cat'}\n",
      "ball\n"
     ]
    }
   ],
   "source": [
    "d = {'a':'apple','b':'ball', 'c':'cat'}\n",
    "x = d.pop('b')\n",
    "print(d)\n",
    "print(x)\n"
   ]
  },
  {
   "cell_type": "code",
   "execution_count": 33,
   "id": "97dc75d9",
   "metadata": {},
   "outputs": [
    {
     "name": "stdout",
     "output_type": "stream",
     "text": [
      "{'a': 'apple', 'b': 'ball', 'c': 'cat', 'p': 'prakash'}\n"
     ]
    }
   ],
   "source": [
    "#Extend\n",
    "d = {'a':'apple','b':'ball', 'c':'cat'}\n",
    "f = {'p': 'prakash'}\n",
    "d.update(f)\n",
    "print(d)"
   ]
  },
  {
   "cell_type": "code",
   "execution_count": 40,
   "id": "a6fd06b2",
   "metadata": {},
   "outputs": [
    {
     "name": "stdout",
     "output_type": "stream",
     "text": [
      "[1415, 1414]\n",
      "1415\n"
     ]
    }
   ],
   "source": [
    "#list inside Dict\n",
    "d = {'Ram':[1415,1414],'shyam':[1212,1214]}\n",
    "print(d['Ram'])\n",
    "print(d['Ram'][0])"
   ]
  },
  {
   "cell_type": "code",
   "execution_count": 43,
   "id": "b8b6bde3",
   "metadata": {},
   "outputs": [
    {
     "data": {
      "text/plain": [
       "{'Ram': [1415, 1414], 'shyam': [1212, 1214], 'Hari': [1616, 1717]}"
      ]
     },
     "execution_count": 43,
     "metadata": {},
     "output_type": "execute_result"
    }
   ],
   "source": [
    "d = {'Ram':[1415,1414],'shyam':[1212,1214]}\n",
    "d['Hari'] = [1616,1717]\n",
    "d"
   ]
  },
  {
   "cell_type": "code",
   "execution_count": 44,
   "id": "ee8aed91",
   "metadata": {},
   "outputs": [
    {
     "name": "stdout",
     "output_type": "stream",
     "text": [
      "entrr n = 2\n",
      "Enter Name = p\n",
      "enter phone =1415\n",
      "enter phone =1414\n",
      "Enter Name = n\n",
      "enter phone =1312\n",
      "enter phone =1416\n",
      "{'p': [1415, 1414], 'n': [1312, 1416]}\n"
     ]
    }
   ],
   "source": [
    "d = {}\n",
    "n = int(input(\"entrr n = \"))\n",
    "for i in range(n):\n",
    "    name =input(\"Enter Name = \")\n",
    "    phone_ntc= int(input(\"enter phone =\"))\n",
    "    phone_ncell= int(input(\"enter phone =\"))\n",
    "    d[name] = [phone_ntc,phone_ncell]\n",
    "print(d)    "
   ]
  },
  {
   "cell_type": "code",
   "execution_count": 48,
   "id": "ecd3a839",
   "metadata": {},
   "outputs": [
    {
     "name": "stdout",
     "output_type": "stream",
     "text": [
      "{'name': 'sita', 'age': 16, 'add': 'bkt'}\n",
      "[{'name': 'ram', 'age': 14, 'add': 'Kathmandu'}, {'name': 'sita', 'age': 16, 'add': 'bkt'}, {'name': 'gita', 'age': 18, 'add': 'btl'}]\n"
     ]
    }
   ],
   "source": [
    "#dict inside list\n",
    "l= [{'name':'ram','age':14, 'add':'Kathmandu'}, \n",
    "    {'name':'sita','age':16, 'add':'bkt'}] #yo dict lai list ma garna sakeney sabai garma sakinxa\n",
    "print(l[1])\n",
    "l.append({'name':'gita','age':18, 'add':'btl'})\n",
    "print(l)"
   ]
  },
  {
   "cell_type": "code",
   "execution_count": 49,
   "id": "65ac306f",
   "metadata": {},
   "outputs": [
    {
     "name": "stdout",
     "output_type": "stream",
     "text": [
      "Enter name = 1\n",
      "Enter name  = 11\n",
      "Enter age  = 11\n",
      "Enter add  = 22\n",
      "[{'name': '11', 'age': '11', 'add': '22'}]\n"
     ]
    }
   ],
   "source": [
    "#ask user data for this code\n",
    "l=[]\n",
    "n=int(input(\"Enter name = \"))\n",
    "for i in range(n):\n",
    "    name=input(\"Enter name  = \")\n",
    "    age=input(\"Enter age  = \")\n",
    "    add=input(\"Enter add  = \")\n",
    "    data = {'name':name, 'age':age, 'add':add}\n",
    "    l.append(data)\n",
    "print(l)    \n"
   ]
  },
  {
   "cell_type": "code",
   "execution_count": null,
   "id": "ba43a661",
   "metadata": {},
   "outputs": [],
   "source": []
  }
 ],
 "metadata": {
  "kernelspec": {
   "display_name": "Python 3 (ipykernel)",
   "language": "python",
   "name": "python3"
  },
  "language_info": {
   "codemirror_mode": {
    "name": "ipython",
    "version": 3
   },
   "file_extension": ".py",
   "mimetype": "text/x-python",
   "name": "python",
   "nbconvert_exporter": "python",
   "pygments_lexer": "ipython3",
   "version": "3.9.12"
  }
 },
 "nbformat": 4,
 "nbformat_minor": 5
}
