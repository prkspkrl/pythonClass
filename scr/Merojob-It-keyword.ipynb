{
 "cells": [
  {
   "cell_type": "code",
   "execution_count": null,
   "id": "bb7ef768",
   "metadata": {},
   "outputs": [],
   "source": [
    "from bs4 import BeautifulSoup\n",
    "import requests\n",
    "import time\n",
    "\n",
    "# print('put some skill')\n",
    "# unfamilar_skill = input(\">\") \n",
    "# print(f'Filtering out {unfamilar_skill}')\n",
    "\n",
    "def find_jobs():\n",
    "    html_text = requests.get('https://merojob.com/search/?q=Developer&start_date=&end_date=').text #.text bring all html text \n",
    "    # print(html_text)\n",
    "\n",
    "    soup = BeautifulSoup(html_text, 'lxml')\n",
    "    jobs = soup.find_all('div', class_ = 'card mt-3 hover-shadow') \n",
    "    # print(job)\n",
    "\n",
    "    for job in jobs:\n",
    "        company_name = job.find('h1', class_ = 'text-primary font-weight-bold media-heading h4').text.replace(' ','')\n",
    "        #replace spece to nothing\n",
    "\n",
    "\n",
    "        skills = job.find('span', itemprop = 'skills')\n",
    "        if skills is not None:\n",
    "            f_skill = skills.text.strip()\n",
    "        else:\n",
    "            f_skill = None \n",
    "\n",
    "    #     if unfamilar_skill not in skills:\n",
    "\n",
    "\n",
    "        Job_expire = job.find('p', class_ = 'text-primary mb-0').text\n",
    "    #     print(Job_expire)\n",
    "\n",
    "\n",
    "        more_info = job.div.div.h1.a['href']\n",
    "        info = 'https://merojob.com'+ more_info\n",
    "\n",
    "\n",
    "        print(f\"Company Name: {company_name.strip()}\")\n",
    "        print(f\"Required Skill: {f_skill}\")\n",
    "        print(f\"More info : {info}\")\n",
    "        print(f\"Job Expire in : {Job_expire.strip()}\")\n",
    "        \n",
    "        print(' ')\n",
    "        \n",
    "if __name__ == '__main__':\n",
    "    while True:\n",
    "        find_jobs()\n",
    "        time_wait = 500\n",
    "        print(f'waiting {time_wait} Minute...')\n",
    "        time.sleep(time_wait * 60)"
   ]
  },
  {
   "cell_type": "code",
   "execution_count": null,
   "id": "5d5dbc00",
   "metadata": {},
   "outputs": [],
   "source": []
  },
  {
   "cell_type": "code",
   "execution_count": null,
   "id": "87ce27eb",
   "metadata": {},
   "outputs": [],
   "source": []
  }
 ],
 "metadata": {
  "kernelspec": {
   "display_name": "Python 3 (ipykernel)",
   "language": "python",
   "name": "python3"
  },
  "language_info": {
   "codemirror_mode": {
    "name": "ipython",
    "version": 3
   },
   "file_extension": ".py",
   "mimetype": "text/x-python",
   "name": "python",
   "nbconvert_exporter": "python",
   "pygments_lexer": "ipython3",
   "version": "3.9.12"
  }
 },
 "nbformat": 4,
 "nbformat_minor": 5
}
