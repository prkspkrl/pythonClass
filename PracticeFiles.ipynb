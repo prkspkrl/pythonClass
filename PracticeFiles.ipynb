{
 "cells": [
  {
   "cell_type": "code",
   "execution_count": 7,
   "id": "0c158b0e",
   "metadata": {},
   "outputs": [
    {
     "name": "stdout",
     "output_type": "stream",
     "text": [
      "already created\n"
     ]
    }
   ],
   "source": [
    "try:\n",
    "    fn = open(\"demofile.txt\",'x')\n",
    "    fn.close()\n",
    "except:\n",
    "    print(\"already created\")"
   ]
  },
  {
   "cell_type": "code",
   "execution_count": 17,
   "id": "70d36258",
   "metadata": {},
   "outputs": [],
   "source": [
    "with open(\"demofile.txt\",'wt') as demofile: \n",
    "    demofile.write('Hello prakash')"
   ]
  },
  {
   "cell_type": "code",
   "execution_count": 65,
   "id": "c45b612c",
   "metadata": {},
   "outputs": [
    {
     "name": "stdout",
     "output_type": "stream",
     "text": [
      "['Hello', 'prakash']\n"
     ]
    }
   ],
   "source": [
    "f = open(\"demofile.txt\",'r')\n",
    "print(f.read().split())\n",
    "f.close()"
   ]
  },
  {
   "cell_type": "code",
   "execution_count": 80,
   "id": "a657f0dc",
   "metadata": {},
   "outputs": [
    {
     "name": "stdout",
     "output_type": "stream",
     "text": [
      "['Hello', 'prakash']\n",
      "['Hello']\n",
      "['prakash']\n"
     ]
    },
    {
     "data": {
      "text/plain": [
       "[['Hello'], ['prakash']]"
      ]
     },
     "execution_count": 80,
     "metadata": {},
     "output_type": "execute_result"
    }
   ],
   "source": [
    "pr =[]\n",
    "\n",
    "f = open(\"demofile.txt\",'r')\n",
    "x = f.read().split()\n",
    "print(x)\n",
    "for i in x:    \n",
    "    y= i.split()\n",
    "    print(y)\n",
    "    pr.append(y)\n",
    "f.close()    \n",
    "pr\n"
   ]
  },
  {
   "cell_type": "code",
   "execution_count": 19,
   "id": "afa14da4",
   "metadata": {},
   "outputs": [
    {
     "name": "stdout",
     "output_type": "stream",
     "text": [
      "[['prakash', 'pokhrel', 26, 28, 'hari', 'nekita', 26, 28]]\n"
     ]
    }
   ],
   "source": [
    "yourlist =[]\n",
    "mylist = ['prakash','pokhrel',26,28,'hari','nekita',26,28]\n",
    "# print(mylist)\n",
    "# yr = yourlist.append('mylist')\n",
    "yourlist.append(mylist)\n",
    "print(yourlist)"
   ]
  },
  {
   "cell_type": "code",
   "execution_count": 9,
   "id": "a0c0a0c1",
   "metadata": {},
   "outputs": [
    {
     "data": {
      "text/plain": [
       "['apple', 'banana', 'cherry', 'orange']"
      ]
     },
     "execution_count": 9,
     "metadata": {},
     "output_type": "execute_result"
    }
   ],
   "source": [
    "fruits = ['apple', 'banana', 'cherry']\n",
    "fruits.append(\"orange\")\n",
    "fruits"
   ]
  },
  {
   "cell_type": "code",
   "execution_count": null,
   "id": "baf10fe6",
   "metadata": {},
   "outputs": [],
   "source": []
  }
 ],
 "metadata": {
  "kernelspec": {
   "display_name": "Python 3 (ipykernel)",
   "language": "python",
   "name": "python3"
  },
  "language_info": {
   "codemirror_mode": {
    "name": "ipython",
    "version": 3
   },
   "file_extension": ".py",
   "mimetype": "text/x-python",
   "name": "python",
   "nbconvert_exporter": "python",
   "pygments_lexer": "ipython3",
   "version": "3.9.12"
  }
 },
 "nbformat": 4,
 "nbformat_minor": 5
}
