{
 "cells": [
  {
   "cell_type": "code",
   "execution_count": 2,
   "id": "74d6bce7",
   "metadata": {},
   "outputs": [
    {
     "name": "stdout",
     "output_type": "stream",
     "text": [
      "File exists: 'data.txt'\n"
     ]
    }
   ],
   "source": [
    "# Create\n",
    "try:\n",
    "    file = open('data1.txt','x')\n",
    "    file.close()\n",
    "except:\n",
    "    print(\"File exists: 'data.txt'\")\n"
   ]
  },
  {
   "cell_type": "code",
   "execution_count": 1,
   "id": "3c0a1a04",
   "metadata": {},
   "outputs": [
    {
     "name": "stdout",
     "output_type": "stream",
     "text": [
      "['Hello World']\n",
      "Hello World\n"
     ]
    }
   ],
   "source": [
    "#READ\n",
    "file = open('data.txt', 'r')\n",
    "x = file.read()\n",
    "print(x.split('/n'))\n",
    "\n",
    "print(x)\n",
    "file.close()"
   ]
  },
  {
   "cell_type": "raw",
   "id": "cdfb5dd6",
   "metadata": {},
   "source": []
  },
  {
   "cell_type": "code",
   "execution_count": 26,
   "id": "7337a92d",
   "metadata": {},
   "outputs": [
    {
     "name": "stdout",
     "output_type": "stream",
     "text": [
      "['Apple 300 3 400\\nBall 400 5 526\\nBanana 600 5 565']\n",
      "Apple 300 3 400\n",
      "Ball 400 5 526\n",
      "Banana 600 5 565\n",
      "['Apple', '300', '3', '400', 'Ball', '400', '5', '526', 'Banana', '600', '5', '565']\n"
     ]
    },
    {
     "data": {
      "text/plain": [
       "[['Apple',\n",
       "  300,\n",
       "  3,\n",
       "  400,\n",
       "  'Ball',\n",
       "  '400',\n",
       "  '5',\n",
       "  '526',\n",
       "  'Banana',\n",
       "  '600',\n",
       "  '5',\n",
       "  '565']]"
      ]
     },
     "execution_count": 26,
     "metadata": {},
     "output_type": "execute_result"
    }
   ],
   "source": [
    "all_data = []\n",
    "file = open('data1.txt', 'r')\n",
    "x = file.read().split('/n')\n",
    "print(x)\n",
    "\n",
    "for i in x:\n",
    "    print(i)\n",
    "    \n",
    "    y= i.split()\n",
    "    print(y)\n",
    "#     print(y[0])\n",
    "    y[1] =int(y[1])\n",
    "    y[2] =int(y[2])\n",
    "    y[3] =int(y[3])\n",
    "    all_data.append(y)\n",
    "file.close()    \n",
    "all_data"
   ]
  },
  {
   "cell_type": "code",
   "execution_count": null,
   "id": "49fa99e8",
   "metadata": {},
   "outputs": [],
   "source": []
  },
  {
   "cell_type": "code",
   "execution_count": 42,
   "id": "b87a7c6d",
   "metadata": {},
   "outputs": [],
   "source": [
    "#Write\n",
    "with open('data.txt','w')as file:\n",
    "    file.write('Hello World')"
   ]
  },
  {
   "cell_type": "code",
   "execution_count": 2,
   "id": "6eba5d1b",
   "metadata": {},
   "outputs": [
    {
     "name": "stdout",
     "output_type": "stream",
     "text": [
      "Enter name = 1\n",
      "Enter name = lnsdj\n",
      "Enter price = 35\n",
      "Enter quantity = 545\n",
      "lnsdj 35 545 19075\n",
      "\n"
     ]
    }
   ],
   "source": [
    "s= str()\n",
    "i= 0\n",
    "all_total = 0\n",
    "n = int(input(\"Enter name = \"))\n",
    "while i <n:\n",
    "    product = input(\"Enter name = \")\n",
    "    price = int(input(\"Enter price = \"))\n",
    "    quantity = int(input(\"Enter quantity = \"))\n",
    "    total= price*quantity\n",
    "    all_total = all_total+total\n",
    "    s= s+f\"{product} {price} {quantity} {total}\\n\"\n",
    "    i=i+1\n",
    "print(s)\n",
    "\n",
    "with open('bill.txt','w') as file:\n",
    "    file.write(s)"
   ]
  },
  {
   "cell_type": "code",
   "execution_count": 46,
   "id": "aa154b53",
   "metadata": {},
   "outputs": [
    {
     "name": "stdout",
     "output_type": "stream",
     "text": [
      "how many data = 2\n",
      "Enter name = dd\n",
      "Enter price = 54\n",
      "Enter quantity = 55\n",
      "Enter name = sss\n",
      "Enter price = 5\n",
      "Enter quantity = 5\n",
      "dd,54,55,2970\n",
      "sss,5,5,25\n",
      "\n"
     ]
    }
   ],
   "source": [
    "s= str()\n",
    "i= 0\n",
    "all_total = 0\n",
    "n = int(input(\"how many data = \"))\n",
    "while i <n:\n",
    "    product = input(\"Enter name = \")\n",
    "    price = int(input(\"Enter price = \"))\n",
    "    quantity = int(input(\"Enter quantity = \"))\n",
    "    total= price*quantity\n",
    "    all_total = all_total+total\n",
    "    s= s+f\"{product},{price},{quantity},{total}\\n\"\n",
    "    i=i+1\n",
    "print(s)\n",
    "\n",
    "with open('bill.csv','w') as file:\n",
    "    file.write('Name,Price,Quantity,Total\\n')\n",
    "    file.write(s)"
   ]
  },
  {
   "cell_type": "code",
   "execution_count": 5,
   "id": "c80c1fd6",
   "metadata": {},
   "outputs": [
    {
     "data": {
      "text/plain": [
       "'C:\\\\Users\\\\User\\\\Desktop\\\\python'"
      ]
     },
     "execution_count": 5,
     "metadata": {},
     "output_type": "execute_result"
    }
   ],
   "source": [
    "pwd\n"
   ]
  },
  {
   "cell_type": "code",
   "execution_count": 47,
   "id": "64fe28f9",
   "metadata": {},
   "outputs": [
    {
     "data": {
      "text/html": [
       "<div>\n",
       "<style scoped>\n",
       "    .dataframe tbody tr th:only-of-type {\n",
       "        vertical-align: middle;\n",
       "    }\n",
       "\n",
       "    .dataframe tbody tr th {\n",
       "        vertical-align: top;\n",
       "    }\n",
       "\n",
       "    .dataframe thead th {\n",
       "        text-align: right;\n",
       "    }\n",
       "</style>\n",
       "<table border=\"1\" class=\"dataframe\">\n",
       "  <thead>\n",
       "    <tr style=\"text-align: right;\">\n",
       "      <th></th>\n",
       "      <th>Name</th>\n",
       "      <th>Price</th>\n",
       "      <th>Quantity</th>\n",
       "      <th>Total</th>\n",
       "    </tr>\n",
       "  </thead>\n",
       "  <tbody>\n",
       "    <tr>\n",
       "      <th>0</th>\n",
       "      <td>dd</td>\n",
       "      <td>54</td>\n",
       "      <td>55</td>\n",
       "      <td>2970</td>\n",
       "    </tr>\n",
       "    <tr>\n",
       "      <th>1</th>\n",
       "      <td>sss</td>\n",
       "      <td>5</td>\n",
       "      <td>5</td>\n",
       "      <td>25</td>\n",
       "    </tr>\n",
       "  </tbody>\n",
       "</table>\n",
       "</div>"
      ],
      "text/plain": [
       "  Name  Price  Quantity  Total\n",
       "0   dd     54        55   2970\n",
       "1  sss      5         5     25"
      ]
     },
     "execution_count": 47,
     "metadata": {},
     "output_type": "execute_result"
    }
   ],
   "source": [
    "import pandas as pd\n",
    "df = pd.read_csv('bill.csv')\n",
    "df"
   ]
  },
  {
   "cell_type": "code",
   "execution_count": null,
   "id": "4b5ef3ed",
   "metadata": {},
   "outputs": [],
   "source": []
  }
 ],
 "metadata": {
  "kernelspec": {
   "display_name": "Python 3 (ipykernel)",
   "language": "python",
   "name": "python3"
  },
  "language_info": {
   "codemirror_mode": {
    "name": "ipython",
    "version": 3
   },
   "file_extension": ".py",
   "mimetype": "text/x-python",
   "name": "python",
   "nbconvert_exporter": "python",
   "pygments_lexer": "ipython3",
   "version": "3.9.12"
  }
 },
 "nbformat": 4,
 "nbformat_minor": 5
}
